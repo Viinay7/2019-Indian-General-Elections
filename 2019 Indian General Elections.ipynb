{
 "cells": [
  {
   "cell_type": "code",
   "execution_count": 14,
   "id": "b49d3241",
   "metadata": {},
   "outputs": [],
   "source": [
    "try:\n",
    "    import geopandas as gpd\n",
    "except ModuleNotFoundError:\n",
    "    !pip install geopandas\n",
    "    import geopandas as gpd\n",
    "\n",
    "try:\n",
    "    import cufflinks as cf\n",
    "except ModuleNotFoundError:\n",
    "    !pip install cufflinks\n",
    "    import cufflinks as cf\n",
    "    \n",
    "try:\n",
    "    from wordcloud import WordCloud, ImageColorGenerator\n",
    "except ModuleNotFoundError:\n",
    "    !pip install wordcloud\n",
    "    from wordcloud import WordCloud, ImageColorGenerator\n",
    "import pandas as pd"
   ]
  },
  {
   "cell_type": "code",
   "execution_count": 15,
   "id": "f64521a4",
   "metadata": {},
   "outputs": [
    {
     "data": {
      "text/html": [
       "        <script type=\"text/javascript\">\n",
       "        window.PlotlyConfig = {MathJaxConfig: 'local'};\n",
       "        if (window.MathJax && window.MathJax.Hub && window.MathJax.Hub.Config) {window.MathJax.Hub.Config({SVG: {font: \"STIX-Web\"}});}\n",
       "        if (typeof require !== 'undefined') {\n",
       "        require.undef(\"plotly\");\n",
       "        requirejs.config({\n",
       "            paths: {\n",
       "                'plotly': ['https://cdn.plot.ly/plotly-2.12.1.min']\n",
       "            }\n",
       "        });\n",
       "        require(['plotly'], function(Plotly) {\n",
       "            window._Plotly = Plotly;\n",
       "        });\n",
       "        }\n",
       "        </script>\n",
       "        "
      ]
     },
     "metadata": {},
     "output_type": "display_data"
    },
    {
     "data": {
      "text/html": [
       "        <script type=\"text/javascript\">\n",
       "        window.PlotlyConfig = {MathJaxConfig: 'local'};\n",
       "        if (window.MathJax && window.MathJax.Hub && window.MathJax.Hub.Config) {window.MathJax.Hub.Config({SVG: {font: \"STIX-Web\"}});}\n",
       "        if (typeof require !== 'undefined') {\n",
       "        require.undef(\"plotly\");\n",
       "        requirejs.config({\n",
       "            paths: {\n",
       "                'plotly': ['https://cdn.plot.ly/plotly-2.12.1.min']\n",
       "            }\n",
       "        });\n",
       "        require(['plotly'], function(Plotly) {\n",
       "            window._Plotly = Plotly;\n",
       "        });\n",
       "        }\n",
       "        </script>\n",
       "        "
      ]
     },
     "metadata": {},
     "output_type": "display_data"
    }
   ],
   "source": [
    "import os\n",
    "for dirname, _, filenames in os.walk('/kaggle/input'):\n",
    "    for filename in filenames:\n",
    "        print(os.path.join(dirname, filename))\n",
    "\n",
    "import os, sys\n",
    "from collections import defaultdict\n",
    "from urllib.request import urlopen\n",
    "import json\n",
    "import plotly.graph_objects as go\n",
    "from plotly.subplots import make_subplots\n",
    "from ipywidgets import widgets\n",
    "import geopandas as gpd\n",
    "import matplotlib.pyplot as plt\n",
    "import seaborn as sns\n",
    "%matplotlib inline\n",
    "import random\n",
    "from plotly.offline import download_plotlyjs, init_notebook_mode, plot, iplot\n",
    "import plotly.express as px\n",
    "import plotly.graph_objects as go\n",
    "import plotly.figure_factory as ff\n",
    "from plotly.colors import n_colors\n",
    "from plotly.subplots import make_subplots\n",
    "init_notebook_mode(connected=True)\n",
    "import cufflinks as cf\n",
    "cf.go_offline()\n",
    "from wordcloud import WordCloud, ImageColorGenerator\n",
    "from PIL import Image\n",
    "from sklearn.utils import resample\n",
    "from sklearn.ensemble import RandomForestClassifier\n",
    "from sklearn.model_selection import cross_val_score"
   ]
  },
  {
   "cell_type": "code",
   "execution_count": 16,
   "id": "84f3a513",
   "metadata": {},
   "outputs": [
    {
     "data": {
      "text/html": [
       "<div>\n",
       "<style scoped>\n",
       "    .dataframe tbody tr th:only-of-type {\n",
       "        vertical-align: middle;\n",
       "    }\n",
       "\n",
       "    .dataframe tbody tr th {\n",
       "        vertical-align: top;\n",
       "    }\n",
       "\n",
       "    .dataframe thead th {\n",
       "        text-align: right;\n",
       "    }\n",
       "</style>\n",
       "<table border=\"1\" class=\"dataframe\">\n",
       "  <thead>\n",
       "    <tr style=\"text-align: right;\">\n",
       "      <th></th>\n",
       "      <th>State</th>\n",
       "      <th>Constituency</th>\n",
       "      <th>Votes</th>\n",
       "      <th>Percentage</th>\n",
       "      <th>Party</th>\n",
       "      <th>Candidate</th>\n",
       "    </tr>\n",
       "  </thead>\n",
       "  <tbody>\n",
       "    <tr>\n",
       "      <th>0</th>\n",
       "      <td>Andaman &amp; Nicobar Islands</td>\n",
       "      <td>Andaman &amp; Nicobar Islands</td>\n",
       "      <td>95308</td>\n",
       "      <td>45.98</td>\n",
       "      <td>Indian National Congress</td>\n",
       "      <td>KULDEEP RAI SHARMA</td>\n",
       "    </tr>\n",
       "    <tr>\n",
       "      <th>1</th>\n",
       "      <td>Andhra Pradesh</td>\n",
       "      <td>Amalapuram</td>\n",
       "      <td>485313</td>\n",
       "      <td>39.43</td>\n",
       "      <td>Yuvajana Sramika Rythu Congress Party</td>\n",
       "      <td>CHINTA ANURADHA</td>\n",
       "    </tr>\n",
       "    <tr>\n",
       "      <th>2</th>\n",
       "      <td>Andhra Pradesh</td>\n",
       "      <td>Anakapalli</td>\n",
       "      <td>586226</td>\n",
       "      <td>47.33</td>\n",
       "      <td>Yuvajana Sramika Rythu Congress Party</td>\n",
       "      <td>Dr.Beesetti Venkata Satyavathi</td>\n",
       "    </tr>\n",
       "    <tr>\n",
       "      <th>3</th>\n",
       "      <td>Andhra Pradesh</td>\n",
       "      <td>Anantapur</td>\n",
       "      <td>695208</td>\n",
       "      <td>51.79</td>\n",
       "      <td>Yuvajana Sramika Rythu Congress Party</td>\n",
       "      <td>TALARI RANGAIAH</td>\n",
       "    </tr>\n",
       "    <tr>\n",
       "      <th>4</th>\n",
       "      <td>Andhra Pradesh</td>\n",
       "      <td>Aruku</td>\n",
       "      <td>562190</td>\n",
       "      <td>52.32</td>\n",
       "      <td>Yuvajana Sramika Rythu Congress Party</td>\n",
       "      <td>GODDETI. MADHAVI</td>\n",
       "    </tr>\n",
       "  </tbody>\n",
       "</table>\n",
       "</div>"
      ],
      "text/plain": [
       "                       State                Constituency   Votes  Percentage  \\\n",
       "0  Andaman & Nicobar Islands  Andaman & Nicobar Islands    95308       45.98   \n",
       "1             Andhra Pradesh                  Amalapuram  485313       39.43   \n",
       "2             Andhra Pradesh                  Anakapalli  586226       47.33   \n",
       "3             Andhra Pradesh                   Anantapur  695208       51.79   \n",
       "4             Andhra Pradesh                       Aruku  562190       52.32   \n",
       "\n",
       "                                   Party                       Candidate  \n",
       "0               Indian National Congress              KULDEEP RAI SHARMA  \n",
       "1  Yuvajana Sramika Rythu Congress Party                 CHINTA ANURADHA  \n",
       "2  Yuvajana Sramika Rythu Congress Party  Dr.Beesetti Venkata Satyavathi  \n",
       "3  Yuvajana Sramika Rythu Congress Party                 TALARI RANGAIAH  \n",
       "4  Yuvajana Sramika Rythu Congress Party                GODDETI. MADHAVI  "
      ]
     },
     "execution_count": 16,
     "metadata": {},
     "output_type": "execute_result"
    }
   ],
   "source": [
    "vote = pd.read_csv(\"C:/Users/viina/Downloads/archive (4)/2019_Results_Winning_Candidate.csv\")\n",
    "vote.head()"
   ]
  },
  {
   "cell_type": "code",
   "execution_count": 17,
   "id": "3d80b74b",
   "metadata": {},
   "outputs": [
    {
     "data": {
      "text/plain": [
       "State           0\n",
       "Constituency    0\n",
       "Votes           0\n",
       "Percentage      0\n",
       "Party           0\n",
       "Candidate       0\n",
       "dtype: int64"
      ]
     },
     "execution_count": 17,
     "metadata": {},
     "output_type": "execute_result"
    }
   ],
   "source": [
    "vote.isnull().sum()"
   ]
  },
  {
   "cell_type": "code",
   "execution_count": 18,
   "id": "06c79f49",
   "metadata": {},
   "outputs": [
    {
     "data": {
      "text/plain": [
       "array([], dtype=object)"
      ]
     },
     "execution_count": 18,
     "metadata": {},
     "output_type": "execute_result"
    }
   ],
   "source": [
    "vote[vote.Party.isnull()==True]['Candidate'].unique()"
   ]
  },
  {
   "cell_type": "code",
   "execution_count": 19,
   "id": "4d370cc0",
   "metadata": {
    "scrolled": false
   },
   "outputs": [
    {
     "name": "stdout",
     "output_type": "stream",
     "text": [
      "                       State                Constituency   Votes  Percentage  \\\n",
      "0  Andaman & Nicobar Islands  Andaman & Nicobar Islands    95308       45.98   \n",
      "1             Andhra Pradesh                  Amalapuram  485313       39.43   \n",
      "2             Andhra Pradesh                  Anakapalli  586226       47.33   \n",
      "3             Andhra Pradesh                   Anantapur  695208       51.79   \n",
      "4             Andhra Pradesh                       Aruku  562190       52.32   \n",
      "\n",
      "                                   Party                       Candidate  \n",
      "0               Indian National Congress              KULDEEP RAI SHARMA  \n",
      "1  Yuvajana Sramika Rythu Congress Party                 CHINTA ANURADHA  \n",
      "2  Yuvajana Sramika Rythu Congress Party  Dr.Beesetti Venkata Satyavathi  \n",
      "3  Yuvajana Sramika Rythu Congress Party                 TALARI RANGAIAH  \n",
      "4  Yuvajana Sramika Rythu Congress Party                GODDETI. MADHAVI  \n"
     ]
    },
    {
     "data": {
      "application/vnd.plotly.v1+json": {
       "config": {
        "plotlyServerURL": "https://plot.ly"
       },
       "data": [
        {
         "alignmentgroup": "True",
         "hovertemplate": "Party=Indian National Congress<br>Constituency=%{x}<br>Winning Percentage=%{y}<extra></extra>",
         "legendgroup": "Indian National Congress",
         "marker": {
          "color": "#636efa",
          "pattern": {
           "shape": ""
          }
         },
         "name": "Indian National Congress",
         "offsetgroup": "Indian National Congress",
         "orientation": "v",
         "showlegend": true,
         "textposition": "auto",
         "type": "bar",
         "x": [
          "Andaman & Nicobar Islands ",
          "Barpeta",
          "Kaliabor",
          "Nowgong",
          "Kishanganj",
          "BASTAR",
          "KORBA",
          "South Goa",
          "Singhbhum",
          "Bangalore Rural",
          "Alathur",
          "Attingal",
          "Chalakudy",
          "Ernakulam",
          "Idukki",
          "Kannur",
          "Kasaragod",
          "Kozhikode",
          "Mavelikkara",
          "Palakkad",
          "Pathanamthitta",
          "Thiruvananthapuram",
          "Thrissur",
          "Vadakara",
          "Wayanad",
          "CHHINDWARA",
          "Chandrapur",
          "Shillong",
          "Koraput",
          "Puducherry",
          "Amritsar",
          "Anandpur Sahib",
          "Faridkot",
          "Fatehgarh Sahib",
          "Jalandhar",
          "Khadoor Sahib",
          "Ludhiana",
          "Patiala",
          "Arani",
          "Kanniyakumari",
          "Karur",
          "Krishnagiri",
          "Sivaganga",
          "Thiruvallur",
          "Tiruchirappalli",
          "Virudhunagar",
          "Bhongir",
          "Malkajgiri",
          "Nalgonda",
          "Rae Bareli",
          "Baharampur",
          "Maldaha Dakshin"
         ],
         "xaxis": "x",
         "y": [
          45.98,
          44.23,
          55.18,
          49.53,
          33.32,
          44.1,
          46.03,
          47.47,
          49.11,
          54.15,
          52.4,
          37.91,
          47.81,
          50.79,
          54.23,
          50.27,
          43.18,
          45.85,
          45.36,
          38.83,
          37.11,
          41.19,
          39.84,
          49.43,
          64.67,
          47.06,
          45.18,
          53.52,
          34.36,
          56.27,
          51.78,
          39.57,
          42.98,
          41.75,
          37.85,
          43.95,
          36.66,
          45.17,
          54,
          59.83,
          63.06,
          52.64,
          52.2,
          54.49,
          59.28,
          43.81,
          43.94,
          38.63,
          44.74,
          55.8,
          45.47,
          34.73
         ],
         "yaxis": "y"
        },
        {
         "alignmentgroup": "True",
         "hovertemplate": "Party=Yuvajana Sramika Rythu Congress Party<br>Constituency=%{x}<br>Winning Percentage=%{y}<extra></extra>",
         "legendgroup": "Yuvajana Sramika Rythu Congress Party",
         "marker": {
          "color": "#EF553B",
          "pattern": {
           "shape": ""
          }
         },
         "name": "Yuvajana Sramika Rythu Congress Party",
         "offsetgroup": "Yuvajana Sramika Rythu Congress Party",
         "orientation": "v",
         "showlegend": true,
         "textposition": "auto",
         "type": "bar",
         "x": [
          "Amalapuram",
          "Anakapalli",
          "Anantapur",
          "Aruku",
          "Bapatla",
          "Chittoor",
          "Eluru",
          "Hindupur",
          "Kadapa",
          "Kurnool",
          "Machilipatnam",
          "Nandyal",
          "Narasaraopet",
          "Narsapuram",
          "Nellore",
          "Ongole",
          "Rajahmundry",
          "Rajampet",
          "Tirupati",
          "Visakhapatnam",
          "Vizianagaram",
          "Kakinada"
         ],
         "xaxis": "x",
         "y": [
          39.43,
          47.33,
          51.79,
          52.32,
          47.24,
          52.05,
          50.97,
          52.79,
          63.8,
          50.98,
          46.02,
          55.49,
          51.83,
          38.11,
          53.13,
          55.07,
          46.55,
          57.35,
          55.03,
          35.24,
          47.49,
          43.54
         ],
         "yaxis": "y"
        },
        {
         "alignmentgroup": "True",
         "hovertemplate": "Party=Telugu Desam<br>Constituency=%{x}<br>Winning Percentage=%{y}<extra></extra>",
         "legendgroup": "Telugu Desam",
         "marker": {
          "color": "#00cc96",
          "pattern": {
           "shape": ""
          }
         },
         "name": "Telugu Desam",
         "offsetgroup": "Telugu Desam",
         "orientation": "v",
         "showlegend": true,
         "textposition": "auto",
         "type": "bar",
         "x": [
          "Srikakulam",
          "Vijayawada",
          "Guntur"
         ],
         "xaxis": "x",
         "y": [
          46.19,
          45.04,
          43.5
         ],
         "yaxis": "y"
        },
        {
         "alignmentgroup": "True",
         "hovertemplate": "Party=Bharatiya Janata Party<br>Constituency=%{x}<br>Winning Percentage=%{y}<extra></extra>",
         "legendgroup": "Bharatiya Janata Party",
         "marker": {
          "color": "#ab63fa",
          "pattern": {
           "shape": ""
          }
         },
         "name": "Bharatiya Janata Party",
         "offsetgroup": "Bharatiya Janata Party",
         "orientation": "v",
         "showlegend": true,
         "textposition": "auto",
         "type": "bar",
         "x": [
          "ARUNACHAL EAST",
          "ARUNACHAL WEST",
          "Autonomous District",
          "Dibrugarh",
          "Gauhati",
          "Jorhat",
          "Karimganj",
          "Lakhimpur",
          "Mangaldoi",
          "Silchar",
          "Tezpur",
          "Araria",
          "Arrah",
          "Aurangabad",
          "Begusarai",
          "Buxar",
          "Darbhanga",
          "Madhubani",
          "Maharajganj",
          "Muzaffarpur",
          "Paschim Champaran",
          "Pataliputra",
          "Patna Sahib",
          "Purvi Champaran",
          "Saran",
          "Sasaram (SC)",
          "Sheohar",
          "Ujiarpur",
          "CHANDIGARH",
          "BILASPUR",
          "DURG",
          "JANJGIR-CHAMPA",
          "KANKER",
          "MAHASAMUND",
          "RAIGARH",
          "RAIPUR",
          "RAJNANDGAON",
          "SARGUJA",
          "Daman & diu",
          "North Goa",
          "Ahmedabad East",
          "Ahmedabad West",
          "Amreli",
          "Anand",
          "Banaskantha",
          "Bardoli",
          "Bharuch",
          "Bhavnagar",
          "Chhota Udaipur",
          "Dahod",
          "Gandhinagar",
          "Jamnagar",
          "Junagadh",
          "Kachchh",
          "Kheda",
          "Mahesana",
          "Navsari",
          "Panchmahal",
          "Patan",
          "Porbandar",
          "Rajkot",
          "Sabarkantha",
          "Surat",
          "Surendranagar",
          "Vadodara",
          "Valsad",
          "Ambala",
          "Bhiwani-Mahendragarh",
          "Faridabad",
          "Gurgaon",
          "Hisar",
          "Karnal",
          "Kurukshetra",
          "Rohtak",
          "Sirsa",
          "Sonipat",
          "Hamirpur",
          "Kangra",
          "Mandi",
          "Shimla",
          "Jammu",
          "Ladakh",
          "Udhampur",
          "Chatra",
          "Dhanbad",
          "Dumka",
          "Godda",
          "Hazaribagh",
          "Jamshedpur",
          "Khunti",
          "Kodarma",
          "Lohardaga",
          "Palamau",
          "Ranchi",
          "Bagalkot",
          "Bangalore central",
          "Bangalore North",
          "Bangalore South",
          "Belgaum",
          "Bellary",
          "Bidar",
          "Bijapur",
          "Chamarajanagar",
          "Chikkballapur",
          "Chikkodi",
          "Chitradurga",
          "Dakshina Kannada",
          "Davanagere",
          "Dharwad",
          "Gulbarga",
          "Haveri",
          "Kolar",
          "Koppal",
          "Mysore",
          "Raichur",
          "Shimoga",
          "Tumkur",
          "Udupi Chikmagalur",
          "Uttara Kannada",
          "BALAGHAT",
          "BETUL",
          "BHIND",
          "BHOPAL",
          "DAMOH",
          "DEWAS",
          "DHAR",
          "GUNA",
          "GWALIOR",
          "HOSHANGABAD",
          "INDORE",
          "JABALPUR",
          "KHAJURAHO",
          "KHANDWA",
          "KHARGONE",
          "MANDLA",
          "MANDSOUR",
          "MORENA",
          "RAJGARH",
          "RATLAM",
          "REWA",
          "SAGAR",
          "SATNA",
          "SHAHDOL",
          "SIDHI",
          "TIKAMGARH",
          "UJJAIN",
          "VIDISHA",
          "Ahmadnagar",
          "Akola",
          "Beed",
          "Bhandara - gondiya",
          "Bhiwandi",
          "Dhule",
          "Dindori",
          "Gadchiroli-Chimur",
          "Jalgaon",
          "Jalna",
          "Latur",
          "Madha",
          "Mumbai North",
          "Mumbai North central",
          "Mumbai North East",
          "Nagpur",
          "Nanded",
          "Nandurbar",
          "Pune",
          "Raver",
          "Sangli",
          "Solapur",
          "Wardha",
          "Inner manipur",
          "CHANDNI CHOWK",
          "EAST DELHI",
          "NEW DELHI",
          "NORTH EAST DELHI",
          "NORTH WEST DELHI",
          "SOUTH DELHI",
          "WEST DELHI",
          "Balasore",
          "Bargarh",
          "Bhubaneswar",
          "Bolangir",
          "Kalahandi",
          "Mayurbhanj",
          "Sambalpur",
          "Sundargarh",
          "Gurdaspur",
          "Hoshiarpur",
          "Ajmer",
          "Alwar",
          "Banswara",
          "Barmer",
          "BHARATPUR",
          "Bhilwara",
          "Bikaner (SC)",
          "Chittorgarh",
          "Churu",
          "Dausa",
          "Ganganagar",
          "Jaipur",
          "Jaipur Rural",
          "Jalore",
          "JHALAWAR-BARAN",
          "Jhunjhunu",
          "Jodhpur",
          "KARAULI-DHOLPUR",
          "Kota",
          "Pali",
          "Rajsamand",
          "Sikar",
          "TONK-SAWAI MADHOPUR",
          "Udaipur",
          "Adilabad",
          "Karimnagar",
          "Nizamabad",
          "Secundrabad",
          "Tripura East",
          "Tripura West",
          "Agra",
          "Akbarpur",
          "Aligarh",
          "Allahabad",
          "Amethi",
          "Aonla",
          "Badaun",
          "Baghpat",
          "Bahraich",
          "Ballia",
          "Banda",
          "Bansgaon",
          "Barabanki",
          "Bareilly",
          "Basti",
          "Bhadohi",
          "Bulandshahr",
          "Chandauli",
          "Deoria",
          "Dhaurahra",
          "Domariyaganj",
          "Etah",
          "Etawah",
          "Faizabad",
          "Farrukhabad",
          "Fatehpur",
          "Fatehpur Sikri",
          "Firozabad",
          "Gautam Buddha Nagar",
          "Ghaziabad",
          "Gonda",
          "Gorakhpur",
          "Hamirpur",
          "Hardoi",
          "Hathras",
          "Jalaun",
          "Jhansi",
          "Kairana",
          "Kaiserganj",
          "Kannauj",
          "Kanpur",
          "Kaushambi",
          "Kheri",
          "Kushi Nagar",
          "Lucknow",
          "Machhlishahr",
          "Maharajganj",
          "Mathura",
          "Meerut",
          "Misrikh",
          "Mohanlalganj",
          "Muzaffarnagar",
          "Phulpur",
          "Pilibhit",
          "Pratapgarh",
          "Salempur",
          "Sant Kabir Nagar",
          "Shahjahanpur",
          "Sitapur",
          "Sultanpur",
          "Unnao",
          "Varanasi",
          "Almora",
          "Garhwal",
          "Hardwar",
          "Nainital-udhamsingh Nagar",
          "Tehri Garhwal",
          "Alipurduars",
          "Asansol",
          "Balurghat",
          "Bangaon",
          "Bankura",
          "Bardhaman Durgapur",
          "Barrackpore",
          "Bishnupur",
          "Cooch behar",
          "Darjeeling",
          "Hooghly",
          "Jalpaiguri",
          "Jhargram",
          "Maldaha Uttar",
          "Medinipur",
          "Purulia",
          "Raiganj",
          "Ranaghat"
         ],
         "xaxis": "x",
         "y": [
          52.38,
          63.02,
          61.73,
          64.94,
          57.2,
          51.35,
          44.62,
          60.49,
          48.83,
          52.59,
          57.48,
          52.87,
          52.42,
          45.83,
          56.48,
          47.94,
          60.79,
          61.83,
          56.17,
          63.03,
          59.6,
          47.28,
          61.85,
          57.81,
          53.03,
          50.76,
          60.59,
          56.11,
          50.64,
          52.47,
          61.02,
          45.91,
          47.12,
          50.44,
          48.76,
          60.01,
          50.68,
          51.82,
          42.98,
          57.12,
          67.17,
          64.35,
          58.19,
          57.1,
          61.62,
          55.06,
          55.47,
          63.51,
          62.03,
          52.84,
          69.67,
          58.52,
          54.51,
          62.26,
          65.04,
          60.96,
          74.37,
          67.56,
          56.24,
          59.36,
          63.47,
          57.62,
          74.47,
          58.63,
          72.3,
          61.25,
          56.72,
          63.45,
          68.8,
          60.94,
          51.13,
          70.08,
          55.98,
          47.01,
          52.16,
          52.03,
          69.04,
          72.02,
          68.75,
          66.35,
          58.02,
          33.94,
          61.38,
          57.03,
          66.03,
          47.26,
          53.4,
          67.42,
          59.4,
          45.97,
          62.26,
          45.45,
          62.46,
          57.21,
          55.17,
          50.35,
          52.87,
          62.2,
          63.22,
          50.44,
          52.41,
          57.22,
          44.74,
          53.78,
          52.98,
          50.26,
          57.57,
          54.66,
          56.43,
          52.14,
          53.97,
          56.35,
          49.3,
          52.27,
          53.21,
          56.86,
          47.89,
          62.46,
          68.15,
          50.74,
          59.74,
          54.93,
          61.54,
          60.51,
          61.65,
          53.73,
          52.11,
          52.44,
          69.35,
          65.59,
          65.41,
          64.49,
          57.14,
          54.19,
          48.59,
          61.85,
          47.63,
          65.37,
          49.7,
          57.61,
          62.31,
          52.87,
          60.43,
          54.44,
          61.3,
          63.21,
          68.23,
          58.54,
          49.53,
          50.15,
          52.23,
          52.09,
          56.54,
          49.88,
          45.5,
          65.6,
          57.78,
          56.22,
          48.2,
          71.4,
          53.97,
          56.61,
          55.67,
          43.1,
          49.86,
          61.13,
          59.96,
          42.77,
          48.41,
          53.92,
          34.72,
          52.94,
          55.35,
          54.77,
          53.9,
          60.49,
          56.58,
          60.05,
          41.79,
          46.58,
          48.45,
          38.12,
          35.26,
          42.06,
          42.13,
          45.45,
          50.61,
          42.52,
          64.58,
          60.06,
          49.44,
          59.52,
          61.74,
          71.59,
          59.82,
          67.38,
          59.69,
          51.63,
          61.8,
          63.45,
          64.24,
          56.76,
          64.78,
          61.57,
          58.6,
          52.75,
          58.52,
          66.2,
          69.61,
          58.19,
          52.24,
          59.92,
          35.48,
          43.42,
          45.22,
          42.05,
          46.12,
          51.77,
          56.48,
          56.69,
          56.42,
          55.62,
          49.71,
          51.07,
          47.3,
          50.32,
          53.14,
          47.4,
          46.2,
          56.41,
          46.39,
          52.91,
          44.68,
          49.07,
          60.64,
          47.07,
          57.19,
          48.21,
          49.96,
          54.56,
          50.8,
          48.66,
          56.82,
          54.24,
          64.32,
          46.09,
          59.64,
          61.96,
          55.01,
          60.54,
          52.77,
          53.72,
          59.49,
          51.49,
          58.61,
          50.44,
          59.24,
          49.37,
          55.63,
          39.31,
          53.63,
          56.69,
          56.7,
          47.19,
          59.2,
          60.88,
          48.19,
          52.05,
          49.62,
          49.46,
          55.68,
          59.38,
          47.7,
          50.73,
          43.97,
          58.09,
          48.33,
          45.91,
          56.87,
          63.62,
          64.03,
          68.25,
          52.37,
          61.35,
          64.53,
          54.4,
          51.16,
          45.02,
          48.85,
          49.23,
          41.76,
          42.82,
          46.25,
          47.98,
          59.19,
          46.06,
          50.65,
          44.56,
          37.61,
          48.62,
          49.3,
          40.06,
          52.78
         ],
         "yaxis": "y"
        },
        {
         "alignmentgroup": "True",
         "hovertemplate": "Party=All India United Democratic Front<br>Constituency=%{x}<br>Winning Percentage=%{y}<extra></extra>",
         "legendgroup": "All India United Democratic Front",
         "marker": {
          "color": "#FFA15A",
          "pattern": {
           "shape": ""
          }
         },
         "name": "All India United Democratic Front",
         "offsetgroup": "All India United Democratic Front",
         "orientation": "v",
         "showlegend": true,
         "textposition": "auto",
         "type": "bar",
         "x": [
          "Dhubri"
         ],
         "xaxis": "x",
         "y": [
          42.66
         ],
         "yaxis": "y"
        },
        {
         "alignmentgroup": "True",
         "hovertemplate": "Party=Independent<br>Constituency=%{x}<br>Winning Percentage=%{y}<extra></extra>",
         "legendgroup": "Independent",
         "marker": {
          "color": "#19d3f3",
          "pattern": {
           "shape": ""
          }
         },
         "name": "Independent",
         "offsetgroup": "Independent",
         "orientation": "v",
         "showlegend": true,
         "textposition": "auto",
         "type": "bar",
         "x": [
          "Kokrajhar",
          "Dadra And Nagar Haveli",
          "Mandya",
          "Amravati"
         ],
         "xaxis": "x",
         "y": [
          32.75,
          45.44,
          51.02,
          45.93
         ],
         "yaxis": "y"
        },
        {
         "alignmentgroup": "True",
         "hovertemplate": "Party=Janata Dal (United)<br>Constituency=%{x}<br>Winning Percentage=%{y}<extra></extra>",
         "legendgroup": "Janata Dal (United)",
         "marker": {
          "color": "#FF6692",
          "pattern": {
           "shape": ""
          }
         },
         "name": "Janata Dal (United)",
         "offsetgroup": "Janata Dal (United)",
         "orientation": "v",
         "showlegend": true,
         "textposition": "auto",
         "type": "bar",
         "x": [
          "Banka",
          "Bhagalpur",
          "Gaya (SC)",
          "Gopalganj (SC)",
          "Jahanabad",
          "Jhanjharpur",
          "Karakat",
          "Katihar",
          "Madhepura",
          "Munger",
          "Nalanda",
          "Purnia",
          "Sitamarhi",
          "Siwan",
          "Supaul",
          "Valmiki Nagar"
         ],
         "xaxis": "x",
         "y": [
          47.98,
          59.3,
          48.79,
          55.44,
          40.82,
          56.8,
          45.86,
          50.05,
          54.42,
          51.03,
          52.45,
          54.85,
          54.65,
          45.54,
          53.78,
          58.39
         ],
         "yaxis": "y"
        },
        {
         "alignmentgroup": "True",
         "hovertemplate": "Party=Lok Jan Shakti Party<br>Constituency=%{x}<br>Winning Percentage=%{y}<extra></extra>",
         "legendgroup": "Lok Jan Shakti Party",
         "marker": {
          "color": "#B6E880",
          "pattern": {
           "shape": ""
          }
         },
         "name": "Lok Jan Shakti Party",
         "offsetgroup": "Lok Jan Shakti Party",
         "orientation": "v",
         "showlegend": true,
         "textposition": "auto",
         "type": "bar",
         "x": [
          "Hajipur (SC)",
          "Jamui (SC)",
          "Khagaria",
          "Nawada",
          "Samastipur (SC)",
          "Vaishali"
         ],
         "xaxis": "x",
         "y": [
          53.76,
          55.75,
          52.77,
          52.59,
          55.19,
          52.87
         ],
         "yaxis": "y"
        },
        {
         "alignmentgroup": "True",
         "hovertemplate": "Party=Jammu & Kashmir National Conference<br>Constituency=%{x}<br>Winning Percentage=%{y}<extra></extra>",
         "legendgroup": "Jammu & Kashmir National Conference",
         "marker": {
          "color": "#FF97FF",
          "pattern": {
           "shape": ""
          }
         },
         "name": "Jammu & Kashmir National Conference",
         "offsetgroup": "Jammu & Kashmir National Conference",
         "orientation": "v",
         "showlegend": true,
         "textposition": "auto",
         "type": "bar",
         "x": [
          "Anantnag",
          "Baramulla",
          "Srinagar"
         ],
         "xaxis": "x",
         "y": [
          32.17,
          29.29,
          57.14
         ],
         "yaxis": "y"
        },
        {
         "alignmentgroup": "True",
         "hovertemplate": "Party=AJSU Party<br>Constituency=%{x}<br>Winning Percentage=%{y}<extra></extra>",
         "legendgroup": "AJSU Party",
         "marker": {
          "color": "#FECB52",
          "pattern": {
           "shape": ""
          }
         },
         "name": "AJSU Party",
         "offsetgroup": "AJSU Party",
         "orientation": "v",
         "showlegend": true,
         "textposition": "auto",
         "type": "bar",
         "x": [
          "Giridih"
         ],
         "xaxis": "x",
         "y": [
          58.57
         ],
         "yaxis": "y"
        },
        {
         "alignmentgroup": "True",
         "hovertemplate": "Party=Jharkhand Mukti Morcha<br>Constituency=%{x}<br>Winning Percentage=%{y}<extra></extra>",
         "legendgroup": "Jharkhand Mukti Morcha",
         "marker": {
          "color": "#636efa",
          "pattern": {
           "shape": ""
          }
         },
         "name": "Jharkhand Mukti Morcha",
         "offsetgroup": "Jharkhand Mukti Morcha",
         "orientation": "v",
         "showlegend": true,
         "textposition": "auto",
         "type": "bar",
         "x": [
          "Rajmahal"
         ],
         "xaxis": "x",
         "y": [
          48.47
         ],
         "yaxis": "y"
        },
        {
         "alignmentgroup": "True",
         "hovertemplate": "Party=Janata Dal (Secular)<br>Constituency=%{x}<br>Winning Percentage=%{y}<extra></extra>",
         "legendgroup": "Janata Dal (Secular)",
         "marker": {
          "color": "#EF553B",
          "pattern": {
           "shape": ""
          }
         },
         "name": "Janata Dal (Secular)",
         "offsetgroup": "Janata Dal (Secular)",
         "orientation": "v",
         "showlegend": true,
         "textposition": "auto",
         "type": "bar",
         "x": [
          "Hassan"
         ],
         "xaxis": "x",
         "y": [
          52.96
         ],
         "yaxis": "y"
        },
        {
         "alignmentgroup": "True",
         "hovertemplate": "Party=Communist Party of India (Marxist)<br>Constituency=%{x}<br>Winning Percentage=%{y}<extra></extra>",
         "legendgroup": "Communist Party of India (Marxist)",
         "marker": {
          "color": "#00cc96",
          "pattern": {
           "shape": ""
          }
         },
         "name": "Communist Party of India (Marxist)",
         "offsetgroup": "Communist Party of India (Marxist)",
         "orientation": "v",
         "showlegend": true,
         "textposition": "auto",
         "type": "bar",
         "x": [
          "Alappuzha",
          "Coimbatore",
          "Madurai"
         ],
         "xaxis": "x",
         "y": [
          40.96,
          45.66,
          44
         ],
         "yaxis": "y"
        },
        {
         "alignmentgroup": "True",
         "hovertemplate": "Party=Revolutionary Socialist Party<br>Constituency=%{x}<br>Winning Percentage=%{y}<extra></extra>",
         "legendgroup": "Revolutionary Socialist Party",
         "marker": {
          "color": "#ab63fa",
          "pattern": {
           "shape": ""
          }
         },
         "name": "Revolutionary Socialist Party",
         "offsetgroup": "Revolutionary Socialist Party",
         "orientation": "v",
         "showlegend": true,
         "textposition": "auto",
         "type": "bar",
         "x": [
          "Kollam"
         ],
         "xaxis": "x",
         "y": [
          51.61
         ],
         "yaxis": "y"
        },
        {
         "alignmentgroup": "True",
         "hovertemplate": "Party=Kerala Congress (M)<br>Constituency=%{x}<br>Winning Percentage=%{y}<extra></extra>",
         "legendgroup": "Kerala Congress (M)",
         "marker": {
          "color": "#FFA15A",
          "pattern": {
           "shape": ""
          }
         },
         "name": "Kerala Congress (M)",
         "offsetgroup": "Kerala Congress (M)",
         "orientation": "v",
         "showlegend": true,
         "textposition": "auto",
         "type": "bar",
         "x": [
          "Kottayam"
         ],
         "xaxis": "x",
         "y": [
          46.25
         ],
         "yaxis": "y"
        },
        {
         "alignmentgroup": "True",
         "hovertemplate": "Party=Indian Union Muslim League<br>Constituency=%{x}<br>Winning Percentage=%{y}<extra></extra>",
         "legendgroup": "Indian Union Muslim League",
         "marker": {
          "color": "#19d3f3",
          "pattern": {
           "shape": ""
          }
         },
         "name": "Indian Union Muslim League",
         "offsetgroup": "Indian Union Muslim League",
         "orientation": "v",
         "showlegend": true,
         "textposition": "auto",
         "type": "bar",
         "x": [
          "Malappuram",
          "Ponnani",
          "Ramanathapuram"
         ],
         "xaxis": "x",
         "y": [
          57.01,
          51.3,
          44.08
         ],
         "yaxis": "y"
        },
        {
         "alignmentgroup": "True",
         "hovertemplate": "Party=Nationalist Congress Party<br>Constituency=%{x}<br>Winning Percentage=%{y}<extra></extra>",
         "legendgroup": "Nationalist Congress Party",
         "marker": {
          "color": "#FF6692",
          "pattern": {
           "shape": ""
          }
         },
         "name": "Nationalist Congress Party",
         "offsetgroup": "Nationalist Congress Party",
         "orientation": "v",
         "showlegend": true,
         "textposition": "auto",
         "type": "bar",
         "x": [
          "Lakshadweep",
          "Baramati",
          "Raigad",
          "Satara",
          "Shirur"
         ],
         "xaxis": "x",
         "y": [
          48.61,
          52.63,
          47.49,
          51.91,
          49.17
         ],
         "yaxis": "y"
        },
        {
         "alignmentgroup": "True",
         "hovertemplate": "Party=All India Majlis-E-Ittehadul Muslimeen<br>Constituency=%{x}<br>Winning Percentage=%{y}<extra></extra>",
         "legendgroup": "All India Majlis-E-Ittehadul Muslimeen",
         "marker": {
          "color": "#B6E880",
          "pattern": {
           "shape": ""
          }
         },
         "name": "All India Majlis-E-Ittehadul Muslimeen",
         "offsetgroup": "All India Majlis-E-Ittehadul Muslimeen",
         "orientation": "v",
         "showlegend": true,
         "textposition": "auto",
         "type": "bar",
         "x": [
          "Aurangabad",
          "Hyderabad"
         ],
         "xaxis": "x",
         "y": [
          32.47,
          58.95
         ],
         "yaxis": "y"
        },
        {
         "alignmentgroup": "True",
         "hovertemplate": "Party=Shivsena<br>Constituency=%{x}<br>Winning Percentage=%{y}<extra></extra>",
         "legendgroup": "Shivsena",
         "marker": {
          "color": "#FF97FF",
          "pattern": {
           "shape": ""
          }
         },
         "name": "Shivsena",
         "offsetgroup": "Shivsena",
         "orientation": "v",
         "showlegend": true,
         "textposition": "auto",
         "type": "bar",
         "x": [
          "Buldhana",
          "Hatkanangle",
          "Hingoli",
          "Kalyan",
          "Kolhapur",
          "Maval",
          "Mumbai North West",
          "Mumbai South",
          "Mumbai South central",
          "Nashik",
          "Osmanabad",
          "Palghar",
          "Parbhani",
          "Ramtek",
          "Ratnagiri - sindhudurg",
          "Shirdi",
          "Thane",
          "Yavatmal-Washim"
         ],
         "xaxis": "x",
         "y": [
          46.59,
          46.78,
          50.65,
          62.87,
          56.29,
          52.65,
          60.55,
          52.64,
          53.3,
          50.27,
          49.52,
          48.3,
          43.02,
          49.9,
          50.83,
          47.29,
          63.3,
          46.17
         ],
         "yaxis": "y"
        },
        {
         "alignmentgroup": "True",
         "hovertemplate": "Party=Naga Peoples Front<br>Constituency=%{x}<br>Winning Percentage=%{y}<extra></extra>",
         "legendgroup": "Naga Peoples Front",
         "marker": {
          "color": "#FECB52",
          "pattern": {
           "shape": ""
          }
         },
         "name": "Naga Peoples Front",
         "offsetgroup": "Naga Peoples Front",
         "orientation": "v",
         "showlegend": true,
         "textposition": "auto",
         "type": "bar",
         "x": [
          "Outer manipur"
         ],
         "xaxis": "x",
         "y": [
          42.37
         ],
         "yaxis": "y"
        },
        {
         "alignmentgroup": "True",
         "hovertemplate": "Party=National People's Party<br>Constituency=%{x}<br>Winning Percentage=%{y}<extra></extra>",
         "legendgroup": "National People's Party",
         "marker": {
          "color": "#636efa",
          "pattern": {
           "shape": ""
          }
         },
         "name": "National People's Party",
         "offsetgroup": "National People's Party",
         "orientation": "v",
         "showlegend": true,
         "textposition": "auto",
         "type": "bar",
         "x": [
          "Tura"
         ],
         "xaxis": "x",
         "y": [
          52.22
         ],
         "yaxis": "y"
        },
        {
         "alignmentgroup": "True",
         "hovertemplate": "Party=Mizo National Front<br>Constituency=%{x}<br>Winning Percentage=%{y}<extra></extra>",
         "legendgroup": "Mizo National Front",
         "marker": {
          "color": "#EF553B",
          "pattern": {
           "shape": ""
          }
         },
         "name": "Mizo National Front",
         "offsetgroup": "Mizo National Front",
         "orientation": "v",
         "showlegend": true,
         "textposition": "auto",
         "type": "bar",
         "x": [
          "MIZORAM"
         ],
         "xaxis": "x",
         "y": [
          44.89
         ],
         "yaxis": "y"
        },
        {
         "alignmentgroup": "True",
         "hovertemplate": "Party=Nationalist Democratic Progressive Party<br>Constituency=%{x}<br>Winning Percentage=%{y}<extra></extra>",
         "legendgroup": "Nationalist Democratic Progressive Party",
         "marker": {
          "color": "#00cc96",
          "pattern": {
           "shape": ""
          }
         },
         "name": "Nationalist Democratic Progressive Party",
         "offsetgroup": "Nationalist Democratic Progressive Party",
         "orientation": "v",
         "showlegend": true,
         "textposition": "auto",
         "type": "bar",
         "x": [
          "Nagaland"
         ],
         "xaxis": "x",
         "y": [
          49.73
         ],
         "yaxis": "y"
        },
        {
         "alignmentgroup": "True",
         "hovertemplate": "Party=Biju Janata Dal<br>Constituency=%{x}<br>Winning Percentage=%{y}<extra></extra>",
         "legendgroup": "Biju Janata Dal",
         "marker": {
          "color": "#ab63fa",
          "pattern": {
           "shape": ""
          }
         },
         "name": "Biju Janata Dal",
         "offsetgroup": "Biju Janata Dal",
         "orientation": "v",
         "showlegend": true,
         "textposition": "auto",
         "type": "bar",
         "x": [
          "Aska",
          "Berhampur",
          "Bhadrak",
          "Cuttack",
          "Dhenkanal",
          "Jagatsinghpur",
          "Jajpur",
          "Kandhamal",
          "Kendrapara",
          "Keonjhar",
          "Nabarangpur",
          "Puri"
         ],
         "xaxis": "x",
         "y": [
          54.52,
          44.84,
          41.86,
          49.51,
          46.21,
          50.44,
          49.81,
          49.01,
          50.87,
          44.75,
          33.85,
          47.4
         ],
         "yaxis": "y"
        },
        {
         "alignmentgroup": "True",
         "hovertemplate": "Party=Shiromani Akali Dal<br>Constituency=%{x}<br>Winning Percentage=%{y}<extra></extra>",
         "legendgroup": "Shiromani Akali Dal",
         "marker": {
          "color": "#FFA15A",
          "pattern": {
           "shape": ""
          }
         },
         "name": "Shiromani Akali Dal",
         "offsetgroup": "Shiromani Akali Dal",
         "orientation": "v",
         "showlegend": true,
         "textposition": "auto",
         "type": "bar",
         "x": [
          "Bathinda",
          "Firozpur"
         ],
         "xaxis": "x",
         "y": [
          41.04,
          54.05
         ],
         "yaxis": "y"
        },
        {
         "alignmentgroup": "True",
         "hovertemplate": "Party=Aam Aadmi Party<br>Constituency=%{x}<br>Winning Percentage=%{y}<extra></extra>",
         "legendgroup": "Aam Aadmi Party",
         "marker": {
          "color": "#19d3f3",
          "pattern": {
           "shape": ""
          }
         },
         "name": "Aam Aadmi Party",
         "offsetgroup": "Aam Aadmi Party",
         "orientation": "v",
         "showlegend": true,
         "textposition": "auto",
         "type": "bar",
         "x": [
          "Sangrur"
         ],
         "xaxis": "x",
         "y": [
          37.4
         ],
         "yaxis": "y"
        },
        {
         "alignmentgroup": "True",
         "hovertemplate": "Party=Rashtriya Loktantrik Party<br>Constituency=%{x}<br>Winning Percentage=%{y}<extra></extra>",
         "legendgroup": "Rashtriya Loktantrik Party",
         "marker": {
          "color": "#FF6692",
          "pattern": {
           "shape": ""
          }
         },
         "name": "Rashtriya Loktantrik Party",
         "offsetgroup": "Rashtriya Loktantrik Party",
         "orientation": "v",
         "showlegend": true,
         "textposition": "auto",
         "type": "bar",
         "x": [
          "Nagaur"
         ],
         "xaxis": "x",
         "y": [
          54.86
         ],
         "yaxis": "y"
        },
        {
         "alignmentgroup": "True",
         "hovertemplate": "Party=Sikkim Krantikari Morcha<br>Constituency=%{x}<br>Winning Percentage=%{y}<extra></extra>",
         "legendgroup": "Sikkim Krantikari Morcha",
         "marker": {
          "color": "#B6E880",
          "pattern": {
           "shape": ""
          }
         },
         "name": "Sikkim Krantikari Morcha",
         "offsetgroup": "Sikkim Krantikari Morcha",
         "orientation": "v",
         "showlegend": true,
         "textposition": "auto",
         "type": "bar",
         "x": [
          "Sikkim"
         ],
         "xaxis": "x",
         "y": [
          47.46
         ],
         "yaxis": "y"
        },
        {
         "alignmentgroup": "True",
         "hovertemplate": "Party=Dravida Munnetra Kazhagam<br>Constituency=%{x}<br>Winning Percentage=%{y}<extra></extra>",
         "legendgroup": "Dravida Munnetra Kazhagam",
         "marker": {
          "color": "#FF97FF",
          "pattern": {
           "shape": ""
          }
         },
         "name": "Dravida Munnetra Kazhagam",
         "offsetgroup": "Dravida Munnetra Kazhagam",
         "orientation": "v",
         "showlegend": true,
         "textposition": "auto",
         "type": "bar",
         "x": [
          "Arakkonam",
          "Chennai central",
          "Chennai North",
          "Chennai South",
          "Cuddalore",
          "Dharmapuri",
          "Dindigul",
          "Erode",
          "Kallakurichi",
          "Kancheepuram",
          "Mayiladuthurai",
          "Namakkal",
          "Nilgiris",
          "Perambalur",
          "Pollachi",
          "Salem",
          "Sriperumbudur",
          "Tenkasi",
          "Thanjavur",
          "Thoothukkudi",
          "Tirunelveli",
          "Tiruvannamalai",
          "Viluppuram"
         ],
         "xaxis": "x",
         "y": [
          57.06,
          57.15,
          61.85,
          50.17,
          50.05,
          47.01,
          64.35,
          52.78,
          59.92,
          55.27,
          54.62,
          55.24,
          54.2,
          62,
          51.23,
          48.29,
          56.39,
          44.69,
          55.6,
          56.81,
          50.26,
          57.85,
          49.28
         ],
         "yaxis": "y"
        },
        {
         "alignmentgroup": "True",
         "hovertemplate": "Party=Viduthalai Chiruthaigal Katchi<br>Constituency=%{x}<br>Winning Percentage=%{y}<extra></extra>",
         "legendgroup": "Viduthalai Chiruthaigal Katchi",
         "marker": {
          "color": "#FECB52",
          "pattern": {
           "shape": ""
          }
         },
         "name": "Viduthalai Chiruthaigal Katchi",
         "offsetgroup": "Viduthalai Chiruthaigal Katchi",
         "orientation": "v",
         "showlegend": true,
         "textposition": "auto",
         "type": "bar",
         "x": [
          "Chidambaram"
         ],
         "xaxis": "x",
         "y": [
          43.38
         ],
         "yaxis": "y"
        },
        {
         "alignmentgroup": "True",
         "hovertemplate": "Party=Communist Party of India<br>Constituency=%{x}<br>Winning Percentage=%{y}<extra></extra>",
         "legendgroup": "Communist Party of India",
         "marker": {
          "color": "#636efa",
          "pattern": {
           "shape": ""
          }
         },
         "name": "Communist Party of India",
         "offsetgroup": "Communist Party of India",
         "orientation": "v",
         "showlegend": true,
         "textposition": "auto",
         "type": "bar",
         "x": [
          "Nagapattinam",
          "Tiruppur"
         ],
         "xaxis": "x",
         "y": [
          52.17,
          45.44
         ],
         "yaxis": "y"
        },
        {
         "alignmentgroup": "True",
         "hovertemplate": "Party=All India Anna Dravida Munnetra Kazhagam<br>Constituency=%{x}<br>Winning Percentage=%{y}<extra></extra>",
         "legendgroup": "All India Anna Dravida Munnetra Kazhagam",
         "marker": {
          "color": "#EF553B",
          "pattern": {
           "shape": ""
          }
         },
         "name": "All India Anna Dravida Munnetra Kazhagam",
         "offsetgroup": "All India Anna Dravida Munnetra Kazhagam",
         "orientation": "v",
         "showlegend": true,
         "textposition": "auto",
         "type": "bar",
         "x": [
          "Theni"
         ],
         "xaxis": "x",
         "y": [
          43.02
         ],
         "yaxis": "y"
        },
        {
         "alignmentgroup": "True",
         "hovertemplate": "Party=Telangana Rashtra Samithi<br>Constituency=%{x}<br>Winning Percentage=%{y}<extra></extra>",
         "legendgroup": "Telangana Rashtra Samithi",
         "marker": {
          "color": "#00cc96",
          "pattern": {
           "shape": ""
          }
         },
         "name": "Telangana Rashtra Samithi",
         "offsetgroup": "Telangana Rashtra Samithi",
         "orientation": "v",
         "showlegend": true,
         "textposition": "auto",
         "type": "bar",
         "x": [
          "CHEVELLA",
          "Khammam",
          "Mahabubabad",
          "Mahbubnagar",
          "Medak",
          "Nagarkurnool",
          "Peddapalle",
          "Warangal",
          "Zahirabad"
         ],
         "xaxis": "x",
         "y": [
          40.62,
          49.78,
          46.98,
          41.78,
          51.82,
          50.48,
          45.49,
          57.69,
          41.58
         ],
         "yaxis": "y"
        },
        {
         "alignmentgroup": "True",
         "hovertemplate": "Party=Bahujan Samaj Party<br>Constituency=%{x}<br>Winning Percentage=%{y}<extra></extra>",
         "legendgroup": "Bahujan Samaj Party",
         "marker": {
          "color": "#ab63fa",
          "pattern": {
           "shape": ""
          }
         },
         "name": "Bahujan Samaj Party",
         "offsetgroup": "Bahujan Samaj Party",
         "orientation": "v",
         "showlegend": true,
         "textposition": "auto",
         "type": "bar",
         "x": [
          "Ambedkar Nagar",
          "Amroha",
          "Bijnor",
          "Ghazipur",
          "Ghosi",
          "Jaunpur",
          "Lalganj",
          "Nagina",
          "Saharanpur",
          "Shrawasti"
         ],
         "xaxis": "x",
         "y": [
          51.75,
          51.41,
          50.97,
          51.2,
          50.3,
          50.08,
          54.01,
          56.31,
          41.74,
          44.31
         ],
         "yaxis": "y"
        },
        {
         "alignmentgroup": "True",
         "hovertemplate": "Party=Samajwadi Party<br>Constituency=%{x}<br>Winning Percentage=%{y}<extra></extra>",
         "legendgroup": "Samajwadi Party",
         "marker": {
          "color": "#FFA15A",
          "pattern": {
           "shape": ""
          }
         },
         "name": "Samajwadi Party",
         "offsetgroup": "Samajwadi Party",
         "orientation": "v",
         "showlegend": true,
         "textposition": "auto",
         "type": "bar",
         "x": [
          "Azamgarh",
          "Mainpuri",
          "Moradabad",
          "Rampur",
          "Sambhal"
         ],
         "xaxis": "x",
         "y": [
          60.4,
          53.75,
          50.65,
          52.71,
          55.6
         ],
         "yaxis": "y"
        },
        {
         "alignmentgroup": "True",
         "hovertemplate": "Party=Apna Dal (Soneylal)<br>Constituency=%{x}<br>Winning Percentage=%{y}<extra></extra>",
         "legendgroup": "Apna Dal (Soneylal)",
         "marker": {
          "color": "#19d3f3",
          "pattern": {
           "shape": ""
          }
         },
         "name": "Apna Dal (Soneylal)",
         "offsetgroup": "Apna Dal (Soneylal)",
         "orientation": "v",
         "showlegend": true,
         "textposition": "auto",
         "type": "bar",
         "x": [
          "Mirzapur",
          "Robertsganj"
         ],
         "xaxis": "x",
         "y": [
          53.34,
          45.32
         ],
         "yaxis": "y"
        },
        {
         "alignmentgroup": "True",
         "hovertemplate": "Party=All India Trinamool Congress<br>Constituency=%{x}<br>Winning Percentage=%{y}<extra></extra>",
         "legendgroup": "All India Trinamool Congress",
         "marker": {
          "color": "#FF6692",
          "pattern": {
           "shape": ""
          }
         },
         "name": "All India Trinamool Congress",
         "offsetgroup": "All India Trinamool Congress",
         "orientation": "v",
         "showlegend": true,
         "textposition": "auto",
         "type": "bar",
         "x": [
          "Arambagh",
          "Barasat",
          "Bardhaman Purba",
          "Basirhat",
          "Birbhum",
          "Bolpur",
          "Diamond harbour",
          "Dum dum",
          "Ghatal",
          "Howrah",
          "Jadavpur",
          "Jangipur",
          "Joynagar",
          "Kanthi",
          "Kolkata Dakshin",
          "Kolkata Uttar",
          "Krishnanagar",
          "Mathurapur",
          "Murshidabad",
          "Srerampur",
          "Tamluk",
          "Uluberia"
         ],
         "xaxis": "x",
         "y": [
          44.15,
          46.47,
          44.52,
          54.56,
          45.13,
          47.85,
          56.15,
          42.51,
          48.22,
          47.18,
          47.91,
          43.15,
          56.13,
          49.98,
          47.5,
          49.96,
          45,
          51.84,
          41.57,
          45.5,
          50.08,
          53
         ],
         "yaxis": "y"
        }
       ],
       "layout": {
        "barmode": "relative",
        "legend": {
         "title": {
          "text": "Party"
         },
         "tracegroupgap": 0
        },
        "template": {
         "data": {
          "bar": [
           {
            "error_x": {
             "color": "#f2f5fa"
            },
            "error_y": {
             "color": "#f2f5fa"
            },
            "marker": {
             "line": {
              "color": "rgb(17,17,17)",
              "width": 0.5
             },
             "pattern": {
              "fillmode": "overlay",
              "size": 10,
              "solidity": 0.2
             }
            },
            "type": "bar"
           }
          ],
          "barpolar": [
           {
            "marker": {
             "line": {
              "color": "rgb(17,17,17)",
              "width": 0.5
             },
             "pattern": {
              "fillmode": "overlay",
              "size": 10,
              "solidity": 0.2
             }
            },
            "type": "barpolar"
           }
          ],
          "carpet": [
           {
            "aaxis": {
             "endlinecolor": "#A2B1C6",
             "gridcolor": "#506784",
             "linecolor": "#506784",
             "minorgridcolor": "#506784",
             "startlinecolor": "#A2B1C6"
            },
            "baxis": {
             "endlinecolor": "#A2B1C6",
             "gridcolor": "#506784",
             "linecolor": "#506784",
             "minorgridcolor": "#506784",
             "startlinecolor": "#A2B1C6"
            },
            "type": "carpet"
           }
          ],
          "choropleth": [
           {
            "colorbar": {
             "outlinewidth": 0,
             "ticks": ""
            },
            "type": "choropleth"
           }
          ],
          "contour": [
           {
            "colorbar": {
             "outlinewidth": 0,
             "ticks": ""
            },
            "colorscale": [
             [
              0,
              "#0d0887"
             ],
             [
              0.1111111111111111,
              "#46039f"
             ],
             [
              0.2222222222222222,
              "#7201a8"
             ],
             [
              0.3333333333333333,
              "#9c179e"
             ],
             [
              0.4444444444444444,
              "#bd3786"
             ],
             [
              0.5555555555555556,
              "#d8576b"
             ],
             [
              0.6666666666666666,
              "#ed7953"
             ],
             [
              0.7777777777777778,
              "#fb9f3a"
             ],
             [
              0.8888888888888888,
              "#fdca26"
             ],
             [
              1,
              "#f0f921"
             ]
            ],
            "type": "contour"
           }
          ],
          "contourcarpet": [
           {
            "colorbar": {
             "outlinewidth": 0,
             "ticks": ""
            },
            "type": "contourcarpet"
           }
          ],
          "heatmap": [
           {
            "colorbar": {
             "outlinewidth": 0,
             "ticks": ""
            },
            "colorscale": [
             [
              0,
              "#0d0887"
             ],
             [
              0.1111111111111111,
              "#46039f"
             ],
             [
              0.2222222222222222,
              "#7201a8"
             ],
             [
              0.3333333333333333,
              "#9c179e"
             ],
             [
              0.4444444444444444,
              "#bd3786"
             ],
             [
              0.5555555555555556,
              "#d8576b"
             ],
             [
              0.6666666666666666,
              "#ed7953"
             ],
             [
              0.7777777777777778,
              "#fb9f3a"
             ],
             [
              0.8888888888888888,
              "#fdca26"
             ],
             [
              1,
              "#f0f921"
             ]
            ],
            "type": "heatmap"
           }
          ],
          "heatmapgl": [
           {
            "colorbar": {
             "outlinewidth": 0,
             "ticks": ""
            },
            "colorscale": [
             [
              0,
              "#0d0887"
             ],
             [
              0.1111111111111111,
              "#46039f"
             ],
             [
              0.2222222222222222,
              "#7201a8"
             ],
             [
              0.3333333333333333,
              "#9c179e"
             ],
             [
              0.4444444444444444,
              "#bd3786"
             ],
             [
              0.5555555555555556,
              "#d8576b"
             ],
             [
              0.6666666666666666,
              "#ed7953"
             ],
             [
              0.7777777777777778,
              "#fb9f3a"
             ],
             [
              0.8888888888888888,
              "#fdca26"
             ],
             [
              1,
              "#f0f921"
             ]
            ],
            "type": "heatmapgl"
           }
          ],
          "histogram": [
           {
            "marker": {
             "pattern": {
              "fillmode": "overlay",
              "size": 10,
              "solidity": 0.2
             }
            },
            "type": "histogram"
           }
          ],
          "histogram2d": [
           {
            "colorbar": {
             "outlinewidth": 0,
             "ticks": ""
            },
            "colorscale": [
             [
              0,
              "#0d0887"
             ],
             [
              0.1111111111111111,
              "#46039f"
             ],
             [
              0.2222222222222222,
              "#7201a8"
             ],
             [
              0.3333333333333333,
              "#9c179e"
             ],
             [
              0.4444444444444444,
              "#bd3786"
             ],
             [
              0.5555555555555556,
              "#d8576b"
             ],
             [
              0.6666666666666666,
              "#ed7953"
             ],
             [
              0.7777777777777778,
              "#fb9f3a"
             ],
             [
              0.8888888888888888,
              "#fdca26"
             ],
             [
              1,
              "#f0f921"
             ]
            ],
            "type": "histogram2d"
           }
          ],
          "histogram2dcontour": [
           {
            "colorbar": {
             "outlinewidth": 0,
             "ticks": ""
            },
            "colorscale": [
             [
              0,
              "#0d0887"
             ],
             [
              0.1111111111111111,
              "#46039f"
             ],
             [
              0.2222222222222222,
              "#7201a8"
             ],
             [
              0.3333333333333333,
              "#9c179e"
             ],
             [
              0.4444444444444444,
              "#bd3786"
             ],
             [
              0.5555555555555556,
              "#d8576b"
             ],
             [
              0.6666666666666666,
              "#ed7953"
             ],
             [
              0.7777777777777778,
              "#fb9f3a"
             ],
             [
              0.8888888888888888,
              "#fdca26"
             ],
             [
              1,
              "#f0f921"
             ]
            ],
            "type": "histogram2dcontour"
           }
          ],
          "mesh3d": [
           {
            "colorbar": {
             "outlinewidth": 0,
             "ticks": ""
            },
            "type": "mesh3d"
           }
          ],
          "parcoords": [
           {
            "line": {
             "colorbar": {
              "outlinewidth": 0,
              "ticks": ""
             }
            },
            "type": "parcoords"
           }
          ],
          "pie": [
           {
            "automargin": true,
            "type": "pie"
           }
          ],
          "scatter": [
           {
            "marker": {
             "line": {
              "color": "#283442"
             }
            },
            "type": "scatter"
           }
          ],
          "scatter3d": [
           {
            "line": {
             "colorbar": {
              "outlinewidth": 0,
              "ticks": ""
             }
            },
            "marker": {
             "colorbar": {
              "outlinewidth": 0,
              "ticks": ""
             }
            },
            "type": "scatter3d"
           }
          ],
          "scattercarpet": [
           {
            "marker": {
             "colorbar": {
              "outlinewidth": 0,
              "ticks": ""
             }
            },
            "type": "scattercarpet"
           }
          ],
          "scattergeo": [
           {
            "marker": {
             "colorbar": {
              "outlinewidth": 0,
              "ticks": ""
             }
            },
            "type": "scattergeo"
           }
          ],
          "scattergl": [
           {
            "marker": {
             "line": {
              "color": "#283442"
             }
            },
            "type": "scattergl"
           }
          ],
          "scattermapbox": [
           {
            "marker": {
             "colorbar": {
              "outlinewidth": 0,
              "ticks": ""
             }
            },
            "type": "scattermapbox"
           }
          ],
          "scatterpolar": [
           {
            "marker": {
             "colorbar": {
              "outlinewidth": 0,
              "ticks": ""
             }
            },
            "type": "scatterpolar"
           }
          ],
          "scatterpolargl": [
           {
            "marker": {
             "colorbar": {
              "outlinewidth": 0,
              "ticks": ""
             }
            },
            "type": "scatterpolargl"
           }
          ],
          "scatterternary": [
           {
            "marker": {
             "colorbar": {
              "outlinewidth": 0,
              "ticks": ""
             }
            },
            "type": "scatterternary"
           }
          ],
          "surface": [
           {
            "colorbar": {
             "outlinewidth": 0,
             "ticks": ""
            },
            "colorscale": [
             [
              0,
              "#0d0887"
             ],
             [
              0.1111111111111111,
              "#46039f"
             ],
             [
              0.2222222222222222,
              "#7201a8"
             ],
             [
              0.3333333333333333,
              "#9c179e"
             ],
             [
              0.4444444444444444,
              "#bd3786"
             ],
             [
              0.5555555555555556,
              "#d8576b"
             ],
             [
              0.6666666666666666,
              "#ed7953"
             ],
             [
              0.7777777777777778,
              "#fb9f3a"
             ],
             [
              0.8888888888888888,
              "#fdca26"
             ],
             [
              1,
              "#f0f921"
             ]
            ],
            "type": "surface"
           }
          ],
          "table": [
           {
            "cells": {
             "fill": {
              "color": "#506784"
             },
             "line": {
              "color": "rgb(17,17,17)"
             }
            },
            "header": {
             "fill": {
              "color": "#2a3f5f"
             },
             "line": {
              "color": "rgb(17,17,17)"
             }
            },
            "type": "table"
           }
          ]
         },
         "layout": {
          "annotationdefaults": {
           "arrowcolor": "#f2f5fa",
           "arrowhead": 0,
           "arrowwidth": 1
          },
          "autotypenumbers": "strict",
          "coloraxis": {
           "colorbar": {
            "outlinewidth": 0,
            "ticks": ""
           }
          },
          "colorscale": {
           "diverging": [
            [
             0,
             "#8e0152"
            ],
            [
             0.1,
             "#c51b7d"
            ],
            [
             0.2,
             "#de77ae"
            ],
            [
             0.3,
             "#f1b6da"
            ],
            [
             0.4,
             "#fde0ef"
            ],
            [
             0.5,
             "#f7f7f7"
            ],
            [
             0.6,
             "#e6f5d0"
            ],
            [
             0.7,
             "#b8e186"
            ],
            [
             0.8,
             "#7fbc41"
            ],
            [
             0.9,
             "#4d9221"
            ],
            [
             1,
             "#276419"
            ]
           ],
           "sequential": [
            [
             0,
             "#0d0887"
            ],
            [
             0.1111111111111111,
             "#46039f"
            ],
            [
             0.2222222222222222,
             "#7201a8"
            ],
            [
             0.3333333333333333,
             "#9c179e"
            ],
            [
             0.4444444444444444,
             "#bd3786"
            ],
            [
             0.5555555555555556,
             "#d8576b"
            ],
            [
             0.6666666666666666,
             "#ed7953"
            ],
            [
             0.7777777777777778,
             "#fb9f3a"
            ],
            [
             0.8888888888888888,
             "#fdca26"
            ],
            [
             1,
             "#f0f921"
            ]
           ],
           "sequentialminus": [
            [
             0,
             "#0d0887"
            ],
            [
             0.1111111111111111,
             "#46039f"
            ],
            [
             0.2222222222222222,
             "#7201a8"
            ],
            [
             0.3333333333333333,
             "#9c179e"
            ],
            [
             0.4444444444444444,
             "#bd3786"
            ],
            [
             0.5555555555555556,
             "#d8576b"
            ],
            [
             0.6666666666666666,
             "#ed7953"
            ],
            [
             0.7777777777777778,
             "#fb9f3a"
            ],
            [
             0.8888888888888888,
             "#fdca26"
            ],
            [
             1,
             "#f0f921"
            ]
           ]
          },
          "colorway": [
           "#636efa",
           "#EF553B",
           "#00cc96",
           "#ab63fa",
           "#FFA15A",
           "#19d3f3",
           "#FF6692",
           "#B6E880",
           "#FF97FF",
           "#FECB52"
          ],
          "font": {
           "color": "#f2f5fa"
          },
          "geo": {
           "bgcolor": "rgb(17,17,17)",
           "lakecolor": "rgb(17,17,17)",
           "landcolor": "rgb(17,17,17)",
           "showlakes": true,
           "showland": true,
           "subunitcolor": "#506784"
          },
          "hoverlabel": {
           "align": "left"
          },
          "hovermode": "closest",
          "mapbox": {
           "style": "dark"
          },
          "paper_bgcolor": "rgb(17,17,17)",
          "plot_bgcolor": "rgb(17,17,17)",
          "polar": {
           "angularaxis": {
            "gridcolor": "#506784",
            "linecolor": "#506784",
            "ticks": ""
           },
           "bgcolor": "rgb(17,17,17)",
           "radialaxis": {
            "gridcolor": "#506784",
            "linecolor": "#506784",
            "ticks": ""
           }
          },
          "scene": {
           "xaxis": {
            "backgroundcolor": "rgb(17,17,17)",
            "gridcolor": "#506784",
            "gridwidth": 2,
            "linecolor": "#506784",
            "showbackground": true,
            "ticks": "",
            "zerolinecolor": "#C8D4E3"
           },
           "yaxis": {
            "backgroundcolor": "rgb(17,17,17)",
            "gridcolor": "#506784",
            "gridwidth": 2,
            "linecolor": "#506784",
            "showbackground": true,
            "ticks": "",
            "zerolinecolor": "#C8D4E3"
           },
           "zaxis": {
            "backgroundcolor": "rgb(17,17,17)",
            "gridcolor": "#506784",
            "gridwidth": 2,
            "linecolor": "#506784",
            "showbackground": true,
            "ticks": "",
            "zerolinecolor": "#C8D4E3"
           }
          },
          "shapedefaults": {
           "line": {
            "color": "#f2f5fa"
           }
          },
          "sliderdefaults": {
           "bgcolor": "#C8D4E3",
           "bordercolor": "rgb(17,17,17)",
           "borderwidth": 1,
           "tickwidth": 0
          },
          "ternary": {
           "aaxis": {
            "gridcolor": "#506784",
            "linecolor": "#506784",
            "ticks": ""
           },
           "baxis": {
            "gridcolor": "#506784",
            "linecolor": "#506784",
            "ticks": ""
           },
           "bgcolor": "rgb(17,17,17)",
           "caxis": {
            "gridcolor": "#506784",
            "linecolor": "#506784",
            "ticks": ""
           }
          },
          "title": {
           "x": 0.05
          },
          "updatemenudefaults": {
           "bgcolor": "#506784",
           "borderwidth": 0
          },
          "xaxis": {
           "automargin": true,
           "gridcolor": "#283442",
           "linecolor": "#506784",
           "ticks": "",
           "title": {
            "standoff": 15
           },
           "zerolinecolor": "#283442",
           "zerolinewidth": 2
          },
          "yaxis": {
           "automargin": true,
           "gridcolor": "#283442",
           "linecolor": "#506784",
           "ticks": "",
           "title": {
            "standoff": 15
           },
           "zerolinecolor": "#283442",
           "zerolinewidth": 2
          }
         }
        },
        "title": {
         "text": "Constituency vs Party vs Winning Percentage"
        },
        "xaxis": {
         "anchor": "y",
         "categoryorder": "total descending",
         "domain": [
          0,
          1
         ],
         "title": {
          "text": "Constituency"
         }
        },
        "yaxis": {
         "anchor": "x",
         "domain": [
          0,
          1
         ],
         "title": {
          "text": "Winning Percentage"
         }
        }
       }
      },
      "text/html": [
       "<div>                            <div id=\"4f65c775-033b-48f8-b317-899756e9ca9b\" class=\"plotly-graph-div\" style=\"height:525px; width:100%;\"></div>            <script type=\"text/javascript\">                require([\"plotly\"], function(Plotly) {                    window.PLOTLYENV=window.PLOTLYENV || {};                                    if (document.getElementById(\"4f65c775-033b-48f8-b317-899756e9ca9b\")) {                    Plotly.newPlot(                        \"4f65c775-033b-48f8-b317-899756e9ca9b\",                        [{\"alignmentgroup\":\"True\",\"hovertemplate\":\"Party=Indian National Congress<br>Constituency=%{x}<br>Winning Percentage=%{y}<extra></extra>\",\"legendgroup\":\"Indian National Congress\",\"marker\":{\"color\":\"#636efa\",\"pattern\":{\"shape\":\"\"}},\"name\":\"Indian National Congress\",\"offsetgroup\":\"Indian National Congress\",\"orientation\":\"v\",\"showlegend\":true,\"textposition\":\"auto\",\"x\":[\"Andaman & Nicobar Islands \",\"Barpeta\",\"Kaliabor\",\"Nowgong\",\"Kishanganj\",\"BASTAR\",\"KORBA\",\"South Goa\",\"Singhbhum\",\"Bangalore Rural\",\"Alathur\",\"Attingal\",\"Chalakudy\",\"Ernakulam\",\"Idukki\",\"Kannur\",\"Kasaragod\",\"Kozhikode\",\"Mavelikkara\",\"Palakkad\",\"Pathanamthitta\",\"Thiruvananthapuram\",\"Thrissur\",\"Vadakara\",\"Wayanad\",\"CHHINDWARA\",\"Chandrapur\",\"Shillong\",\"Koraput\",\"Puducherry\",\"Amritsar\",\"Anandpur Sahib\",\"Faridkot\",\"Fatehgarh Sahib\",\"Jalandhar\",\"Khadoor Sahib\",\"Ludhiana\",\"Patiala\",\"Arani\",\"Kanniyakumari\",\"Karur\",\"Krishnagiri\",\"Sivaganga\",\"Thiruvallur\",\"Tiruchirappalli\",\"Virudhunagar\",\"Bhongir\",\"Malkajgiri\",\"Nalgonda\",\"Rae Bareli\",\"Baharampur\",\"Maldaha Dakshin\"],\"xaxis\":\"x\",\"y\":[45.98,44.23,55.18,49.53,33.32,44.1,46.03,47.47,49.11,54.15,52.4,37.91,47.81,50.79,54.23,50.27,43.18,45.85,45.36,38.83,37.11,41.19,39.84,49.43,64.67,47.06,45.18,53.52,34.36,56.27,51.78,39.57,42.98,41.75,37.85,43.95,36.66,45.17,54.0,59.83,63.06,52.64,52.2,54.49,59.28,43.81,43.94,38.63,44.74,55.8,45.47,34.73],\"yaxis\":\"y\",\"type\":\"bar\"},{\"alignmentgroup\":\"True\",\"hovertemplate\":\"Party=Yuvajana Sramika Rythu Congress Party<br>Constituency=%{x}<br>Winning Percentage=%{y}<extra></extra>\",\"legendgroup\":\"Yuvajana Sramika Rythu Congress Party\",\"marker\":{\"color\":\"#EF553B\",\"pattern\":{\"shape\":\"\"}},\"name\":\"Yuvajana Sramika Rythu Congress Party\",\"offsetgroup\":\"Yuvajana Sramika Rythu Congress Party\",\"orientation\":\"v\",\"showlegend\":true,\"textposition\":\"auto\",\"x\":[\"Amalapuram\",\"Anakapalli\",\"Anantapur\",\"Aruku\",\"Bapatla\",\"Chittoor\",\"Eluru\",\"Hindupur\",\"Kadapa\",\"Kurnool\",\"Machilipatnam\",\"Nandyal\",\"Narasaraopet\",\"Narsapuram\",\"Nellore\",\"Ongole\",\"Rajahmundry\",\"Rajampet\",\"Tirupati\",\"Visakhapatnam\",\"Vizianagaram\",\"Kakinada\"],\"xaxis\":\"x\",\"y\":[39.43,47.33,51.79,52.32,47.24,52.05,50.97,52.79,63.8,50.98,46.02,55.49,51.83,38.11,53.13,55.07,46.55,57.35,55.03,35.24,47.49,43.54],\"yaxis\":\"y\",\"type\":\"bar\"},{\"alignmentgroup\":\"True\",\"hovertemplate\":\"Party=Telugu Desam<br>Constituency=%{x}<br>Winning Percentage=%{y}<extra></extra>\",\"legendgroup\":\"Telugu Desam\",\"marker\":{\"color\":\"#00cc96\",\"pattern\":{\"shape\":\"\"}},\"name\":\"Telugu Desam\",\"offsetgroup\":\"Telugu Desam\",\"orientation\":\"v\",\"showlegend\":true,\"textposition\":\"auto\",\"x\":[\"Srikakulam\",\"Vijayawada\",\"Guntur\"],\"xaxis\":\"x\",\"y\":[46.19,45.04,43.5],\"yaxis\":\"y\",\"type\":\"bar\"},{\"alignmentgroup\":\"True\",\"hovertemplate\":\"Party=Bharatiya Janata Party<br>Constituency=%{x}<br>Winning Percentage=%{y}<extra></extra>\",\"legendgroup\":\"Bharatiya Janata Party\",\"marker\":{\"color\":\"#ab63fa\",\"pattern\":{\"shape\":\"\"}},\"name\":\"Bharatiya Janata Party\",\"offsetgroup\":\"Bharatiya Janata Party\",\"orientation\":\"v\",\"showlegend\":true,\"textposition\":\"auto\",\"x\":[\"ARUNACHAL EAST\",\"ARUNACHAL WEST\",\"Autonomous District\",\"Dibrugarh\",\"Gauhati\",\"Jorhat\",\"Karimganj\",\"Lakhimpur\",\"Mangaldoi\",\"Silchar\",\"Tezpur\",\"Araria\",\"Arrah\",\"Aurangabad\",\"Begusarai\",\"Buxar\",\"Darbhanga\",\"Madhubani\",\"Maharajganj\",\"Muzaffarpur\",\"Paschim Champaran\",\"Pataliputra\",\"Patna Sahib\",\"Purvi Champaran\",\"Saran\",\"Sasaram (SC)\",\"Sheohar\",\"Ujiarpur\",\"CHANDIGARH\",\"BILASPUR\",\"DURG\",\"JANJGIR-CHAMPA\",\"KANKER\",\"MAHASAMUND\",\"RAIGARH\",\"RAIPUR\",\"RAJNANDGAON\",\"SARGUJA\",\"Daman & diu\",\"North Goa\",\"Ahmedabad East\",\"Ahmedabad West\",\"Amreli\",\"Anand\",\"Banaskantha\",\"Bardoli\",\"Bharuch\",\"Bhavnagar\",\"Chhota Udaipur\",\"Dahod\",\"Gandhinagar\",\"Jamnagar\",\"Junagadh\",\"Kachchh\",\"Kheda\",\"Mahesana\",\"Navsari\",\"Panchmahal\",\"Patan\",\"Porbandar\",\"Rajkot\",\"Sabarkantha\",\"Surat\",\"Surendranagar\",\"Vadodara\",\"Valsad\",\"Ambala\",\"Bhiwani-Mahendragarh\",\"Faridabad\",\"Gurgaon\",\"Hisar\",\"Karnal\",\"Kurukshetra\",\"Rohtak\",\"Sirsa\",\"Sonipat\",\"Hamirpur\",\"Kangra\",\"Mandi\",\"Shimla\",\"Jammu\",\"Ladakh\",\"Udhampur\",\"Chatra\",\"Dhanbad\",\"Dumka\",\"Godda\",\"Hazaribagh\",\"Jamshedpur\",\"Khunti\",\"Kodarma\",\"Lohardaga\",\"Palamau\",\"Ranchi\",\"Bagalkot\",\"Bangalore central\",\"Bangalore North\",\"Bangalore South\",\"Belgaum\",\"Bellary\",\"Bidar\",\"Bijapur\",\"Chamarajanagar\",\"Chikkballapur\",\"Chikkodi\",\"Chitradurga\",\"Dakshina Kannada\",\"Davanagere\",\"Dharwad\",\"Gulbarga\",\"Haveri\",\"Kolar\",\"Koppal\",\"Mysore\",\"Raichur\",\"Shimoga\",\"Tumkur\",\"Udupi Chikmagalur\",\"Uttara Kannada\",\"BALAGHAT\",\"BETUL\",\"BHIND\",\"BHOPAL\",\"DAMOH\",\"DEWAS\",\"DHAR\",\"GUNA\",\"GWALIOR\",\"HOSHANGABAD\",\"INDORE\",\"JABALPUR\",\"KHAJURAHO\",\"KHANDWA\",\"KHARGONE\",\"MANDLA\",\"MANDSOUR\",\"MORENA\",\"RAJGARH\",\"RATLAM\",\"REWA\",\"SAGAR\",\"SATNA\",\"SHAHDOL\",\"SIDHI\",\"TIKAMGARH\",\"UJJAIN\",\"VIDISHA\",\"Ahmadnagar\",\"Akola\",\"Beed\",\"Bhandara - gondiya\",\"Bhiwandi\",\"Dhule\",\"Dindori\",\"Gadchiroli-Chimur\",\"Jalgaon\",\"Jalna\",\"Latur\",\"Madha\",\"Mumbai North\",\"Mumbai North central\",\"Mumbai North East\",\"Nagpur\",\"Nanded\",\"Nandurbar\",\"Pune\",\"Raver\",\"Sangli\",\"Solapur\",\"Wardha\",\"Inner manipur\",\"CHANDNI CHOWK\",\"EAST DELHI\",\"NEW DELHI\",\"NORTH EAST DELHI\",\"NORTH WEST DELHI\",\"SOUTH DELHI\",\"WEST DELHI\",\"Balasore\",\"Bargarh\",\"Bhubaneswar\",\"Bolangir\",\"Kalahandi\",\"Mayurbhanj\",\"Sambalpur\",\"Sundargarh\",\"Gurdaspur\",\"Hoshiarpur\",\"Ajmer\",\"Alwar\",\"Banswara\",\"Barmer\",\"BHARATPUR\",\"Bhilwara\",\"Bikaner (SC)\",\"Chittorgarh\",\"Churu\",\"Dausa\",\"Ganganagar\",\"Jaipur\",\"Jaipur Rural\",\"Jalore\",\"JHALAWAR-BARAN\",\"Jhunjhunu\",\"Jodhpur\",\"KARAULI-DHOLPUR\",\"Kota\",\"Pali\",\"Rajsamand\",\"Sikar\",\"TONK-SAWAI MADHOPUR\",\"Udaipur\",\"Adilabad\",\"Karimnagar\",\"Nizamabad\",\"Secundrabad\",\"Tripura East\",\"Tripura West\",\"Agra\",\"Akbarpur\",\"Aligarh\",\"Allahabad\",\"Amethi\",\"Aonla\",\"Badaun\",\"Baghpat\",\"Bahraich\",\"Ballia\",\"Banda\",\"Bansgaon\",\"Barabanki\",\"Bareilly\",\"Basti\",\"Bhadohi\",\"Bulandshahr\",\"Chandauli\",\"Deoria\",\"Dhaurahra\",\"Domariyaganj\",\"Etah\",\"Etawah\",\"Faizabad\",\"Farrukhabad\",\"Fatehpur\",\"Fatehpur Sikri\",\"Firozabad\",\"Gautam Buddha Nagar\",\"Ghaziabad\",\"Gonda\",\"Gorakhpur\",\"Hamirpur\",\"Hardoi\",\"Hathras\",\"Jalaun\",\"Jhansi\",\"Kairana\",\"Kaiserganj\",\"Kannauj\",\"Kanpur\",\"Kaushambi\",\"Kheri\",\"Kushi Nagar\",\"Lucknow\",\"Machhlishahr\",\"Maharajganj\",\"Mathura\",\"Meerut\",\"Misrikh\",\"Mohanlalganj\",\"Muzaffarnagar\",\"Phulpur\",\"Pilibhit\",\"Pratapgarh\",\"Salempur\",\"Sant Kabir Nagar\",\"Shahjahanpur\",\"Sitapur\",\"Sultanpur\",\"Unnao\",\"Varanasi\",\"Almora\",\"Garhwal\",\"Hardwar\",\"Nainital-udhamsingh Nagar\",\"Tehri Garhwal\",\"Alipurduars\",\"Asansol\",\"Balurghat\",\"Bangaon\",\"Bankura\",\"Bardhaman Durgapur\",\"Barrackpore\",\"Bishnupur\",\"Cooch behar\",\"Darjeeling\",\"Hooghly\",\"Jalpaiguri\",\"Jhargram\",\"Maldaha Uttar\",\"Medinipur\",\"Purulia\",\"Raiganj\",\"Ranaghat\"],\"xaxis\":\"x\",\"y\":[52.38,63.02,61.73,64.94,57.2,51.35,44.62,60.49,48.83,52.59,57.48,52.87,52.42,45.83,56.48,47.94,60.79,61.83,56.17,63.03,59.6,47.28,61.85,57.81,53.03,50.76,60.59,56.11,50.64,52.47,61.02,45.91,47.12,50.44,48.76,60.01,50.68,51.82,42.98,57.12,67.17,64.35,58.19,57.1,61.62,55.06,55.47,63.51,62.03,52.84,69.67,58.52,54.51,62.26,65.04,60.96,74.37,67.56,56.24,59.36,63.47,57.62,74.47,58.63,72.3,61.25,56.72,63.45,68.8,60.94,51.13,70.08,55.98,47.01,52.16,52.03,69.04,72.02,68.75,66.35,58.02,33.94,61.38,57.03,66.03,47.26,53.4,67.42,59.4,45.97,62.26,45.45,62.46,57.21,55.17,50.35,52.87,62.2,63.22,50.44,52.41,57.22,44.74,53.78,52.98,50.26,57.57,54.66,56.43,52.14,53.97,56.35,49.3,52.27,53.21,56.86,47.89,62.46,68.15,50.74,59.74,54.93,61.54,60.51,61.65,53.73,52.11,52.44,69.35,65.59,65.41,64.49,57.14,54.19,48.59,61.85,47.63,65.37,49.7,57.61,62.31,52.87,60.43,54.44,61.3,63.21,68.23,58.54,49.53,50.15,52.23,52.09,56.54,49.88,45.5,65.6,57.78,56.22,48.2,71.4,53.97,56.61,55.67,43.1,49.86,61.13,59.96,42.77,48.41,53.92,34.72,52.94,55.35,54.77,53.9,60.49,56.58,60.05,41.79,46.58,48.45,38.12,35.26,42.06,42.13,45.45,50.61,42.52,64.58,60.06,49.44,59.52,61.74,71.59,59.82,67.38,59.69,51.63,61.8,63.45,64.24,56.76,64.78,61.57,58.6,52.75,58.52,66.2,69.61,58.19,52.24,59.92,35.48,43.42,45.22,42.05,46.12,51.77,56.48,56.69,56.42,55.62,49.71,51.07,47.3,50.32,53.14,47.4,46.2,56.41,46.39,52.91,44.68,49.07,60.64,47.07,57.19,48.21,49.96,54.56,50.8,48.66,56.82,54.24,64.32,46.09,59.64,61.96,55.01,60.54,52.77,53.72,59.49,51.49,58.61,50.44,59.24,49.37,55.63,39.31,53.63,56.69,56.7,47.19,59.2,60.88,48.19,52.05,49.62,49.46,55.68,59.38,47.7,50.73,43.97,58.09,48.33,45.91,56.87,63.62,64.03,68.25,52.37,61.35,64.53,54.4,51.16,45.02,48.85,49.23,41.76,42.82,46.25,47.98,59.19,46.06,50.65,44.56,37.61,48.62,49.3,40.06,52.78],\"yaxis\":\"y\",\"type\":\"bar\"},{\"alignmentgroup\":\"True\",\"hovertemplate\":\"Party=All India United Democratic Front<br>Constituency=%{x}<br>Winning Percentage=%{y}<extra></extra>\",\"legendgroup\":\"All India United Democratic Front\",\"marker\":{\"color\":\"#FFA15A\",\"pattern\":{\"shape\":\"\"}},\"name\":\"All India United Democratic Front\",\"offsetgroup\":\"All India United Democratic Front\",\"orientation\":\"v\",\"showlegend\":true,\"textposition\":\"auto\",\"x\":[\"Dhubri\"],\"xaxis\":\"x\",\"y\":[42.66],\"yaxis\":\"y\",\"type\":\"bar\"},{\"alignmentgroup\":\"True\",\"hovertemplate\":\"Party=Independent<br>Constituency=%{x}<br>Winning Percentage=%{y}<extra></extra>\",\"legendgroup\":\"Independent\",\"marker\":{\"color\":\"#19d3f3\",\"pattern\":{\"shape\":\"\"}},\"name\":\"Independent\",\"offsetgroup\":\"Independent\",\"orientation\":\"v\",\"showlegend\":true,\"textposition\":\"auto\",\"x\":[\"Kokrajhar\",\"Dadra And Nagar Haveli\",\"Mandya\",\"Amravati\"],\"xaxis\":\"x\",\"y\":[32.75,45.44,51.02,45.93],\"yaxis\":\"y\",\"type\":\"bar\"},{\"alignmentgroup\":\"True\",\"hovertemplate\":\"Party=Janata Dal (United)<br>Constituency=%{x}<br>Winning Percentage=%{y}<extra></extra>\",\"legendgroup\":\"Janata Dal (United)\",\"marker\":{\"color\":\"#FF6692\",\"pattern\":{\"shape\":\"\"}},\"name\":\"Janata Dal (United)\",\"offsetgroup\":\"Janata Dal (United)\",\"orientation\":\"v\",\"showlegend\":true,\"textposition\":\"auto\",\"x\":[\"Banka\",\"Bhagalpur\",\"Gaya (SC)\",\"Gopalganj (SC)\",\"Jahanabad\",\"Jhanjharpur\",\"Karakat\",\"Katihar\",\"Madhepura\",\"Munger\",\"Nalanda\",\"Purnia\",\"Sitamarhi\",\"Siwan\",\"Supaul\",\"Valmiki Nagar\"],\"xaxis\":\"x\",\"y\":[47.98,59.3,48.79,55.44,40.82,56.8,45.86,50.05,54.42,51.03,52.45,54.85,54.65,45.54,53.78,58.39],\"yaxis\":\"y\",\"type\":\"bar\"},{\"alignmentgroup\":\"True\",\"hovertemplate\":\"Party=Lok Jan Shakti Party<br>Constituency=%{x}<br>Winning Percentage=%{y}<extra></extra>\",\"legendgroup\":\"Lok Jan Shakti Party\",\"marker\":{\"color\":\"#B6E880\",\"pattern\":{\"shape\":\"\"}},\"name\":\"Lok Jan Shakti Party\",\"offsetgroup\":\"Lok Jan Shakti Party\",\"orientation\":\"v\",\"showlegend\":true,\"textposition\":\"auto\",\"x\":[\"Hajipur (SC)\",\"Jamui (SC)\",\"Khagaria\",\"Nawada\",\"Samastipur (SC)\",\"Vaishali\"],\"xaxis\":\"x\",\"y\":[53.76,55.75,52.77,52.59,55.19,52.87],\"yaxis\":\"y\",\"type\":\"bar\"},{\"alignmentgroup\":\"True\",\"hovertemplate\":\"Party=Jammu & Kashmir National Conference<br>Constituency=%{x}<br>Winning Percentage=%{y}<extra></extra>\",\"legendgroup\":\"Jammu & Kashmir National Conference\",\"marker\":{\"color\":\"#FF97FF\",\"pattern\":{\"shape\":\"\"}},\"name\":\"Jammu & Kashmir National Conference\",\"offsetgroup\":\"Jammu & Kashmir National Conference\",\"orientation\":\"v\",\"showlegend\":true,\"textposition\":\"auto\",\"x\":[\"Anantnag\",\"Baramulla\",\"Srinagar\"],\"xaxis\":\"x\",\"y\":[32.17,29.29,57.14],\"yaxis\":\"y\",\"type\":\"bar\"},{\"alignmentgroup\":\"True\",\"hovertemplate\":\"Party=AJSU Party<br>Constituency=%{x}<br>Winning Percentage=%{y}<extra></extra>\",\"legendgroup\":\"AJSU Party\",\"marker\":{\"color\":\"#FECB52\",\"pattern\":{\"shape\":\"\"}},\"name\":\"AJSU Party\",\"offsetgroup\":\"AJSU Party\",\"orientation\":\"v\",\"showlegend\":true,\"textposition\":\"auto\",\"x\":[\"Giridih\"],\"xaxis\":\"x\",\"y\":[58.57],\"yaxis\":\"y\",\"type\":\"bar\"},{\"alignmentgroup\":\"True\",\"hovertemplate\":\"Party=Jharkhand Mukti Morcha<br>Constituency=%{x}<br>Winning Percentage=%{y}<extra></extra>\",\"legendgroup\":\"Jharkhand Mukti Morcha\",\"marker\":{\"color\":\"#636efa\",\"pattern\":{\"shape\":\"\"}},\"name\":\"Jharkhand Mukti Morcha\",\"offsetgroup\":\"Jharkhand Mukti Morcha\",\"orientation\":\"v\",\"showlegend\":true,\"textposition\":\"auto\",\"x\":[\"Rajmahal\"],\"xaxis\":\"x\",\"y\":[48.47],\"yaxis\":\"y\",\"type\":\"bar\"},{\"alignmentgroup\":\"True\",\"hovertemplate\":\"Party=Janata Dal (Secular)<br>Constituency=%{x}<br>Winning Percentage=%{y}<extra></extra>\",\"legendgroup\":\"Janata Dal (Secular)\",\"marker\":{\"color\":\"#EF553B\",\"pattern\":{\"shape\":\"\"}},\"name\":\"Janata Dal (Secular)\",\"offsetgroup\":\"Janata Dal (Secular)\",\"orientation\":\"v\",\"showlegend\":true,\"textposition\":\"auto\",\"x\":[\"Hassan\"],\"xaxis\":\"x\",\"y\":[52.96],\"yaxis\":\"y\",\"type\":\"bar\"},{\"alignmentgroup\":\"True\",\"hovertemplate\":\"Party=Communist Party of India (Marxist)<br>Constituency=%{x}<br>Winning Percentage=%{y}<extra></extra>\",\"legendgroup\":\"Communist Party of India (Marxist)\",\"marker\":{\"color\":\"#00cc96\",\"pattern\":{\"shape\":\"\"}},\"name\":\"Communist Party of India (Marxist)\",\"offsetgroup\":\"Communist Party of India (Marxist)\",\"orientation\":\"v\",\"showlegend\":true,\"textposition\":\"auto\",\"x\":[\"Alappuzha\",\"Coimbatore\",\"Madurai\"],\"xaxis\":\"x\",\"y\":[40.96,45.66,44.0],\"yaxis\":\"y\",\"type\":\"bar\"},{\"alignmentgroup\":\"True\",\"hovertemplate\":\"Party=Revolutionary Socialist Party<br>Constituency=%{x}<br>Winning Percentage=%{y}<extra></extra>\",\"legendgroup\":\"Revolutionary Socialist Party\",\"marker\":{\"color\":\"#ab63fa\",\"pattern\":{\"shape\":\"\"}},\"name\":\"Revolutionary Socialist Party\",\"offsetgroup\":\"Revolutionary Socialist Party\",\"orientation\":\"v\",\"showlegend\":true,\"textposition\":\"auto\",\"x\":[\"Kollam\"],\"xaxis\":\"x\",\"y\":[51.61],\"yaxis\":\"y\",\"type\":\"bar\"},{\"alignmentgroup\":\"True\",\"hovertemplate\":\"Party=Kerala Congress (M)<br>Constituency=%{x}<br>Winning Percentage=%{y}<extra></extra>\",\"legendgroup\":\"Kerala Congress (M)\",\"marker\":{\"color\":\"#FFA15A\",\"pattern\":{\"shape\":\"\"}},\"name\":\"Kerala Congress (M)\",\"offsetgroup\":\"Kerala Congress (M)\",\"orientation\":\"v\",\"showlegend\":true,\"textposition\":\"auto\",\"x\":[\"Kottayam\"],\"xaxis\":\"x\",\"y\":[46.25],\"yaxis\":\"y\",\"type\":\"bar\"},{\"alignmentgroup\":\"True\",\"hovertemplate\":\"Party=Indian Union Muslim League<br>Constituency=%{x}<br>Winning Percentage=%{y}<extra></extra>\",\"legendgroup\":\"Indian Union Muslim League\",\"marker\":{\"color\":\"#19d3f3\",\"pattern\":{\"shape\":\"\"}},\"name\":\"Indian Union Muslim League\",\"offsetgroup\":\"Indian Union Muslim League\",\"orientation\":\"v\",\"showlegend\":true,\"textposition\":\"auto\",\"x\":[\"Malappuram\",\"Ponnani\",\"Ramanathapuram\"],\"xaxis\":\"x\",\"y\":[57.01,51.3,44.08],\"yaxis\":\"y\",\"type\":\"bar\"},{\"alignmentgroup\":\"True\",\"hovertemplate\":\"Party=Nationalist Congress Party<br>Constituency=%{x}<br>Winning Percentage=%{y}<extra></extra>\",\"legendgroup\":\"Nationalist Congress Party\",\"marker\":{\"color\":\"#FF6692\",\"pattern\":{\"shape\":\"\"}},\"name\":\"Nationalist Congress Party\",\"offsetgroup\":\"Nationalist Congress Party\",\"orientation\":\"v\",\"showlegend\":true,\"textposition\":\"auto\",\"x\":[\"Lakshadweep\",\"Baramati\",\"Raigad\",\"Satara\",\"Shirur\"],\"xaxis\":\"x\",\"y\":[48.61,52.63,47.49,51.91,49.17],\"yaxis\":\"y\",\"type\":\"bar\"},{\"alignmentgroup\":\"True\",\"hovertemplate\":\"Party=All India Majlis-E-Ittehadul Muslimeen<br>Constituency=%{x}<br>Winning Percentage=%{y}<extra></extra>\",\"legendgroup\":\"All India Majlis-E-Ittehadul Muslimeen\",\"marker\":{\"color\":\"#B6E880\",\"pattern\":{\"shape\":\"\"}},\"name\":\"All India Majlis-E-Ittehadul Muslimeen\",\"offsetgroup\":\"All India Majlis-E-Ittehadul Muslimeen\",\"orientation\":\"v\",\"showlegend\":true,\"textposition\":\"auto\",\"x\":[\"Aurangabad\",\"Hyderabad\"],\"xaxis\":\"x\",\"y\":[32.47,58.95],\"yaxis\":\"y\",\"type\":\"bar\"},{\"alignmentgroup\":\"True\",\"hovertemplate\":\"Party=Shivsena<br>Constituency=%{x}<br>Winning Percentage=%{y}<extra></extra>\",\"legendgroup\":\"Shivsena\",\"marker\":{\"color\":\"#FF97FF\",\"pattern\":{\"shape\":\"\"}},\"name\":\"Shivsena\",\"offsetgroup\":\"Shivsena\",\"orientation\":\"v\",\"showlegend\":true,\"textposition\":\"auto\",\"x\":[\"Buldhana\",\"Hatkanangle\",\"Hingoli\",\"Kalyan\",\"Kolhapur\",\"Maval\",\"Mumbai North West\",\"Mumbai South\",\"Mumbai South central\",\"Nashik\",\"Osmanabad\",\"Palghar\",\"Parbhani\",\"Ramtek\",\"Ratnagiri - sindhudurg\",\"Shirdi\",\"Thane\",\"Yavatmal-Washim\"],\"xaxis\":\"x\",\"y\":[46.59,46.78,50.65,62.87,56.29,52.65,60.55,52.64,53.3,50.27,49.52,48.3,43.02,49.9,50.83,47.29,63.3,46.17],\"yaxis\":\"y\",\"type\":\"bar\"},{\"alignmentgroup\":\"True\",\"hovertemplate\":\"Party=Naga Peoples Front<br>Constituency=%{x}<br>Winning Percentage=%{y}<extra></extra>\",\"legendgroup\":\"Naga Peoples Front\",\"marker\":{\"color\":\"#FECB52\",\"pattern\":{\"shape\":\"\"}},\"name\":\"Naga Peoples Front\",\"offsetgroup\":\"Naga Peoples Front\",\"orientation\":\"v\",\"showlegend\":true,\"textposition\":\"auto\",\"x\":[\"Outer manipur\"],\"xaxis\":\"x\",\"y\":[42.37],\"yaxis\":\"y\",\"type\":\"bar\"},{\"alignmentgroup\":\"True\",\"hovertemplate\":\"Party=National People's Party<br>Constituency=%{x}<br>Winning Percentage=%{y}<extra></extra>\",\"legendgroup\":\"National People's Party\",\"marker\":{\"color\":\"#636efa\",\"pattern\":{\"shape\":\"\"}},\"name\":\"National People's Party\",\"offsetgroup\":\"National People's Party\",\"orientation\":\"v\",\"showlegend\":true,\"textposition\":\"auto\",\"x\":[\"Tura\"],\"xaxis\":\"x\",\"y\":[52.22],\"yaxis\":\"y\",\"type\":\"bar\"},{\"alignmentgroup\":\"True\",\"hovertemplate\":\"Party=Mizo National Front<br>Constituency=%{x}<br>Winning Percentage=%{y}<extra></extra>\",\"legendgroup\":\"Mizo National Front\",\"marker\":{\"color\":\"#EF553B\",\"pattern\":{\"shape\":\"\"}},\"name\":\"Mizo National Front\",\"offsetgroup\":\"Mizo National Front\",\"orientation\":\"v\",\"showlegend\":true,\"textposition\":\"auto\",\"x\":[\"MIZORAM\"],\"xaxis\":\"x\",\"y\":[44.89],\"yaxis\":\"y\",\"type\":\"bar\"},{\"alignmentgroup\":\"True\",\"hovertemplate\":\"Party=Nationalist Democratic Progressive Party<br>Constituency=%{x}<br>Winning Percentage=%{y}<extra></extra>\",\"legendgroup\":\"Nationalist Democratic Progressive Party\",\"marker\":{\"color\":\"#00cc96\",\"pattern\":{\"shape\":\"\"}},\"name\":\"Nationalist Democratic Progressive Party\",\"offsetgroup\":\"Nationalist Democratic Progressive Party\",\"orientation\":\"v\",\"showlegend\":true,\"textposition\":\"auto\",\"x\":[\"Nagaland\"],\"xaxis\":\"x\",\"y\":[49.73],\"yaxis\":\"y\",\"type\":\"bar\"},{\"alignmentgroup\":\"True\",\"hovertemplate\":\"Party=Biju Janata Dal<br>Constituency=%{x}<br>Winning Percentage=%{y}<extra></extra>\",\"legendgroup\":\"Biju Janata Dal\",\"marker\":{\"color\":\"#ab63fa\",\"pattern\":{\"shape\":\"\"}},\"name\":\"Biju Janata Dal\",\"offsetgroup\":\"Biju Janata Dal\",\"orientation\":\"v\",\"showlegend\":true,\"textposition\":\"auto\",\"x\":[\"Aska\",\"Berhampur\",\"Bhadrak\",\"Cuttack\",\"Dhenkanal\",\"Jagatsinghpur\",\"Jajpur\",\"Kandhamal\",\"Kendrapara\",\"Keonjhar\",\"Nabarangpur\",\"Puri\"],\"xaxis\":\"x\",\"y\":[54.52,44.84,41.86,49.51,46.21,50.44,49.81,49.01,50.87,44.75,33.85,47.4],\"yaxis\":\"y\",\"type\":\"bar\"},{\"alignmentgroup\":\"True\",\"hovertemplate\":\"Party=Shiromani Akali Dal<br>Constituency=%{x}<br>Winning Percentage=%{y}<extra></extra>\",\"legendgroup\":\"Shiromani Akali Dal\",\"marker\":{\"color\":\"#FFA15A\",\"pattern\":{\"shape\":\"\"}},\"name\":\"Shiromani Akali Dal\",\"offsetgroup\":\"Shiromani Akali Dal\",\"orientation\":\"v\",\"showlegend\":true,\"textposition\":\"auto\",\"x\":[\"Bathinda\",\"Firozpur\"],\"xaxis\":\"x\",\"y\":[41.04,54.05],\"yaxis\":\"y\",\"type\":\"bar\"},{\"alignmentgroup\":\"True\",\"hovertemplate\":\"Party=Aam Aadmi Party<br>Constituency=%{x}<br>Winning Percentage=%{y}<extra></extra>\",\"legendgroup\":\"Aam Aadmi Party\",\"marker\":{\"color\":\"#19d3f3\",\"pattern\":{\"shape\":\"\"}},\"name\":\"Aam Aadmi Party\",\"offsetgroup\":\"Aam Aadmi Party\",\"orientation\":\"v\",\"showlegend\":true,\"textposition\":\"auto\",\"x\":[\"Sangrur\"],\"xaxis\":\"x\",\"y\":[37.4],\"yaxis\":\"y\",\"type\":\"bar\"},{\"alignmentgroup\":\"True\",\"hovertemplate\":\"Party=Rashtriya Loktantrik Party<br>Constituency=%{x}<br>Winning Percentage=%{y}<extra></extra>\",\"legendgroup\":\"Rashtriya Loktantrik Party\",\"marker\":{\"color\":\"#FF6692\",\"pattern\":{\"shape\":\"\"}},\"name\":\"Rashtriya Loktantrik Party\",\"offsetgroup\":\"Rashtriya Loktantrik Party\",\"orientation\":\"v\",\"showlegend\":true,\"textposition\":\"auto\",\"x\":[\"Nagaur\"],\"xaxis\":\"x\",\"y\":[54.86],\"yaxis\":\"y\",\"type\":\"bar\"},{\"alignmentgroup\":\"True\",\"hovertemplate\":\"Party=Sikkim Krantikari Morcha<br>Constituency=%{x}<br>Winning Percentage=%{y}<extra></extra>\",\"legendgroup\":\"Sikkim Krantikari Morcha\",\"marker\":{\"color\":\"#B6E880\",\"pattern\":{\"shape\":\"\"}},\"name\":\"Sikkim Krantikari Morcha\",\"offsetgroup\":\"Sikkim Krantikari Morcha\",\"orientation\":\"v\",\"showlegend\":true,\"textposition\":\"auto\",\"x\":[\"Sikkim\"],\"xaxis\":\"x\",\"y\":[47.46],\"yaxis\":\"y\",\"type\":\"bar\"},{\"alignmentgroup\":\"True\",\"hovertemplate\":\"Party=Dravida Munnetra Kazhagam<br>Constituency=%{x}<br>Winning Percentage=%{y}<extra></extra>\",\"legendgroup\":\"Dravida Munnetra Kazhagam\",\"marker\":{\"color\":\"#FF97FF\",\"pattern\":{\"shape\":\"\"}},\"name\":\"Dravida Munnetra Kazhagam\",\"offsetgroup\":\"Dravida Munnetra Kazhagam\",\"orientation\":\"v\",\"showlegend\":true,\"textposition\":\"auto\",\"x\":[\"Arakkonam\",\"Chennai central\",\"Chennai North\",\"Chennai South\",\"Cuddalore\",\"Dharmapuri\",\"Dindigul\",\"Erode\",\"Kallakurichi\",\"Kancheepuram\",\"Mayiladuthurai\",\"Namakkal\",\"Nilgiris\",\"Perambalur\",\"Pollachi\",\"Salem\",\"Sriperumbudur\",\"Tenkasi\",\"Thanjavur\",\"Thoothukkudi\",\"Tirunelveli\",\"Tiruvannamalai\",\"Viluppuram\"],\"xaxis\":\"x\",\"y\":[57.06,57.15,61.85,50.17,50.05,47.01,64.35,52.78,59.92,55.27,54.62,55.24,54.2,62.0,51.23,48.29,56.39,44.69,55.6,56.81,50.26,57.85,49.28],\"yaxis\":\"y\",\"type\":\"bar\"},{\"alignmentgroup\":\"True\",\"hovertemplate\":\"Party=Viduthalai Chiruthaigal Katchi<br>Constituency=%{x}<br>Winning Percentage=%{y}<extra></extra>\",\"legendgroup\":\"Viduthalai Chiruthaigal Katchi\",\"marker\":{\"color\":\"#FECB52\",\"pattern\":{\"shape\":\"\"}},\"name\":\"Viduthalai Chiruthaigal Katchi\",\"offsetgroup\":\"Viduthalai Chiruthaigal Katchi\",\"orientation\":\"v\",\"showlegend\":true,\"textposition\":\"auto\",\"x\":[\"Chidambaram\"],\"xaxis\":\"x\",\"y\":[43.38],\"yaxis\":\"y\",\"type\":\"bar\"},{\"alignmentgroup\":\"True\",\"hovertemplate\":\"Party=Communist Party of India<br>Constituency=%{x}<br>Winning Percentage=%{y}<extra></extra>\",\"legendgroup\":\"Communist Party of India\",\"marker\":{\"color\":\"#636efa\",\"pattern\":{\"shape\":\"\"}},\"name\":\"Communist Party of India\",\"offsetgroup\":\"Communist Party of India\",\"orientation\":\"v\",\"showlegend\":true,\"textposition\":\"auto\",\"x\":[\"Nagapattinam\",\"Tiruppur\"],\"xaxis\":\"x\",\"y\":[52.17,45.44],\"yaxis\":\"y\",\"type\":\"bar\"},{\"alignmentgroup\":\"True\",\"hovertemplate\":\"Party=All India Anna Dravida Munnetra Kazhagam<br>Constituency=%{x}<br>Winning Percentage=%{y}<extra></extra>\",\"legendgroup\":\"All India Anna Dravida Munnetra Kazhagam\",\"marker\":{\"color\":\"#EF553B\",\"pattern\":{\"shape\":\"\"}},\"name\":\"All India Anna Dravida Munnetra Kazhagam\",\"offsetgroup\":\"All India Anna Dravida Munnetra Kazhagam\",\"orientation\":\"v\",\"showlegend\":true,\"textposition\":\"auto\",\"x\":[\"Theni\"],\"xaxis\":\"x\",\"y\":[43.02],\"yaxis\":\"y\",\"type\":\"bar\"},{\"alignmentgroup\":\"True\",\"hovertemplate\":\"Party=Telangana Rashtra Samithi<br>Constituency=%{x}<br>Winning Percentage=%{y}<extra></extra>\",\"legendgroup\":\"Telangana Rashtra Samithi\",\"marker\":{\"color\":\"#00cc96\",\"pattern\":{\"shape\":\"\"}},\"name\":\"Telangana Rashtra Samithi\",\"offsetgroup\":\"Telangana Rashtra Samithi\",\"orientation\":\"v\",\"showlegend\":true,\"textposition\":\"auto\",\"x\":[\"CHEVELLA\",\"Khammam\",\"Mahabubabad\",\"Mahbubnagar\",\"Medak\",\"Nagarkurnool\",\"Peddapalle\",\"Warangal\",\"Zahirabad\"],\"xaxis\":\"x\",\"y\":[40.62,49.78,46.98,41.78,51.82,50.48,45.49,57.69,41.58],\"yaxis\":\"y\",\"type\":\"bar\"},{\"alignmentgroup\":\"True\",\"hovertemplate\":\"Party=Bahujan Samaj Party<br>Constituency=%{x}<br>Winning Percentage=%{y}<extra></extra>\",\"legendgroup\":\"Bahujan Samaj Party\",\"marker\":{\"color\":\"#ab63fa\",\"pattern\":{\"shape\":\"\"}},\"name\":\"Bahujan Samaj Party\",\"offsetgroup\":\"Bahujan Samaj Party\",\"orientation\":\"v\",\"showlegend\":true,\"textposition\":\"auto\",\"x\":[\"Ambedkar Nagar\",\"Amroha\",\"Bijnor\",\"Ghazipur\",\"Ghosi\",\"Jaunpur\",\"Lalganj\",\"Nagina\",\"Saharanpur\",\"Shrawasti\"],\"xaxis\":\"x\",\"y\":[51.75,51.41,50.97,51.2,50.3,50.08,54.01,56.31,41.74,44.31],\"yaxis\":\"y\",\"type\":\"bar\"},{\"alignmentgroup\":\"True\",\"hovertemplate\":\"Party=Samajwadi Party<br>Constituency=%{x}<br>Winning Percentage=%{y}<extra></extra>\",\"legendgroup\":\"Samajwadi Party\",\"marker\":{\"color\":\"#FFA15A\",\"pattern\":{\"shape\":\"\"}},\"name\":\"Samajwadi Party\",\"offsetgroup\":\"Samajwadi Party\",\"orientation\":\"v\",\"showlegend\":true,\"textposition\":\"auto\",\"x\":[\"Azamgarh\",\"Mainpuri\",\"Moradabad\",\"Rampur\",\"Sambhal\"],\"xaxis\":\"x\",\"y\":[60.4,53.75,50.65,52.71,55.6],\"yaxis\":\"y\",\"type\":\"bar\"},{\"alignmentgroup\":\"True\",\"hovertemplate\":\"Party=Apna Dal (Soneylal)<br>Constituency=%{x}<br>Winning Percentage=%{y}<extra></extra>\",\"legendgroup\":\"Apna Dal (Soneylal)\",\"marker\":{\"color\":\"#19d3f3\",\"pattern\":{\"shape\":\"\"}},\"name\":\"Apna Dal (Soneylal)\",\"offsetgroup\":\"Apna Dal (Soneylal)\",\"orientation\":\"v\",\"showlegend\":true,\"textposition\":\"auto\",\"x\":[\"Mirzapur\",\"Robertsganj\"],\"xaxis\":\"x\",\"y\":[53.34,45.32],\"yaxis\":\"y\",\"type\":\"bar\"},{\"alignmentgroup\":\"True\",\"hovertemplate\":\"Party=All India Trinamool Congress<br>Constituency=%{x}<br>Winning Percentage=%{y}<extra></extra>\",\"legendgroup\":\"All India Trinamool Congress\",\"marker\":{\"color\":\"#FF6692\",\"pattern\":{\"shape\":\"\"}},\"name\":\"All India Trinamool Congress\",\"offsetgroup\":\"All India Trinamool Congress\",\"orientation\":\"v\",\"showlegend\":true,\"textposition\":\"auto\",\"x\":[\"Arambagh\",\"Barasat\",\"Bardhaman Purba\",\"Basirhat\",\"Birbhum\",\"Bolpur\",\"Diamond harbour\",\"Dum dum\",\"Ghatal\",\"Howrah\",\"Jadavpur\",\"Jangipur\",\"Joynagar\",\"Kanthi\",\"Kolkata Dakshin\",\"Kolkata Uttar\",\"Krishnanagar\",\"Mathurapur\",\"Murshidabad\",\"Srerampur\",\"Tamluk\",\"Uluberia\"],\"xaxis\":\"x\",\"y\":[44.15,46.47,44.52,54.56,45.13,47.85,56.15,42.51,48.22,47.18,47.91,43.15,56.13,49.98,47.5,49.96,45.0,51.84,41.57,45.5,50.08,53.0],\"yaxis\":\"y\",\"type\":\"bar\"}],                        {\"template\":{\"data\":{\"barpolar\":[{\"marker\":{\"line\":{\"color\":\"rgb(17,17,17)\",\"width\":0.5},\"pattern\":{\"fillmode\":\"overlay\",\"size\":10,\"solidity\":0.2}},\"type\":\"barpolar\"}],\"bar\":[{\"error_x\":{\"color\":\"#f2f5fa\"},\"error_y\":{\"color\":\"#f2f5fa\"},\"marker\":{\"line\":{\"color\":\"rgb(17,17,17)\",\"width\":0.5},\"pattern\":{\"fillmode\":\"overlay\",\"size\":10,\"solidity\":0.2}},\"type\":\"bar\"}],\"carpet\":[{\"aaxis\":{\"endlinecolor\":\"#A2B1C6\",\"gridcolor\":\"#506784\",\"linecolor\":\"#506784\",\"minorgridcolor\":\"#506784\",\"startlinecolor\":\"#A2B1C6\"},\"baxis\":{\"endlinecolor\":\"#A2B1C6\",\"gridcolor\":\"#506784\",\"linecolor\":\"#506784\",\"minorgridcolor\":\"#506784\",\"startlinecolor\":\"#A2B1C6\"},\"type\":\"carpet\"}],\"choropleth\":[{\"colorbar\":{\"outlinewidth\":0,\"ticks\":\"\"},\"type\":\"choropleth\"}],\"contourcarpet\":[{\"colorbar\":{\"outlinewidth\":0,\"ticks\":\"\"},\"type\":\"contourcarpet\"}],\"contour\":[{\"colorbar\":{\"outlinewidth\":0,\"ticks\":\"\"},\"colorscale\":[[0.0,\"#0d0887\"],[0.1111111111111111,\"#46039f\"],[0.2222222222222222,\"#7201a8\"],[0.3333333333333333,\"#9c179e\"],[0.4444444444444444,\"#bd3786\"],[0.5555555555555556,\"#d8576b\"],[0.6666666666666666,\"#ed7953\"],[0.7777777777777778,\"#fb9f3a\"],[0.8888888888888888,\"#fdca26\"],[1.0,\"#f0f921\"]],\"type\":\"contour\"}],\"heatmapgl\":[{\"colorbar\":{\"outlinewidth\":0,\"ticks\":\"\"},\"colorscale\":[[0.0,\"#0d0887\"],[0.1111111111111111,\"#46039f\"],[0.2222222222222222,\"#7201a8\"],[0.3333333333333333,\"#9c179e\"],[0.4444444444444444,\"#bd3786\"],[0.5555555555555556,\"#d8576b\"],[0.6666666666666666,\"#ed7953\"],[0.7777777777777778,\"#fb9f3a\"],[0.8888888888888888,\"#fdca26\"],[1.0,\"#f0f921\"]],\"type\":\"heatmapgl\"}],\"heatmap\":[{\"colorbar\":{\"outlinewidth\":0,\"ticks\":\"\"},\"colorscale\":[[0.0,\"#0d0887\"],[0.1111111111111111,\"#46039f\"],[0.2222222222222222,\"#7201a8\"],[0.3333333333333333,\"#9c179e\"],[0.4444444444444444,\"#bd3786\"],[0.5555555555555556,\"#d8576b\"],[0.6666666666666666,\"#ed7953\"],[0.7777777777777778,\"#fb9f3a\"],[0.8888888888888888,\"#fdca26\"],[1.0,\"#f0f921\"]],\"type\":\"heatmap\"}],\"histogram2dcontour\":[{\"colorbar\":{\"outlinewidth\":0,\"ticks\":\"\"},\"colorscale\":[[0.0,\"#0d0887\"],[0.1111111111111111,\"#46039f\"],[0.2222222222222222,\"#7201a8\"],[0.3333333333333333,\"#9c179e\"],[0.4444444444444444,\"#bd3786\"],[0.5555555555555556,\"#d8576b\"],[0.6666666666666666,\"#ed7953\"],[0.7777777777777778,\"#fb9f3a\"],[0.8888888888888888,\"#fdca26\"],[1.0,\"#f0f921\"]],\"type\":\"histogram2dcontour\"}],\"histogram2d\":[{\"colorbar\":{\"outlinewidth\":0,\"ticks\":\"\"},\"colorscale\":[[0.0,\"#0d0887\"],[0.1111111111111111,\"#46039f\"],[0.2222222222222222,\"#7201a8\"],[0.3333333333333333,\"#9c179e\"],[0.4444444444444444,\"#bd3786\"],[0.5555555555555556,\"#d8576b\"],[0.6666666666666666,\"#ed7953\"],[0.7777777777777778,\"#fb9f3a\"],[0.8888888888888888,\"#fdca26\"],[1.0,\"#f0f921\"]],\"type\":\"histogram2d\"}],\"histogram\":[{\"marker\":{\"pattern\":{\"fillmode\":\"overlay\",\"size\":10,\"solidity\":0.2}},\"type\":\"histogram\"}],\"mesh3d\":[{\"colorbar\":{\"outlinewidth\":0,\"ticks\":\"\"},\"type\":\"mesh3d\"}],\"parcoords\":[{\"line\":{\"colorbar\":{\"outlinewidth\":0,\"ticks\":\"\"}},\"type\":\"parcoords\"}],\"pie\":[{\"automargin\":true,\"type\":\"pie\"}],\"scatter3d\":[{\"line\":{\"colorbar\":{\"outlinewidth\":0,\"ticks\":\"\"}},\"marker\":{\"colorbar\":{\"outlinewidth\":0,\"ticks\":\"\"}},\"type\":\"scatter3d\"}],\"scattercarpet\":[{\"marker\":{\"colorbar\":{\"outlinewidth\":0,\"ticks\":\"\"}},\"type\":\"scattercarpet\"}],\"scattergeo\":[{\"marker\":{\"colorbar\":{\"outlinewidth\":0,\"ticks\":\"\"}},\"type\":\"scattergeo\"}],\"scattergl\":[{\"marker\":{\"line\":{\"color\":\"#283442\"}},\"type\":\"scattergl\"}],\"scattermapbox\":[{\"marker\":{\"colorbar\":{\"outlinewidth\":0,\"ticks\":\"\"}},\"type\":\"scattermapbox\"}],\"scatterpolargl\":[{\"marker\":{\"colorbar\":{\"outlinewidth\":0,\"ticks\":\"\"}},\"type\":\"scatterpolargl\"}],\"scatterpolar\":[{\"marker\":{\"colorbar\":{\"outlinewidth\":0,\"ticks\":\"\"}},\"type\":\"scatterpolar\"}],\"scatter\":[{\"marker\":{\"line\":{\"color\":\"#283442\"}},\"type\":\"scatter\"}],\"scatterternary\":[{\"marker\":{\"colorbar\":{\"outlinewidth\":0,\"ticks\":\"\"}},\"type\":\"scatterternary\"}],\"surface\":[{\"colorbar\":{\"outlinewidth\":0,\"ticks\":\"\"},\"colorscale\":[[0.0,\"#0d0887\"],[0.1111111111111111,\"#46039f\"],[0.2222222222222222,\"#7201a8\"],[0.3333333333333333,\"#9c179e\"],[0.4444444444444444,\"#bd3786\"],[0.5555555555555556,\"#d8576b\"],[0.6666666666666666,\"#ed7953\"],[0.7777777777777778,\"#fb9f3a\"],[0.8888888888888888,\"#fdca26\"],[1.0,\"#f0f921\"]],\"type\":\"surface\"}],\"table\":[{\"cells\":{\"fill\":{\"color\":\"#506784\"},\"line\":{\"color\":\"rgb(17,17,17)\"}},\"header\":{\"fill\":{\"color\":\"#2a3f5f\"},\"line\":{\"color\":\"rgb(17,17,17)\"}},\"type\":\"table\"}]},\"layout\":{\"annotationdefaults\":{\"arrowcolor\":\"#f2f5fa\",\"arrowhead\":0,\"arrowwidth\":1},\"autotypenumbers\":\"strict\",\"coloraxis\":{\"colorbar\":{\"outlinewidth\":0,\"ticks\":\"\"}},\"colorscale\":{\"diverging\":[[0,\"#8e0152\"],[0.1,\"#c51b7d\"],[0.2,\"#de77ae\"],[0.3,\"#f1b6da\"],[0.4,\"#fde0ef\"],[0.5,\"#f7f7f7\"],[0.6,\"#e6f5d0\"],[0.7,\"#b8e186\"],[0.8,\"#7fbc41\"],[0.9,\"#4d9221\"],[1,\"#276419\"]],\"sequential\":[[0.0,\"#0d0887\"],[0.1111111111111111,\"#46039f\"],[0.2222222222222222,\"#7201a8\"],[0.3333333333333333,\"#9c179e\"],[0.4444444444444444,\"#bd3786\"],[0.5555555555555556,\"#d8576b\"],[0.6666666666666666,\"#ed7953\"],[0.7777777777777778,\"#fb9f3a\"],[0.8888888888888888,\"#fdca26\"],[1.0,\"#f0f921\"]],\"sequentialminus\":[[0.0,\"#0d0887\"],[0.1111111111111111,\"#46039f\"],[0.2222222222222222,\"#7201a8\"],[0.3333333333333333,\"#9c179e\"],[0.4444444444444444,\"#bd3786\"],[0.5555555555555556,\"#d8576b\"],[0.6666666666666666,\"#ed7953\"],[0.7777777777777778,\"#fb9f3a\"],[0.8888888888888888,\"#fdca26\"],[1.0,\"#f0f921\"]]},\"colorway\":[\"#636efa\",\"#EF553B\",\"#00cc96\",\"#ab63fa\",\"#FFA15A\",\"#19d3f3\",\"#FF6692\",\"#B6E880\",\"#FF97FF\",\"#FECB52\"],\"font\":{\"color\":\"#f2f5fa\"},\"geo\":{\"bgcolor\":\"rgb(17,17,17)\",\"lakecolor\":\"rgb(17,17,17)\",\"landcolor\":\"rgb(17,17,17)\",\"showlakes\":true,\"showland\":true,\"subunitcolor\":\"#506784\"},\"hoverlabel\":{\"align\":\"left\"},\"hovermode\":\"closest\",\"mapbox\":{\"style\":\"dark\"},\"paper_bgcolor\":\"rgb(17,17,17)\",\"plot_bgcolor\":\"rgb(17,17,17)\",\"polar\":{\"angularaxis\":{\"gridcolor\":\"#506784\",\"linecolor\":\"#506784\",\"ticks\":\"\"},\"bgcolor\":\"rgb(17,17,17)\",\"radialaxis\":{\"gridcolor\":\"#506784\",\"linecolor\":\"#506784\",\"ticks\":\"\"}},\"scene\":{\"xaxis\":{\"backgroundcolor\":\"rgb(17,17,17)\",\"gridcolor\":\"#506784\",\"gridwidth\":2,\"linecolor\":\"#506784\",\"showbackground\":true,\"ticks\":\"\",\"zerolinecolor\":\"#C8D4E3\"},\"yaxis\":{\"backgroundcolor\":\"rgb(17,17,17)\",\"gridcolor\":\"#506784\",\"gridwidth\":2,\"linecolor\":\"#506784\",\"showbackground\":true,\"ticks\":\"\",\"zerolinecolor\":\"#C8D4E3\"},\"zaxis\":{\"backgroundcolor\":\"rgb(17,17,17)\",\"gridcolor\":\"#506784\",\"gridwidth\":2,\"linecolor\":\"#506784\",\"showbackground\":true,\"ticks\":\"\",\"zerolinecolor\":\"#C8D4E3\"}},\"shapedefaults\":{\"line\":{\"color\":\"#f2f5fa\"}},\"sliderdefaults\":{\"bgcolor\":\"#C8D4E3\",\"bordercolor\":\"rgb(17,17,17)\",\"borderwidth\":1,\"tickwidth\":0},\"ternary\":{\"aaxis\":{\"gridcolor\":\"#506784\",\"linecolor\":\"#506784\",\"ticks\":\"\"},\"baxis\":{\"gridcolor\":\"#506784\",\"linecolor\":\"#506784\",\"ticks\":\"\"},\"bgcolor\":\"rgb(17,17,17)\",\"caxis\":{\"gridcolor\":\"#506784\",\"linecolor\":\"#506784\",\"ticks\":\"\"}},\"title\":{\"x\":0.05},\"updatemenudefaults\":{\"bgcolor\":\"#506784\",\"borderwidth\":0},\"xaxis\":{\"automargin\":true,\"gridcolor\":\"#283442\",\"linecolor\":\"#506784\",\"ticks\":\"\",\"title\":{\"standoff\":15},\"zerolinecolor\":\"#283442\",\"zerolinewidth\":2},\"yaxis\":{\"automargin\":true,\"gridcolor\":\"#283442\",\"linecolor\":\"#506784\",\"ticks\":\"\",\"title\":{\"standoff\":15},\"zerolinecolor\":\"#283442\",\"zerolinewidth\":2}}},\"xaxis\":{\"anchor\":\"y\",\"domain\":[0.0,1.0],\"title\":{\"text\":\"Constituency\"},\"categoryorder\":\"total descending\"},\"yaxis\":{\"anchor\":\"x\",\"domain\":[0.0,1.0],\"title\":{\"text\":\"Winning Percentage\"}},\"legend\":{\"title\":{\"text\":\"Party\"},\"tracegroupgap\":0},\"title\":{\"text\":\"Constituency vs Party vs Winning Percentage\"},\"barmode\":\"relative\"},                        {\"responsive\": true}                    ).then(function(){\n",
       "                            \n",
       "var gd = document.getElementById('4f65c775-033b-48f8-b317-899756e9ca9b');\n",
       "var x = new MutationObserver(function (mutations, observer) {{\n",
       "        var display = window.getComputedStyle(gd).display;\n",
       "        if (!display || display === 'none') {{\n",
       "            console.log([gd, 'removed!']);\n",
       "            Plotly.purge(gd);\n",
       "            observer.disconnect();\n",
       "        }}\n",
       "}});\n",
       "\n",
       "// Listen for the removal of the full notebook cells\n",
       "var notebookContainer = gd.closest('#notebook-container');\n",
       "if (notebookContainer) {{\n",
       "    x.observe(notebookContainer, {childList: true});\n",
       "}}\n",
       "\n",
       "// Listen for the clearing of the current output cell\n",
       "var outputEl = gd.closest('.output');\n",
       "if (outputEl) {{\n",
       "    x.observe(outputEl, {childList: true});\n",
       "}}\n",
       "\n",
       "                        })                };                });            </script>        </div>"
      ]
     },
     "metadata": {},
     "output_type": "display_data"
    }
   ],
   "source": [
    "import pandas as pd\n",
    "import plotly.express as px\n",
    "\n",
    "# Load the CSV file\n",
    "file_path = \"C:/Users/viina/Downloads/archive (4)/2019_Results_Winning_Candidate.csv\"\n",
    "vote = pd.read_csv(file_path)\n",
    "\n",
    "# Display the first few rows to understand the data structure\n",
    "print(vote.head())\n",
    "\n",
    "# Create a bar plot for Constituency vs Party vs Percentage\n",
    "fig = px.bar(vote, x='Constituency', y='Percentage', color='Party',\n",
    "             labels={'Percentage': 'Winning Percentage'},\n",
    "             title='Constituency vs Party vs Winning Percentage')\n",
    "\n",
    "# Update the layout for better readability\n",
    "fig.update_layout(\n",
    "    xaxis_title='Constituency',\n",
    "    yaxis_title='Winning Percentage',\n",
    "    legend_title='Party',\n",
    "    template='plotly_dark',\n",
    "    xaxis={'categoryorder':'total descending'}\n",
    ")\n",
    "\n",
    "# Show the plot\n",
    "fig.show()\n"
   ]
  },
  {
   "cell_type": "code",
   "execution_count": 9,
   "id": "8d7e6f34",
   "metadata": {},
   "outputs": [
    {
     "name": "stdout",
     "output_type": "stream",
     "text": [
      "            State Constituency   Votes  Percentage  \\\n",
      "1  Andhra Pradesh   Amalapuram  485313       39.43   \n",
      "2  Andhra Pradesh   Anakapalli  586226       47.33   \n",
      "3  Andhra Pradesh    Anantapur  695208       51.79   \n",
      "4  Andhra Pradesh        Aruku  562190       52.32   \n",
      "5  Andhra Pradesh      Bapatla  598257       47.24   \n",
      "\n",
      "                                   Party                       Candidate  \n",
      "1  Yuvajana Sramika Rythu Congress Party                 CHINTA ANURADHA  \n",
      "2  Yuvajana Sramika Rythu Congress Party  Dr.Beesetti Venkata Satyavathi  \n",
      "3  Yuvajana Sramika Rythu Congress Party                 TALARI RANGAIAH  \n",
      "4  Yuvajana Sramika Rythu Congress Party                GODDETI. MADHAVI  \n",
      "5  Yuvajana Sramika Rythu Congress Party                 NANDIGAM SURESH  \n"
     ]
    },
    {
     "data": {
      "application/vnd.plotly.v1+json": {
       "config": {
        "plotlyServerURL": "https://plot.ly"
       },
       "data": [
        {
         "alignmentgroup": "True",
         "hovertemplate": "Party=Yuvajana Sramika Rythu Congress Party<br>Constituency=%{x}<br>Winning Percentage=%{y}<extra></extra>",
         "legendgroup": "Yuvajana Sramika Rythu Congress Party",
         "marker": {
          "color": "#EF553B",
          "pattern": {
           "shape": ""
          }
         },
         "name": "Yuvajana Sramika Rythu Congress Party",
         "offsetgroup": "Yuvajana Sramika Rythu Congress Party",
         "orientation": "v",
         "showlegend": true,
         "textposition": "auto",
         "type": "bar",
         "x": [
          "Amalapuram",
          "Anakapalli",
          "Anantapur",
          "Aruku",
          "Bapatla",
          "Chittoor",
          "Eluru",
          "Hindupur",
          "Kadapa",
          "Kurnool",
          "Machilipatnam",
          "Nandyal",
          "Narasaraopet",
          "Narsapuram",
          "Nellore",
          "Ongole",
          "Rajahmundry",
          "Rajampet",
          "Tirupati",
          "Visakhapatnam",
          "Vizianagaram"
         ],
         "xaxis": "x",
         "y": [
          39.43,
          47.33,
          51.79,
          52.32,
          47.24,
          52.05,
          50.97,
          52.79,
          63.8,
          50.98,
          46.02,
          55.49,
          51.83,
          38.11,
          53.13,
          55.07,
          46.55,
          57.35,
          55.03,
          35.24,
          47.49
         ],
         "yaxis": "y"
        },
        {
         "alignmentgroup": "True",
         "hovertemplate": "Party=Telugu Desam<br>Constituency=%{x}<br>Winning Percentage=%{y}<extra></extra>",
         "legendgroup": "Telugu Desam",
         "marker": {
          "color": "yellow",
          "pattern": {
           "shape": ""
          }
         },
         "name": "Telugu Desam",
         "offsetgroup": "Telugu Desam",
         "orientation": "v",
         "showlegend": true,
         "textposition": "auto",
         "type": "bar",
         "x": [
          "Srikakulam",
          "Vijayawada"
         ],
         "xaxis": "x",
         "y": [
          46.19,
          45.04
         ],
         "yaxis": "y"
        }
       ],
       "layout": {
        "barmode": "relative",
        "legend": {
         "title": {
          "text": "Party"
         },
         "tracegroupgap": 0
        },
        "template": {
         "data": {
          "bar": [
           {
            "error_x": {
             "color": "#f2f5fa"
            },
            "error_y": {
             "color": "#f2f5fa"
            },
            "marker": {
             "line": {
              "color": "rgb(17,17,17)",
              "width": 0.5
             },
             "pattern": {
              "fillmode": "overlay",
              "size": 10,
              "solidity": 0.2
             }
            },
            "type": "bar"
           }
          ],
          "barpolar": [
           {
            "marker": {
             "line": {
              "color": "rgb(17,17,17)",
              "width": 0.5
             },
             "pattern": {
              "fillmode": "overlay",
              "size": 10,
              "solidity": 0.2
             }
            },
            "type": "barpolar"
           }
          ],
          "carpet": [
           {
            "aaxis": {
             "endlinecolor": "#A2B1C6",
             "gridcolor": "#506784",
             "linecolor": "#506784",
             "minorgridcolor": "#506784",
             "startlinecolor": "#A2B1C6"
            },
            "baxis": {
             "endlinecolor": "#A2B1C6",
             "gridcolor": "#506784",
             "linecolor": "#506784",
             "minorgridcolor": "#506784",
             "startlinecolor": "#A2B1C6"
            },
            "type": "carpet"
           }
          ],
          "choropleth": [
           {
            "colorbar": {
             "outlinewidth": 0,
             "ticks": ""
            },
            "type": "choropleth"
           }
          ],
          "contour": [
           {
            "colorbar": {
             "outlinewidth": 0,
             "ticks": ""
            },
            "colorscale": [
             [
              0,
              "#0d0887"
             ],
             [
              0.1111111111111111,
              "#46039f"
             ],
             [
              0.2222222222222222,
              "#7201a8"
             ],
             [
              0.3333333333333333,
              "#9c179e"
             ],
             [
              0.4444444444444444,
              "#bd3786"
             ],
             [
              0.5555555555555556,
              "#d8576b"
             ],
             [
              0.6666666666666666,
              "#ed7953"
             ],
             [
              0.7777777777777778,
              "#fb9f3a"
             ],
             [
              0.8888888888888888,
              "#fdca26"
             ],
             [
              1,
              "#f0f921"
             ]
            ],
            "type": "contour"
           }
          ],
          "contourcarpet": [
           {
            "colorbar": {
             "outlinewidth": 0,
             "ticks": ""
            },
            "type": "contourcarpet"
           }
          ],
          "heatmap": [
           {
            "colorbar": {
             "outlinewidth": 0,
             "ticks": ""
            },
            "colorscale": [
             [
              0,
              "#0d0887"
             ],
             [
              0.1111111111111111,
              "#46039f"
             ],
             [
              0.2222222222222222,
              "#7201a8"
             ],
             [
              0.3333333333333333,
              "#9c179e"
             ],
             [
              0.4444444444444444,
              "#bd3786"
             ],
             [
              0.5555555555555556,
              "#d8576b"
             ],
             [
              0.6666666666666666,
              "#ed7953"
             ],
             [
              0.7777777777777778,
              "#fb9f3a"
             ],
             [
              0.8888888888888888,
              "#fdca26"
             ],
             [
              1,
              "#f0f921"
             ]
            ],
            "type": "heatmap"
           }
          ],
          "heatmapgl": [
           {
            "colorbar": {
             "outlinewidth": 0,
             "ticks": ""
            },
            "colorscale": [
             [
              0,
              "#0d0887"
             ],
             [
              0.1111111111111111,
              "#46039f"
             ],
             [
              0.2222222222222222,
              "#7201a8"
             ],
             [
              0.3333333333333333,
              "#9c179e"
             ],
             [
              0.4444444444444444,
              "#bd3786"
             ],
             [
              0.5555555555555556,
              "#d8576b"
             ],
             [
              0.6666666666666666,
              "#ed7953"
             ],
             [
              0.7777777777777778,
              "#fb9f3a"
             ],
             [
              0.8888888888888888,
              "#fdca26"
             ],
             [
              1,
              "#f0f921"
             ]
            ],
            "type": "heatmapgl"
           }
          ],
          "histogram": [
           {
            "marker": {
             "pattern": {
              "fillmode": "overlay",
              "size": 10,
              "solidity": 0.2
             }
            },
            "type": "histogram"
           }
          ],
          "histogram2d": [
           {
            "colorbar": {
             "outlinewidth": 0,
             "ticks": ""
            },
            "colorscale": [
             [
              0,
              "#0d0887"
             ],
             [
              0.1111111111111111,
              "#46039f"
             ],
             [
              0.2222222222222222,
              "#7201a8"
             ],
             [
              0.3333333333333333,
              "#9c179e"
             ],
             [
              0.4444444444444444,
              "#bd3786"
             ],
             [
              0.5555555555555556,
              "#d8576b"
             ],
             [
              0.6666666666666666,
              "#ed7953"
             ],
             [
              0.7777777777777778,
              "#fb9f3a"
             ],
             [
              0.8888888888888888,
              "#fdca26"
             ],
             [
              1,
              "#f0f921"
             ]
            ],
            "type": "histogram2d"
           }
          ],
          "histogram2dcontour": [
           {
            "colorbar": {
             "outlinewidth": 0,
             "ticks": ""
            },
            "colorscale": [
             [
              0,
              "#0d0887"
             ],
             [
              0.1111111111111111,
              "#46039f"
             ],
             [
              0.2222222222222222,
              "#7201a8"
             ],
             [
              0.3333333333333333,
              "#9c179e"
             ],
             [
              0.4444444444444444,
              "#bd3786"
             ],
             [
              0.5555555555555556,
              "#d8576b"
             ],
             [
              0.6666666666666666,
              "#ed7953"
             ],
             [
              0.7777777777777778,
              "#fb9f3a"
             ],
             [
              0.8888888888888888,
              "#fdca26"
             ],
             [
              1,
              "#f0f921"
             ]
            ],
            "type": "histogram2dcontour"
           }
          ],
          "mesh3d": [
           {
            "colorbar": {
             "outlinewidth": 0,
             "ticks": ""
            },
            "type": "mesh3d"
           }
          ],
          "parcoords": [
           {
            "line": {
             "colorbar": {
              "outlinewidth": 0,
              "ticks": ""
             }
            },
            "type": "parcoords"
           }
          ],
          "pie": [
           {
            "automargin": true,
            "type": "pie"
           }
          ],
          "scatter": [
           {
            "marker": {
             "line": {
              "color": "#283442"
             }
            },
            "type": "scatter"
           }
          ],
          "scatter3d": [
           {
            "line": {
             "colorbar": {
              "outlinewidth": 0,
              "ticks": ""
             }
            },
            "marker": {
             "colorbar": {
              "outlinewidth": 0,
              "ticks": ""
             }
            },
            "type": "scatter3d"
           }
          ],
          "scattercarpet": [
           {
            "marker": {
             "colorbar": {
              "outlinewidth": 0,
              "ticks": ""
             }
            },
            "type": "scattercarpet"
           }
          ],
          "scattergeo": [
           {
            "marker": {
             "colorbar": {
              "outlinewidth": 0,
              "ticks": ""
             }
            },
            "type": "scattergeo"
           }
          ],
          "scattergl": [
           {
            "marker": {
             "line": {
              "color": "#283442"
             }
            },
            "type": "scattergl"
           }
          ],
          "scattermapbox": [
           {
            "marker": {
             "colorbar": {
              "outlinewidth": 0,
              "ticks": ""
             }
            },
            "type": "scattermapbox"
           }
          ],
          "scatterpolar": [
           {
            "marker": {
             "colorbar": {
              "outlinewidth": 0,
              "ticks": ""
             }
            },
            "type": "scatterpolar"
           }
          ],
          "scatterpolargl": [
           {
            "marker": {
             "colorbar": {
              "outlinewidth": 0,
              "ticks": ""
             }
            },
            "type": "scatterpolargl"
           }
          ],
          "scatterternary": [
           {
            "marker": {
             "colorbar": {
              "outlinewidth": 0,
              "ticks": ""
             }
            },
            "type": "scatterternary"
           }
          ],
          "surface": [
           {
            "colorbar": {
             "outlinewidth": 0,
             "ticks": ""
            },
            "colorscale": [
             [
              0,
              "#0d0887"
             ],
             [
              0.1111111111111111,
              "#46039f"
             ],
             [
              0.2222222222222222,
              "#7201a8"
             ],
             [
              0.3333333333333333,
              "#9c179e"
             ],
             [
              0.4444444444444444,
              "#bd3786"
             ],
             [
              0.5555555555555556,
              "#d8576b"
             ],
             [
              0.6666666666666666,
              "#ed7953"
             ],
             [
              0.7777777777777778,
              "#fb9f3a"
             ],
             [
              0.8888888888888888,
              "#fdca26"
             ],
             [
              1,
              "#f0f921"
             ]
            ],
            "type": "surface"
           }
          ],
          "table": [
           {
            "cells": {
             "fill": {
              "color": "#506784"
             },
             "line": {
              "color": "rgb(17,17,17)"
             }
            },
            "header": {
             "fill": {
              "color": "#2a3f5f"
             },
             "line": {
              "color": "rgb(17,17,17)"
             }
            },
            "type": "table"
           }
          ]
         },
         "layout": {
          "annotationdefaults": {
           "arrowcolor": "#f2f5fa",
           "arrowhead": 0,
           "arrowwidth": 1
          },
          "autotypenumbers": "strict",
          "coloraxis": {
           "colorbar": {
            "outlinewidth": 0,
            "ticks": ""
           }
          },
          "colorscale": {
           "diverging": [
            [
             0,
             "#8e0152"
            ],
            [
             0.1,
             "#c51b7d"
            ],
            [
             0.2,
             "#de77ae"
            ],
            [
             0.3,
             "#f1b6da"
            ],
            [
             0.4,
             "#fde0ef"
            ],
            [
             0.5,
             "#f7f7f7"
            ],
            [
             0.6,
             "#e6f5d0"
            ],
            [
             0.7,
             "#b8e186"
            ],
            [
             0.8,
             "#7fbc41"
            ],
            [
             0.9,
             "#4d9221"
            ],
            [
             1,
             "#276419"
            ]
           ],
           "sequential": [
            [
             0,
             "#0d0887"
            ],
            [
             0.1111111111111111,
             "#46039f"
            ],
            [
             0.2222222222222222,
             "#7201a8"
            ],
            [
             0.3333333333333333,
             "#9c179e"
            ],
            [
             0.4444444444444444,
             "#bd3786"
            ],
            [
             0.5555555555555556,
             "#d8576b"
            ],
            [
             0.6666666666666666,
             "#ed7953"
            ],
            [
             0.7777777777777778,
             "#fb9f3a"
            ],
            [
             0.8888888888888888,
             "#fdca26"
            ],
            [
             1,
             "#f0f921"
            ]
           ],
           "sequentialminus": [
            [
             0,
             "#0d0887"
            ],
            [
             0.1111111111111111,
             "#46039f"
            ],
            [
             0.2222222222222222,
             "#7201a8"
            ],
            [
             0.3333333333333333,
             "#9c179e"
            ],
            [
             0.4444444444444444,
             "#bd3786"
            ],
            [
             0.5555555555555556,
             "#d8576b"
            ],
            [
             0.6666666666666666,
             "#ed7953"
            ],
            [
             0.7777777777777778,
             "#fb9f3a"
            ],
            [
             0.8888888888888888,
             "#fdca26"
            ],
            [
             1,
             "#f0f921"
            ]
           ]
          },
          "colorway": [
           "#636efa",
           "#EF553B",
           "#00cc96",
           "#ab63fa",
           "#FFA15A",
           "#19d3f3",
           "#FF6692",
           "#B6E880",
           "#FF97FF",
           "#FECB52"
          ],
          "font": {
           "color": "#f2f5fa"
          },
          "geo": {
           "bgcolor": "rgb(17,17,17)",
           "lakecolor": "rgb(17,17,17)",
           "landcolor": "rgb(17,17,17)",
           "showlakes": true,
           "showland": true,
           "subunitcolor": "#506784"
          },
          "hoverlabel": {
           "align": "left"
          },
          "hovermode": "closest",
          "mapbox": {
           "style": "dark"
          },
          "paper_bgcolor": "rgb(17,17,17)",
          "plot_bgcolor": "rgb(17,17,17)",
          "polar": {
           "angularaxis": {
            "gridcolor": "#506784",
            "linecolor": "#506784",
            "ticks": ""
           },
           "bgcolor": "rgb(17,17,17)",
           "radialaxis": {
            "gridcolor": "#506784",
            "linecolor": "#506784",
            "ticks": ""
           }
          },
          "scene": {
           "xaxis": {
            "backgroundcolor": "rgb(17,17,17)",
            "gridcolor": "#506784",
            "gridwidth": 2,
            "linecolor": "#506784",
            "showbackground": true,
            "ticks": "",
            "zerolinecolor": "#C8D4E3"
           },
           "yaxis": {
            "backgroundcolor": "rgb(17,17,17)",
            "gridcolor": "#506784",
            "gridwidth": 2,
            "linecolor": "#506784",
            "showbackground": true,
            "ticks": "",
            "zerolinecolor": "#C8D4E3"
           },
           "zaxis": {
            "backgroundcolor": "rgb(17,17,17)",
            "gridcolor": "#506784",
            "gridwidth": 2,
            "linecolor": "#506784",
            "showbackground": true,
            "ticks": "",
            "zerolinecolor": "#C8D4E3"
           }
          },
          "shapedefaults": {
           "line": {
            "color": "#f2f5fa"
           }
          },
          "sliderdefaults": {
           "bgcolor": "#C8D4E3",
           "bordercolor": "rgb(17,17,17)",
           "borderwidth": 1,
           "tickwidth": 0
          },
          "ternary": {
           "aaxis": {
            "gridcolor": "#506784",
            "linecolor": "#506784",
            "ticks": ""
           },
           "baxis": {
            "gridcolor": "#506784",
            "linecolor": "#506784",
            "ticks": ""
           },
           "bgcolor": "rgb(17,17,17)",
           "caxis": {
            "gridcolor": "#506784",
            "linecolor": "#506784",
            "ticks": ""
           }
          },
          "title": {
           "x": 0.05
          },
          "updatemenudefaults": {
           "bgcolor": "#506784",
           "borderwidth": 0
          },
          "xaxis": {
           "automargin": true,
           "gridcolor": "#283442",
           "linecolor": "#506784",
           "ticks": "",
           "title": {
            "standoff": 15
           },
           "zerolinecolor": "#283442",
           "zerolinewidth": 2
          },
          "yaxis": {
           "automargin": true,
           "gridcolor": "#283442",
           "linecolor": "#506784",
           "ticks": "",
           "title": {
            "standoff": 15
           },
           "zerolinecolor": "#283442",
           "zerolinewidth": 2
          }
         }
        },
        "title": {
         "text": "Andhra Pradesh Constituencies: Party vs Winning Percentage"
        },
        "xaxis": {
         "anchor": "y",
         "categoryorder": "total descending",
         "domain": [
          0,
          1
         ],
         "title": {
          "text": "Constituency"
         }
        },
        "yaxis": {
         "anchor": "x",
         "domain": [
          0,
          1
         ],
         "title": {
          "text": "Winning Percentage"
         }
        }
       }
      },
      "text/html": [
       "<div>                            <div id=\"14795fd8-f46a-4399-a35e-ca548c756501\" class=\"plotly-graph-div\" style=\"height:525px; width:100%;\"></div>            <script type=\"text/javascript\">                require([\"plotly\"], function(Plotly) {                    window.PLOTLYENV=window.PLOTLYENV || {};                                    if (document.getElementById(\"14795fd8-f46a-4399-a35e-ca548c756501\")) {                    Plotly.newPlot(                        \"14795fd8-f46a-4399-a35e-ca548c756501\",                        [{\"alignmentgroup\":\"True\",\"hovertemplate\":\"Party=Yuvajana Sramika Rythu Congress Party<br>Constituency=%{x}<br>Winning Percentage=%{y}<extra></extra>\",\"legendgroup\":\"Yuvajana Sramika Rythu Congress Party\",\"marker\":{\"color\":\"#EF553B\",\"pattern\":{\"shape\":\"\"}},\"name\":\"Yuvajana Sramika Rythu Congress Party\",\"offsetgroup\":\"Yuvajana Sramika Rythu Congress Party\",\"orientation\":\"v\",\"showlegend\":true,\"textposition\":\"auto\",\"x\":[\"Amalapuram\",\"Anakapalli\",\"Anantapur\",\"Aruku\",\"Bapatla\",\"Chittoor\",\"Eluru\",\"Hindupur\",\"Kadapa\",\"Kurnool\",\"Machilipatnam\",\"Nandyal\",\"Narasaraopet\",\"Narsapuram\",\"Nellore\",\"Ongole\",\"Rajahmundry\",\"Rajampet\",\"Tirupati\",\"Visakhapatnam\",\"Vizianagaram\"],\"xaxis\":\"x\",\"y\":[39.43,47.33,51.79,52.32,47.24,52.05,50.97,52.79,63.8,50.98,46.02,55.49,51.83,38.11,53.13,55.07,46.55,57.35,55.03,35.24,47.49],\"yaxis\":\"y\",\"type\":\"bar\"},{\"alignmentgroup\":\"True\",\"hovertemplate\":\"Party=Telugu Desam<br>Constituency=%{x}<br>Winning Percentage=%{y}<extra></extra>\",\"legendgroup\":\"Telugu Desam\",\"marker\":{\"color\":\"yellow\",\"pattern\":{\"shape\":\"\"}},\"name\":\"Telugu Desam\",\"offsetgroup\":\"Telugu Desam\",\"orientation\":\"v\",\"showlegend\":true,\"textposition\":\"auto\",\"x\":[\"Srikakulam\",\"Vijayawada\"],\"xaxis\":\"x\",\"y\":[46.19,45.04],\"yaxis\":\"y\",\"type\":\"bar\"}],                        {\"template\":{\"data\":{\"barpolar\":[{\"marker\":{\"line\":{\"color\":\"rgb(17,17,17)\",\"width\":0.5},\"pattern\":{\"fillmode\":\"overlay\",\"size\":10,\"solidity\":0.2}},\"type\":\"barpolar\"}],\"bar\":[{\"error_x\":{\"color\":\"#f2f5fa\"},\"error_y\":{\"color\":\"#f2f5fa\"},\"marker\":{\"line\":{\"color\":\"rgb(17,17,17)\",\"width\":0.5},\"pattern\":{\"fillmode\":\"overlay\",\"size\":10,\"solidity\":0.2}},\"type\":\"bar\"}],\"carpet\":[{\"aaxis\":{\"endlinecolor\":\"#A2B1C6\",\"gridcolor\":\"#506784\",\"linecolor\":\"#506784\",\"minorgridcolor\":\"#506784\",\"startlinecolor\":\"#A2B1C6\"},\"baxis\":{\"endlinecolor\":\"#A2B1C6\",\"gridcolor\":\"#506784\",\"linecolor\":\"#506784\",\"minorgridcolor\":\"#506784\",\"startlinecolor\":\"#A2B1C6\"},\"type\":\"carpet\"}],\"choropleth\":[{\"colorbar\":{\"outlinewidth\":0,\"ticks\":\"\"},\"type\":\"choropleth\"}],\"contourcarpet\":[{\"colorbar\":{\"outlinewidth\":0,\"ticks\":\"\"},\"type\":\"contourcarpet\"}],\"contour\":[{\"colorbar\":{\"outlinewidth\":0,\"ticks\":\"\"},\"colorscale\":[[0.0,\"#0d0887\"],[0.1111111111111111,\"#46039f\"],[0.2222222222222222,\"#7201a8\"],[0.3333333333333333,\"#9c179e\"],[0.4444444444444444,\"#bd3786\"],[0.5555555555555556,\"#d8576b\"],[0.6666666666666666,\"#ed7953\"],[0.7777777777777778,\"#fb9f3a\"],[0.8888888888888888,\"#fdca26\"],[1.0,\"#f0f921\"]],\"type\":\"contour\"}],\"heatmapgl\":[{\"colorbar\":{\"outlinewidth\":0,\"ticks\":\"\"},\"colorscale\":[[0.0,\"#0d0887\"],[0.1111111111111111,\"#46039f\"],[0.2222222222222222,\"#7201a8\"],[0.3333333333333333,\"#9c179e\"],[0.4444444444444444,\"#bd3786\"],[0.5555555555555556,\"#d8576b\"],[0.6666666666666666,\"#ed7953\"],[0.7777777777777778,\"#fb9f3a\"],[0.8888888888888888,\"#fdca26\"],[1.0,\"#f0f921\"]],\"type\":\"heatmapgl\"}],\"heatmap\":[{\"colorbar\":{\"outlinewidth\":0,\"ticks\":\"\"},\"colorscale\":[[0.0,\"#0d0887\"],[0.1111111111111111,\"#46039f\"],[0.2222222222222222,\"#7201a8\"],[0.3333333333333333,\"#9c179e\"],[0.4444444444444444,\"#bd3786\"],[0.5555555555555556,\"#d8576b\"],[0.6666666666666666,\"#ed7953\"],[0.7777777777777778,\"#fb9f3a\"],[0.8888888888888888,\"#fdca26\"],[1.0,\"#f0f921\"]],\"type\":\"heatmap\"}],\"histogram2dcontour\":[{\"colorbar\":{\"outlinewidth\":0,\"ticks\":\"\"},\"colorscale\":[[0.0,\"#0d0887\"],[0.1111111111111111,\"#46039f\"],[0.2222222222222222,\"#7201a8\"],[0.3333333333333333,\"#9c179e\"],[0.4444444444444444,\"#bd3786\"],[0.5555555555555556,\"#d8576b\"],[0.6666666666666666,\"#ed7953\"],[0.7777777777777778,\"#fb9f3a\"],[0.8888888888888888,\"#fdca26\"],[1.0,\"#f0f921\"]],\"type\":\"histogram2dcontour\"}],\"histogram2d\":[{\"colorbar\":{\"outlinewidth\":0,\"ticks\":\"\"},\"colorscale\":[[0.0,\"#0d0887\"],[0.1111111111111111,\"#46039f\"],[0.2222222222222222,\"#7201a8\"],[0.3333333333333333,\"#9c179e\"],[0.4444444444444444,\"#bd3786\"],[0.5555555555555556,\"#d8576b\"],[0.6666666666666666,\"#ed7953\"],[0.7777777777777778,\"#fb9f3a\"],[0.8888888888888888,\"#fdca26\"],[1.0,\"#f0f921\"]],\"type\":\"histogram2d\"}],\"histogram\":[{\"marker\":{\"pattern\":{\"fillmode\":\"overlay\",\"size\":10,\"solidity\":0.2}},\"type\":\"histogram\"}],\"mesh3d\":[{\"colorbar\":{\"outlinewidth\":0,\"ticks\":\"\"},\"type\":\"mesh3d\"}],\"parcoords\":[{\"line\":{\"colorbar\":{\"outlinewidth\":0,\"ticks\":\"\"}},\"type\":\"parcoords\"}],\"pie\":[{\"automargin\":true,\"type\":\"pie\"}],\"scatter3d\":[{\"line\":{\"colorbar\":{\"outlinewidth\":0,\"ticks\":\"\"}},\"marker\":{\"colorbar\":{\"outlinewidth\":0,\"ticks\":\"\"}},\"type\":\"scatter3d\"}],\"scattercarpet\":[{\"marker\":{\"colorbar\":{\"outlinewidth\":0,\"ticks\":\"\"}},\"type\":\"scattercarpet\"}],\"scattergeo\":[{\"marker\":{\"colorbar\":{\"outlinewidth\":0,\"ticks\":\"\"}},\"type\":\"scattergeo\"}],\"scattergl\":[{\"marker\":{\"line\":{\"color\":\"#283442\"}},\"type\":\"scattergl\"}],\"scattermapbox\":[{\"marker\":{\"colorbar\":{\"outlinewidth\":0,\"ticks\":\"\"}},\"type\":\"scattermapbox\"}],\"scatterpolargl\":[{\"marker\":{\"colorbar\":{\"outlinewidth\":0,\"ticks\":\"\"}},\"type\":\"scatterpolargl\"}],\"scatterpolar\":[{\"marker\":{\"colorbar\":{\"outlinewidth\":0,\"ticks\":\"\"}},\"type\":\"scatterpolar\"}],\"scatter\":[{\"marker\":{\"line\":{\"color\":\"#283442\"}},\"type\":\"scatter\"}],\"scatterternary\":[{\"marker\":{\"colorbar\":{\"outlinewidth\":0,\"ticks\":\"\"}},\"type\":\"scatterternary\"}],\"surface\":[{\"colorbar\":{\"outlinewidth\":0,\"ticks\":\"\"},\"colorscale\":[[0.0,\"#0d0887\"],[0.1111111111111111,\"#46039f\"],[0.2222222222222222,\"#7201a8\"],[0.3333333333333333,\"#9c179e\"],[0.4444444444444444,\"#bd3786\"],[0.5555555555555556,\"#d8576b\"],[0.6666666666666666,\"#ed7953\"],[0.7777777777777778,\"#fb9f3a\"],[0.8888888888888888,\"#fdca26\"],[1.0,\"#f0f921\"]],\"type\":\"surface\"}],\"table\":[{\"cells\":{\"fill\":{\"color\":\"#506784\"},\"line\":{\"color\":\"rgb(17,17,17)\"}},\"header\":{\"fill\":{\"color\":\"#2a3f5f\"},\"line\":{\"color\":\"rgb(17,17,17)\"}},\"type\":\"table\"}]},\"layout\":{\"annotationdefaults\":{\"arrowcolor\":\"#f2f5fa\",\"arrowhead\":0,\"arrowwidth\":1},\"autotypenumbers\":\"strict\",\"coloraxis\":{\"colorbar\":{\"outlinewidth\":0,\"ticks\":\"\"}},\"colorscale\":{\"diverging\":[[0,\"#8e0152\"],[0.1,\"#c51b7d\"],[0.2,\"#de77ae\"],[0.3,\"#f1b6da\"],[0.4,\"#fde0ef\"],[0.5,\"#f7f7f7\"],[0.6,\"#e6f5d0\"],[0.7,\"#b8e186\"],[0.8,\"#7fbc41\"],[0.9,\"#4d9221\"],[1,\"#276419\"]],\"sequential\":[[0.0,\"#0d0887\"],[0.1111111111111111,\"#46039f\"],[0.2222222222222222,\"#7201a8\"],[0.3333333333333333,\"#9c179e\"],[0.4444444444444444,\"#bd3786\"],[0.5555555555555556,\"#d8576b\"],[0.6666666666666666,\"#ed7953\"],[0.7777777777777778,\"#fb9f3a\"],[0.8888888888888888,\"#fdca26\"],[1.0,\"#f0f921\"]],\"sequentialminus\":[[0.0,\"#0d0887\"],[0.1111111111111111,\"#46039f\"],[0.2222222222222222,\"#7201a8\"],[0.3333333333333333,\"#9c179e\"],[0.4444444444444444,\"#bd3786\"],[0.5555555555555556,\"#d8576b\"],[0.6666666666666666,\"#ed7953\"],[0.7777777777777778,\"#fb9f3a\"],[0.8888888888888888,\"#fdca26\"],[1.0,\"#f0f921\"]]},\"colorway\":[\"#636efa\",\"#EF553B\",\"#00cc96\",\"#ab63fa\",\"#FFA15A\",\"#19d3f3\",\"#FF6692\",\"#B6E880\",\"#FF97FF\",\"#FECB52\"],\"font\":{\"color\":\"#f2f5fa\"},\"geo\":{\"bgcolor\":\"rgb(17,17,17)\",\"lakecolor\":\"rgb(17,17,17)\",\"landcolor\":\"rgb(17,17,17)\",\"showlakes\":true,\"showland\":true,\"subunitcolor\":\"#506784\"},\"hoverlabel\":{\"align\":\"left\"},\"hovermode\":\"closest\",\"mapbox\":{\"style\":\"dark\"},\"paper_bgcolor\":\"rgb(17,17,17)\",\"plot_bgcolor\":\"rgb(17,17,17)\",\"polar\":{\"angularaxis\":{\"gridcolor\":\"#506784\",\"linecolor\":\"#506784\",\"ticks\":\"\"},\"bgcolor\":\"rgb(17,17,17)\",\"radialaxis\":{\"gridcolor\":\"#506784\",\"linecolor\":\"#506784\",\"ticks\":\"\"}},\"scene\":{\"xaxis\":{\"backgroundcolor\":\"rgb(17,17,17)\",\"gridcolor\":\"#506784\",\"gridwidth\":2,\"linecolor\":\"#506784\",\"showbackground\":true,\"ticks\":\"\",\"zerolinecolor\":\"#C8D4E3\"},\"yaxis\":{\"backgroundcolor\":\"rgb(17,17,17)\",\"gridcolor\":\"#506784\",\"gridwidth\":2,\"linecolor\":\"#506784\",\"showbackground\":true,\"ticks\":\"\",\"zerolinecolor\":\"#C8D4E3\"},\"zaxis\":{\"backgroundcolor\":\"rgb(17,17,17)\",\"gridcolor\":\"#506784\",\"gridwidth\":2,\"linecolor\":\"#506784\",\"showbackground\":true,\"ticks\":\"\",\"zerolinecolor\":\"#C8D4E3\"}},\"shapedefaults\":{\"line\":{\"color\":\"#f2f5fa\"}},\"sliderdefaults\":{\"bgcolor\":\"#C8D4E3\",\"bordercolor\":\"rgb(17,17,17)\",\"borderwidth\":1,\"tickwidth\":0},\"ternary\":{\"aaxis\":{\"gridcolor\":\"#506784\",\"linecolor\":\"#506784\",\"ticks\":\"\"},\"baxis\":{\"gridcolor\":\"#506784\",\"linecolor\":\"#506784\",\"ticks\":\"\"},\"bgcolor\":\"rgb(17,17,17)\",\"caxis\":{\"gridcolor\":\"#506784\",\"linecolor\":\"#506784\",\"ticks\":\"\"}},\"title\":{\"x\":0.05},\"updatemenudefaults\":{\"bgcolor\":\"#506784\",\"borderwidth\":0},\"xaxis\":{\"automargin\":true,\"gridcolor\":\"#283442\",\"linecolor\":\"#506784\",\"ticks\":\"\",\"title\":{\"standoff\":15},\"zerolinecolor\":\"#283442\",\"zerolinewidth\":2},\"yaxis\":{\"automargin\":true,\"gridcolor\":\"#283442\",\"linecolor\":\"#506784\",\"ticks\":\"\",\"title\":{\"standoff\":15},\"zerolinecolor\":\"#283442\",\"zerolinewidth\":2}}},\"xaxis\":{\"anchor\":\"y\",\"domain\":[0.0,1.0],\"title\":{\"text\":\"Constituency\"},\"categoryorder\":\"total descending\"},\"yaxis\":{\"anchor\":\"x\",\"domain\":[0.0,1.0],\"title\":{\"text\":\"Winning Percentage\"}},\"legend\":{\"title\":{\"text\":\"Party\"},\"tracegroupgap\":0},\"title\":{\"text\":\"Andhra Pradesh Constituencies: Party vs Winning Percentage\"},\"barmode\":\"relative\"},                        {\"responsive\": true}                    ).then(function(){\n",
       "                            \n",
       "var gd = document.getElementById('14795fd8-f46a-4399-a35e-ca548c756501');\n",
       "var x = new MutationObserver(function (mutations, observer) {{\n",
       "        var display = window.getComputedStyle(gd).display;\n",
       "        if (!display || display === 'none') {{\n",
       "            console.log([gd, 'removed!']);\n",
       "            Plotly.purge(gd);\n",
       "            observer.disconnect();\n",
       "        }}\n",
       "}});\n",
       "\n",
       "// Listen for the removal of the full notebook cells\n",
       "var notebookContainer = gd.closest('#notebook-container');\n",
       "if (notebookContainer) {{\n",
       "    x.observe(notebookContainer, {childList: true});\n",
       "}}\n",
       "\n",
       "// Listen for the clearing of the current output cell\n",
       "var outputEl = gd.closest('.output');\n",
       "if (outputEl) {{\n",
       "    x.observe(outputEl, {childList: true});\n",
       "}}\n",
       "\n",
       "                        })                };                });            </script>        </div>"
      ]
     },
     "metadata": {},
     "output_type": "display_data"
    }
   ],
   "source": [
    "import pandas as pd\n",
    "import plotly.express as px\n",
    "\n",
    "# Load the CSV file\n",
    "file_path = \"C:/Users/viina/Downloads/archive (4)/2019_Results_Winning_Candidate.csv\"\n",
    "vote = pd.read_csv(file_path)\n",
    "\n",
    "# Filter the data for Andhra Pradesh\n",
    "ap_vote = vote[vote['State'] == 'Andhra Pradesh']\n",
    "\n",
    "# Display the first few rows to understand the data structure\n",
    "print(ap_vote.head())\n",
    "\n",
    "# Define custom colors\n",
    "color_map = {'Telugu Desam': 'yellow'}\n",
    "\n",
    "# Create a bar plot for Constituency vs Party vs Percentage for Andhra Pradesh\n",
    "fig = px.bar(ap_vote, x='Constituency', y='Percentage', color='Party',\n",
    "             color_discrete_map=color_map,  # Apply custom colors\n",
    "             labels={'Percentage': 'Winning Percentage'},\n",
    "             title='Andhra Pradesh Constituencies: Party vs Winning Percentage')\n",
    "\n",
    "# Update the layout for better readability\n",
    "fig.update_layout(\n",
    "    xaxis_title='Constituency',\n",
    "    yaxis_title='Winning Percentage',\n",
    "    legend_title='Party',\n",
    "    template='plotly_dark',\n",
    "    xaxis={'categoryorder':'total descending'}\n",
    ")\n",
    "\n",
    "# Show the plot\n",
    "fig.show()\n"
   ]
  },
  {
   "cell_type": "code",
   "execution_count": 10,
   "id": "82342a36",
   "metadata": {},
   "outputs": [
    {
     "name": "stdout",
     "output_type": "stream",
     "text": [
      "         State Constituency   Votes  Percentage  \\\n",
      "396  Telangana     Adilabad  377374       35.48   \n",
      "397  Telangana      Bhongir  532795       43.94   \n",
      "398  Telangana     CHEVELLA  528148       40.62   \n",
      "399  Telangana    Hyderabad  517471       58.95   \n",
      "400  Telangana   Karimnagar  498276       43.42   \n",
      "\n",
      "                                      Party                  Candidate  \n",
      "396                  Bharatiya Janata Party             SOYAM BAPU RAO  \n",
      "397                Indian National Congress  Komati Reddy Venkat Reddy  \n",
      "398               Telangana Rashtra Samithi       Dr. G. Ranjith Reddy  \n",
      "399  All India Majlis-E-Ittehadul Muslimeen           ASADUDDIN OWAISI  \n",
      "400                  Bharatiya Janata Party         BANDI SANJAY KUMAR  \n"
     ]
    },
    {
     "data": {
      "application/vnd.plotly.v1+json": {
       "config": {
        "plotlyServerURL": "https://plot.ly"
       },
       "data": [
        {
         "alignmentgroup": "True",
         "hovertemplate": "Party=Bharatiya Janata Party<br>Constituency=%{x}<br>Winning Percentage=%{y}<extra></extra>",
         "legendgroup": "Bharatiya Janata Party",
         "marker": {
          "color": "#EF553B",
          "pattern": {
           "shape": ""
          }
         },
         "name": "Bharatiya Janata Party",
         "offsetgroup": "Bharatiya Janata Party",
         "orientation": "v",
         "showlegend": true,
         "textposition": "auto",
         "type": "bar",
         "x": [
          "Adilabad",
          "Karimnagar",
          "Nizamabad",
          "Secundrabad"
         ],
         "xaxis": "x",
         "y": [
          35.48,
          43.42,
          45.22,
          42.05
         ],
         "yaxis": "y"
        },
        {
         "alignmentgroup": "True",
         "hovertemplate": "Party=Indian National Congress<br>Constituency=%{x}<br>Winning Percentage=%{y}<extra></extra>",
         "legendgroup": "Indian National Congress",
         "marker": {
          "color": "#00cc96",
          "pattern": {
           "shape": ""
          }
         },
         "name": "Indian National Congress",
         "offsetgroup": "Indian National Congress",
         "orientation": "v",
         "showlegend": true,
         "textposition": "auto",
         "type": "bar",
         "x": [
          "Bhongir",
          "Malkajgiri",
          "Nalgonda"
         ],
         "xaxis": "x",
         "y": [
          43.94,
          38.63,
          44.74
         ],
         "yaxis": "y"
        },
        {
         "alignmentgroup": "True",
         "hovertemplate": "Party=Telangana Rashtra Samithi<br>Constituency=%{x}<br>Winning Percentage=%{y}<extra></extra>",
         "legendgroup": "Telangana Rashtra Samithi",
         "marker": {
          "color": "pink",
          "pattern": {
           "shape": ""
          }
         },
         "name": "Telangana Rashtra Samithi",
         "offsetgroup": "Telangana Rashtra Samithi",
         "orientation": "v",
         "showlegend": true,
         "textposition": "auto",
         "type": "bar",
         "x": [
          "CHEVELLA",
          "Khammam",
          "Mahabubabad",
          "Mahbubnagar",
          "Medak",
          "Nagarkurnool",
          "Peddapalle",
          "Warangal",
          "Zahirabad"
         ],
         "xaxis": "x",
         "y": [
          40.62,
          49.78,
          46.98,
          41.78,
          51.82,
          50.48,
          45.49,
          57.69,
          41.58
         ],
         "yaxis": "y"
        },
        {
         "alignmentgroup": "True",
         "hovertemplate": "Party=All India Majlis-E-Ittehadul Muslimeen<br>Constituency=%{x}<br>Winning Percentage=%{y}<extra></extra>",
         "legendgroup": "All India Majlis-E-Ittehadul Muslimeen",
         "marker": {
          "color": "#ab63fa",
          "pattern": {
           "shape": ""
          }
         },
         "name": "All India Majlis-E-Ittehadul Muslimeen",
         "offsetgroup": "All India Majlis-E-Ittehadul Muslimeen",
         "orientation": "v",
         "showlegend": true,
         "textposition": "auto",
         "type": "bar",
         "x": [
          "Hyderabad"
         ],
         "xaxis": "x",
         "y": [
          58.95
         ],
         "yaxis": "y"
        }
       ],
       "layout": {
        "barmode": "relative",
        "legend": {
         "title": {
          "text": "Party"
         },
         "tracegroupgap": 0
        },
        "template": {
         "data": {
          "bar": [
           {
            "error_x": {
             "color": "#f2f5fa"
            },
            "error_y": {
             "color": "#f2f5fa"
            },
            "marker": {
             "line": {
              "color": "rgb(17,17,17)",
              "width": 0.5
             },
             "pattern": {
              "fillmode": "overlay",
              "size": 10,
              "solidity": 0.2
             }
            },
            "type": "bar"
           }
          ],
          "barpolar": [
           {
            "marker": {
             "line": {
              "color": "rgb(17,17,17)",
              "width": 0.5
             },
             "pattern": {
              "fillmode": "overlay",
              "size": 10,
              "solidity": 0.2
             }
            },
            "type": "barpolar"
           }
          ],
          "carpet": [
           {
            "aaxis": {
             "endlinecolor": "#A2B1C6",
             "gridcolor": "#506784",
             "linecolor": "#506784",
             "minorgridcolor": "#506784",
             "startlinecolor": "#A2B1C6"
            },
            "baxis": {
             "endlinecolor": "#A2B1C6",
             "gridcolor": "#506784",
             "linecolor": "#506784",
             "minorgridcolor": "#506784",
             "startlinecolor": "#A2B1C6"
            },
            "type": "carpet"
           }
          ],
          "choropleth": [
           {
            "colorbar": {
             "outlinewidth": 0,
             "ticks": ""
            },
            "type": "choropleth"
           }
          ],
          "contour": [
           {
            "colorbar": {
             "outlinewidth": 0,
             "ticks": ""
            },
            "colorscale": [
             [
              0,
              "#0d0887"
             ],
             [
              0.1111111111111111,
              "#46039f"
             ],
             [
              0.2222222222222222,
              "#7201a8"
             ],
             [
              0.3333333333333333,
              "#9c179e"
             ],
             [
              0.4444444444444444,
              "#bd3786"
             ],
             [
              0.5555555555555556,
              "#d8576b"
             ],
             [
              0.6666666666666666,
              "#ed7953"
             ],
             [
              0.7777777777777778,
              "#fb9f3a"
             ],
             [
              0.8888888888888888,
              "#fdca26"
             ],
             [
              1,
              "#f0f921"
             ]
            ],
            "type": "contour"
           }
          ],
          "contourcarpet": [
           {
            "colorbar": {
             "outlinewidth": 0,
             "ticks": ""
            },
            "type": "contourcarpet"
           }
          ],
          "heatmap": [
           {
            "colorbar": {
             "outlinewidth": 0,
             "ticks": ""
            },
            "colorscale": [
             [
              0,
              "#0d0887"
             ],
             [
              0.1111111111111111,
              "#46039f"
             ],
             [
              0.2222222222222222,
              "#7201a8"
             ],
             [
              0.3333333333333333,
              "#9c179e"
             ],
             [
              0.4444444444444444,
              "#bd3786"
             ],
             [
              0.5555555555555556,
              "#d8576b"
             ],
             [
              0.6666666666666666,
              "#ed7953"
             ],
             [
              0.7777777777777778,
              "#fb9f3a"
             ],
             [
              0.8888888888888888,
              "#fdca26"
             ],
             [
              1,
              "#f0f921"
             ]
            ],
            "type": "heatmap"
           }
          ],
          "heatmapgl": [
           {
            "colorbar": {
             "outlinewidth": 0,
             "ticks": ""
            },
            "colorscale": [
             [
              0,
              "#0d0887"
             ],
             [
              0.1111111111111111,
              "#46039f"
             ],
             [
              0.2222222222222222,
              "#7201a8"
             ],
             [
              0.3333333333333333,
              "#9c179e"
             ],
             [
              0.4444444444444444,
              "#bd3786"
             ],
             [
              0.5555555555555556,
              "#d8576b"
             ],
             [
              0.6666666666666666,
              "#ed7953"
             ],
             [
              0.7777777777777778,
              "#fb9f3a"
             ],
             [
              0.8888888888888888,
              "#fdca26"
             ],
             [
              1,
              "#f0f921"
             ]
            ],
            "type": "heatmapgl"
           }
          ],
          "histogram": [
           {
            "marker": {
             "pattern": {
              "fillmode": "overlay",
              "size": 10,
              "solidity": 0.2
             }
            },
            "type": "histogram"
           }
          ],
          "histogram2d": [
           {
            "colorbar": {
             "outlinewidth": 0,
             "ticks": ""
            },
            "colorscale": [
             [
              0,
              "#0d0887"
             ],
             [
              0.1111111111111111,
              "#46039f"
             ],
             [
              0.2222222222222222,
              "#7201a8"
             ],
             [
              0.3333333333333333,
              "#9c179e"
             ],
             [
              0.4444444444444444,
              "#bd3786"
             ],
             [
              0.5555555555555556,
              "#d8576b"
             ],
             [
              0.6666666666666666,
              "#ed7953"
             ],
             [
              0.7777777777777778,
              "#fb9f3a"
             ],
             [
              0.8888888888888888,
              "#fdca26"
             ],
             [
              1,
              "#f0f921"
             ]
            ],
            "type": "histogram2d"
           }
          ],
          "histogram2dcontour": [
           {
            "colorbar": {
             "outlinewidth": 0,
             "ticks": ""
            },
            "colorscale": [
             [
              0,
              "#0d0887"
             ],
             [
              0.1111111111111111,
              "#46039f"
             ],
             [
              0.2222222222222222,
              "#7201a8"
             ],
             [
              0.3333333333333333,
              "#9c179e"
             ],
             [
              0.4444444444444444,
              "#bd3786"
             ],
             [
              0.5555555555555556,
              "#d8576b"
             ],
             [
              0.6666666666666666,
              "#ed7953"
             ],
             [
              0.7777777777777778,
              "#fb9f3a"
             ],
             [
              0.8888888888888888,
              "#fdca26"
             ],
             [
              1,
              "#f0f921"
             ]
            ],
            "type": "histogram2dcontour"
           }
          ],
          "mesh3d": [
           {
            "colorbar": {
             "outlinewidth": 0,
             "ticks": ""
            },
            "type": "mesh3d"
           }
          ],
          "parcoords": [
           {
            "line": {
             "colorbar": {
              "outlinewidth": 0,
              "ticks": ""
             }
            },
            "type": "parcoords"
           }
          ],
          "pie": [
           {
            "automargin": true,
            "type": "pie"
           }
          ],
          "scatter": [
           {
            "marker": {
             "line": {
              "color": "#283442"
             }
            },
            "type": "scatter"
           }
          ],
          "scatter3d": [
           {
            "line": {
             "colorbar": {
              "outlinewidth": 0,
              "ticks": ""
             }
            },
            "marker": {
             "colorbar": {
              "outlinewidth": 0,
              "ticks": ""
             }
            },
            "type": "scatter3d"
           }
          ],
          "scattercarpet": [
           {
            "marker": {
             "colorbar": {
              "outlinewidth": 0,
              "ticks": ""
             }
            },
            "type": "scattercarpet"
           }
          ],
          "scattergeo": [
           {
            "marker": {
             "colorbar": {
              "outlinewidth": 0,
              "ticks": ""
             }
            },
            "type": "scattergeo"
           }
          ],
          "scattergl": [
           {
            "marker": {
             "line": {
              "color": "#283442"
             }
            },
            "type": "scattergl"
           }
          ],
          "scattermapbox": [
           {
            "marker": {
             "colorbar": {
              "outlinewidth": 0,
              "ticks": ""
             }
            },
            "type": "scattermapbox"
           }
          ],
          "scatterpolar": [
           {
            "marker": {
             "colorbar": {
              "outlinewidth": 0,
              "ticks": ""
             }
            },
            "type": "scatterpolar"
           }
          ],
          "scatterpolargl": [
           {
            "marker": {
             "colorbar": {
              "outlinewidth": 0,
              "ticks": ""
             }
            },
            "type": "scatterpolargl"
           }
          ],
          "scatterternary": [
           {
            "marker": {
             "colorbar": {
              "outlinewidth": 0,
              "ticks": ""
             }
            },
            "type": "scatterternary"
           }
          ],
          "surface": [
           {
            "colorbar": {
             "outlinewidth": 0,
             "ticks": ""
            },
            "colorscale": [
             [
              0,
              "#0d0887"
             ],
             [
              0.1111111111111111,
              "#46039f"
             ],
             [
              0.2222222222222222,
              "#7201a8"
             ],
             [
              0.3333333333333333,
              "#9c179e"
             ],
             [
              0.4444444444444444,
              "#bd3786"
             ],
             [
              0.5555555555555556,
              "#d8576b"
             ],
             [
              0.6666666666666666,
              "#ed7953"
             ],
             [
              0.7777777777777778,
              "#fb9f3a"
             ],
             [
              0.8888888888888888,
              "#fdca26"
             ],
             [
              1,
              "#f0f921"
             ]
            ],
            "type": "surface"
           }
          ],
          "table": [
           {
            "cells": {
             "fill": {
              "color": "#506784"
             },
             "line": {
              "color": "rgb(17,17,17)"
             }
            },
            "header": {
             "fill": {
              "color": "#2a3f5f"
             },
             "line": {
              "color": "rgb(17,17,17)"
             }
            },
            "type": "table"
           }
          ]
         },
         "layout": {
          "annotationdefaults": {
           "arrowcolor": "#f2f5fa",
           "arrowhead": 0,
           "arrowwidth": 1
          },
          "autotypenumbers": "strict",
          "coloraxis": {
           "colorbar": {
            "outlinewidth": 0,
            "ticks": ""
           }
          },
          "colorscale": {
           "diverging": [
            [
             0,
             "#8e0152"
            ],
            [
             0.1,
             "#c51b7d"
            ],
            [
             0.2,
             "#de77ae"
            ],
            [
             0.3,
             "#f1b6da"
            ],
            [
             0.4,
             "#fde0ef"
            ],
            [
             0.5,
             "#f7f7f7"
            ],
            [
             0.6,
             "#e6f5d0"
            ],
            [
             0.7,
             "#b8e186"
            ],
            [
             0.8,
             "#7fbc41"
            ],
            [
             0.9,
             "#4d9221"
            ],
            [
             1,
             "#276419"
            ]
           ],
           "sequential": [
            [
             0,
             "#0d0887"
            ],
            [
             0.1111111111111111,
             "#46039f"
            ],
            [
             0.2222222222222222,
             "#7201a8"
            ],
            [
             0.3333333333333333,
             "#9c179e"
            ],
            [
             0.4444444444444444,
             "#bd3786"
            ],
            [
             0.5555555555555556,
             "#d8576b"
            ],
            [
             0.6666666666666666,
             "#ed7953"
            ],
            [
             0.7777777777777778,
             "#fb9f3a"
            ],
            [
             0.8888888888888888,
             "#fdca26"
            ],
            [
             1,
             "#f0f921"
            ]
           ],
           "sequentialminus": [
            [
             0,
             "#0d0887"
            ],
            [
             0.1111111111111111,
             "#46039f"
            ],
            [
             0.2222222222222222,
             "#7201a8"
            ],
            [
             0.3333333333333333,
             "#9c179e"
            ],
            [
             0.4444444444444444,
             "#bd3786"
            ],
            [
             0.5555555555555556,
             "#d8576b"
            ],
            [
             0.6666666666666666,
             "#ed7953"
            ],
            [
             0.7777777777777778,
             "#fb9f3a"
            ],
            [
             0.8888888888888888,
             "#fdca26"
            ],
            [
             1,
             "#f0f921"
            ]
           ]
          },
          "colorway": [
           "#636efa",
           "#EF553B",
           "#00cc96",
           "#ab63fa",
           "#FFA15A",
           "#19d3f3",
           "#FF6692",
           "#B6E880",
           "#FF97FF",
           "#FECB52"
          ],
          "font": {
           "color": "#f2f5fa"
          },
          "geo": {
           "bgcolor": "rgb(17,17,17)",
           "lakecolor": "rgb(17,17,17)",
           "landcolor": "rgb(17,17,17)",
           "showlakes": true,
           "showland": true,
           "subunitcolor": "#506784"
          },
          "hoverlabel": {
           "align": "left"
          },
          "hovermode": "closest",
          "mapbox": {
           "style": "dark"
          },
          "paper_bgcolor": "rgb(17,17,17)",
          "plot_bgcolor": "rgb(17,17,17)",
          "polar": {
           "angularaxis": {
            "gridcolor": "#506784",
            "linecolor": "#506784",
            "ticks": ""
           },
           "bgcolor": "rgb(17,17,17)",
           "radialaxis": {
            "gridcolor": "#506784",
            "linecolor": "#506784",
            "ticks": ""
           }
          },
          "scene": {
           "xaxis": {
            "backgroundcolor": "rgb(17,17,17)",
            "gridcolor": "#506784",
            "gridwidth": 2,
            "linecolor": "#506784",
            "showbackground": true,
            "ticks": "",
            "zerolinecolor": "#C8D4E3"
           },
           "yaxis": {
            "backgroundcolor": "rgb(17,17,17)",
            "gridcolor": "#506784",
            "gridwidth": 2,
            "linecolor": "#506784",
            "showbackground": true,
            "ticks": "",
            "zerolinecolor": "#C8D4E3"
           },
           "zaxis": {
            "backgroundcolor": "rgb(17,17,17)",
            "gridcolor": "#506784",
            "gridwidth": 2,
            "linecolor": "#506784",
            "showbackground": true,
            "ticks": "",
            "zerolinecolor": "#C8D4E3"
           }
          },
          "shapedefaults": {
           "line": {
            "color": "#f2f5fa"
           }
          },
          "sliderdefaults": {
           "bgcolor": "#C8D4E3",
           "bordercolor": "rgb(17,17,17)",
           "borderwidth": 1,
           "tickwidth": 0
          },
          "ternary": {
           "aaxis": {
            "gridcolor": "#506784",
            "linecolor": "#506784",
            "ticks": ""
           },
           "baxis": {
            "gridcolor": "#506784",
            "linecolor": "#506784",
            "ticks": ""
           },
           "bgcolor": "rgb(17,17,17)",
           "caxis": {
            "gridcolor": "#506784",
            "linecolor": "#506784",
            "ticks": ""
           }
          },
          "title": {
           "x": 0.05
          },
          "updatemenudefaults": {
           "bgcolor": "#506784",
           "borderwidth": 0
          },
          "xaxis": {
           "automargin": true,
           "gridcolor": "#283442",
           "linecolor": "#506784",
           "ticks": "",
           "title": {
            "standoff": 15
           },
           "zerolinecolor": "#283442",
           "zerolinewidth": 2
          },
          "yaxis": {
           "automargin": true,
           "gridcolor": "#283442",
           "linecolor": "#506784",
           "ticks": "",
           "title": {
            "standoff": 15
           },
           "zerolinecolor": "#283442",
           "zerolinewidth": 2
          }
         }
        },
        "title": {
         "text": "Telangana Constituencies: Party vs Winning Percentage"
        },
        "xaxis": {
         "anchor": "y",
         "categoryorder": "total descending",
         "domain": [
          0,
          1
         ],
         "title": {
          "text": "Constituency"
         }
        },
        "yaxis": {
         "anchor": "x",
         "domain": [
          0,
          1
         ],
         "title": {
          "text": "Winning Percentage"
         }
        }
       }
      },
      "text/html": [
       "<div>                            <div id=\"17264a09-9b42-40b6-94cf-c8b8b18d74fa\" class=\"plotly-graph-div\" style=\"height:525px; width:100%;\"></div>            <script type=\"text/javascript\">                require([\"plotly\"], function(Plotly) {                    window.PLOTLYENV=window.PLOTLYENV || {};                                    if (document.getElementById(\"17264a09-9b42-40b6-94cf-c8b8b18d74fa\")) {                    Plotly.newPlot(                        \"17264a09-9b42-40b6-94cf-c8b8b18d74fa\",                        [{\"alignmentgroup\":\"True\",\"hovertemplate\":\"Party=Bharatiya Janata Party<br>Constituency=%{x}<br>Winning Percentage=%{y}<extra></extra>\",\"legendgroup\":\"Bharatiya Janata Party\",\"marker\":{\"color\":\"#EF553B\",\"pattern\":{\"shape\":\"\"}},\"name\":\"Bharatiya Janata Party\",\"offsetgroup\":\"Bharatiya Janata Party\",\"orientation\":\"v\",\"showlegend\":true,\"textposition\":\"auto\",\"x\":[\"Adilabad\",\"Karimnagar\",\"Nizamabad\",\"Secundrabad\"],\"xaxis\":\"x\",\"y\":[35.48,43.42,45.22,42.05],\"yaxis\":\"y\",\"type\":\"bar\"},{\"alignmentgroup\":\"True\",\"hovertemplate\":\"Party=Indian National Congress<br>Constituency=%{x}<br>Winning Percentage=%{y}<extra></extra>\",\"legendgroup\":\"Indian National Congress\",\"marker\":{\"color\":\"#00cc96\",\"pattern\":{\"shape\":\"\"}},\"name\":\"Indian National Congress\",\"offsetgroup\":\"Indian National Congress\",\"orientation\":\"v\",\"showlegend\":true,\"textposition\":\"auto\",\"x\":[\"Bhongir\",\"Malkajgiri\",\"Nalgonda\"],\"xaxis\":\"x\",\"y\":[43.94,38.63,44.74],\"yaxis\":\"y\",\"type\":\"bar\"},{\"alignmentgroup\":\"True\",\"hovertemplate\":\"Party=Telangana Rashtra Samithi<br>Constituency=%{x}<br>Winning Percentage=%{y}<extra></extra>\",\"legendgroup\":\"Telangana Rashtra Samithi\",\"marker\":{\"color\":\"pink\",\"pattern\":{\"shape\":\"\"}},\"name\":\"Telangana Rashtra Samithi\",\"offsetgroup\":\"Telangana Rashtra Samithi\",\"orientation\":\"v\",\"showlegend\":true,\"textposition\":\"auto\",\"x\":[\"CHEVELLA\",\"Khammam\",\"Mahabubabad\",\"Mahbubnagar\",\"Medak\",\"Nagarkurnool\",\"Peddapalle\",\"Warangal\",\"Zahirabad\"],\"xaxis\":\"x\",\"y\":[40.62,49.78,46.98,41.78,51.82,50.48,45.49,57.69,41.58],\"yaxis\":\"y\",\"type\":\"bar\"},{\"alignmentgroup\":\"True\",\"hovertemplate\":\"Party=All India Majlis-E-Ittehadul Muslimeen<br>Constituency=%{x}<br>Winning Percentage=%{y}<extra></extra>\",\"legendgroup\":\"All India Majlis-E-Ittehadul Muslimeen\",\"marker\":{\"color\":\"#ab63fa\",\"pattern\":{\"shape\":\"\"}},\"name\":\"All India Majlis-E-Ittehadul Muslimeen\",\"offsetgroup\":\"All India Majlis-E-Ittehadul Muslimeen\",\"orientation\":\"v\",\"showlegend\":true,\"textposition\":\"auto\",\"x\":[\"Hyderabad\"],\"xaxis\":\"x\",\"y\":[58.95],\"yaxis\":\"y\",\"type\":\"bar\"}],                        {\"template\":{\"data\":{\"barpolar\":[{\"marker\":{\"line\":{\"color\":\"rgb(17,17,17)\",\"width\":0.5},\"pattern\":{\"fillmode\":\"overlay\",\"size\":10,\"solidity\":0.2}},\"type\":\"barpolar\"}],\"bar\":[{\"error_x\":{\"color\":\"#f2f5fa\"},\"error_y\":{\"color\":\"#f2f5fa\"},\"marker\":{\"line\":{\"color\":\"rgb(17,17,17)\",\"width\":0.5},\"pattern\":{\"fillmode\":\"overlay\",\"size\":10,\"solidity\":0.2}},\"type\":\"bar\"}],\"carpet\":[{\"aaxis\":{\"endlinecolor\":\"#A2B1C6\",\"gridcolor\":\"#506784\",\"linecolor\":\"#506784\",\"minorgridcolor\":\"#506784\",\"startlinecolor\":\"#A2B1C6\"},\"baxis\":{\"endlinecolor\":\"#A2B1C6\",\"gridcolor\":\"#506784\",\"linecolor\":\"#506784\",\"minorgridcolor\":\"#506784\",\"startlinecolor\":\"#A2B1C6\"},\"type\":\"carpet\"}],\"choropleth\":[{\"colorbar\":{\"outlinewidth\":0,\"ticks\":\"\"},\"type\":\"choropleth\"}],\"contourcarpet\":[{\"colorbar\":{\"outlinewidth\":0,\"ticks\":\"\"},\"type\":\"contourcarpet\"}],\"contour\":[{\"colorbar\":{\"outlinewidth\":0,\"ticks\":\"\"},\"colorscale\":[[0.0,\"#0d0887\"],[0.1111111111111111,\"#46039f\"],[0.2222222222222222,\"#7201a8\"],[0.3333333333333333,\"#9c179e\"],[0.4444444444444444,\"#bd3786\"],[0.5555555555555556,\"#d8576b\"],[0.6666666666666666,\"#ed7953\"],[0.7777777777777778,\"#fb9f3a\"],[0.8888888888888888,\"#fdca26\"],[1.0,\"#f0f921\"]],\"type\":\"contour\"}],\"heatmapgl\":[{\"colorbar\":{\"outlinewidth\":0,\"ticks\":\"\"},\"colorscale\":[[0.0,\"#0d0887\"],[0.1111111111111111,\"#46039f\"],[0.2222222222222222,\"#7201a8\"],[0.3333333333333333,\"#9c179e\"],[0.4444444444444444,\"#bd3786\"],[0.5555555555555556,\"#d8576b\"],[0.6666666666666666,\"#ed7953\"],[0.7777777777777778,\"#fb9f3a\"],[0.8888888888888888,\"#fdca26\"],[1.0,\"#f0f921\"]],\"type\":\"heatmapgl\"}],\"heatmap\":[{\"colorbar\":{\"outlinewidth\":0,\"ticks\":\"\"},\"colorscale\":[[0.0,\"#0d0887\"],[0.1111111111111111,\"#46039f\"],[0.2222222222222222,\"#7201a8\"],[0.3333333333333333,\"#9c179e\"],[0.4444444444444444,\"#bd3786\"],[0.5555555555555556,\"#d8576b\"],[0.6666666666666666,\"#ed7953\"],[0.7777777777777778,\"#fb9f3a\"],[0.8888888888888888,\"#fdca26\"],[1.0,\"#f0f921\"]],\"type\":\"heatmap\"}],\"histogram2dcontour\":[{\"colorbar\":{\"outlinewidth\":0,\"ticks\":\"\"},\"colorscale\":[[0.0,\"#0d0887\"],[0.1111111111111111,\"#46039f\"],[0.2222222222222222,\"#7201a8\"],[0.3333333333333333,\"#9c179e\"],[0.4444444444444444,\"#bd3786\"],[0.5555555555555556,\"#d8576b\"],[0.6666666666666666,\"#ed7953\"],[0.7777777777777778,\"#fb9f3a\"],[0.8888888888888888,\"#fdca26\"],[1.0,\"#f0f921\"]],\"type\":\"histogram2dcontour\"}],\"histogram2d\":[{\"colorbar\":{\"outlinewidth\":0,\"ticks\":\"\"},\"colorscale\":[[0.0,\"#0d0887\"],[0.1111111111111111,\"#46039f\"],[0.2222222222222222,\"#7201a8\"],[0.3333333333333333,\"#9c179e\"],[0.4444444444444444,\"#bd3786\"],[0.5555555555555556,\"#d8576b\"],[0.6666666666666666,\"#ed7953\"],[0.7777777777777778,\"#fb9f3a\"],[0.8888888888888888,\"#fdca26\"],[1.0,\"#f0f921\"]],\"type\":\"histogram2d\"}],\"histogram\":[{\"marker\":{\"pattern\":{\"fillmode\":\"overlay\",\"size\":10,\"solidity\":0.2}},\"type\":\"histogram\"}],\"mesh3d\":[{\"colorbar\":{\"outlinewidth\":0,\"ticks\":\"\"},\"type\":\"mesh3d\"}],\"parcoords\":[{\"line\":{\"colorbar\":{\"outlinewidth\":0,\"ticks\":\"\"}},\"type\":\"parcoords\"}],\"pie\":[{\"automargin\":true,\"type\":\"pie\"}],\"scatter3d\":[{\"line\":{\"colorbar\":{\"outlinewidth\":0,\"ticks\":\"\"}},\"marker\":{\"colorbar\":{\"outlinewidth\":0,\"ticks\":\"\"}},\"type\":\"scatter3d\"}],\"scattercarpet\":[{\"marker\":{\"colorbar\":{\"outlinewidth\":0,\"ticks\":\"\"}},\"type\":\"scattercarpet\"}],\"scattergeo\":[{\"marker\":{\"colorbar\":{\"outlinewidth\":0,\"ticks\":\"\"}},\"type\":\"scattergeo\"}],\"scattergl\":[{\"marker\":{\"line\":{\"color\":\"#283442\"}},\"type\":\"scattergl\"}],\"scattermapbox\":[{\"marker\":{\"colorbar\":{\"outlinewidth\":0,\"ticks\":\"\"}},\"type\":\"scattermapbox\"}],\"scatterpolargl\":[{\"marker\":{\"colorbar\":{\"outlinewidth\":0,\"ticks\":\"\"}},\"type\":\"scatterpolargl\"}],\"scatterpolar\":[{\"marker\":{\"colorbar\":{\"outlinewidth\":0,\"ticks\":\"\"}},\"type\":\"scatterpolar\"}],\"scatter\":[{\"marker\":{\"line\":{\"color\":\"#283442\"}},\"type\":\"scatter\"}],\"scatterternary\":[{\"marker\":{\"colorbar\":{\"outlinewidth\":0,\"ticks\":\"\"}},\"type\":\"scatterternary\"}],\"surface\":[{\"colorbar\":{\"outlinewidth\":0,\"ticks\":\"\"},\"colorscale\":[[0.0,\"#0d0887\"],[0.1111111111111111,\"#46039f\"],[0.2222222222222222,\"#7201a8\"],[0.3333333333333333,\"#9c179e\"],[0.4444444444444444,\"#bd3786\"],[0.5555555555555556,\"#d8576b\"],[0.6666666666666666,\"#ed7953\"],[0.7777777777777778,\"#fb9f3a\"],[0.8888888888888888,\"#fdca26\"],[1.0,\"#f0f921\"]],\"type\":\"surface\"}],\"table\":[{\"cells\":{\"fill\":{\"color\":\"#506784\"},\"line\":{\"color\":\"rgb(17,17,17)\"}},\"header\":{\"fill\":{\"color\":\"#2a3f5f\"},\"line\":{\"color\":\"rgb(17,17,17)\"}},\"type\":\"table\"}]},\"layout\":{\"annotationdefaults\":{\"arrowcolor\":\"#f2f5fa\",\"arrowhead\":0,\"arrowwidth\":1},\"autotypenumbers\":\"strict\",\"coloraxis\":{\"colorbar\":{\"outlinewidth\":0,\"ticks\":\"\"}},\"colorscale\":{\"diverging\":[[0,\"#8e0152\"],[0.1,\"#c51b7d\"],[0.2,\"#de77ae\"],[0.3,\"#f1b6da\"],[0.4,\"#fde0ef\"],[0.5,\"#f7f7f7\"],[0.6,\"#e6f5d0\"],[0.7,\"#b8e186\"],[0.8,\"#7fbc41\"],[0.9,\"#4d9221\"],[1,\"#276419\"]],\"sequential\":[[0.0,\"#0d0887\"],[0.1111111111111111,\"#46039f\"],[0.2222222222222222,\"#7201a8\"],[0.3333333333333333,\"#9c179e\"],[0.4444444444444444,\"#bd3786\"],[0.5555555555555556,\"#d8576b\"],[0.6666666666666666,\"#ed7953\"],[0.7777777777777778,\"#fb9f3a\"],[0.8888888888888888,\"#fdca26\"],[1.0,\"#f0f921\"]],\"sequentialminus\":[[0.0,\"#0d0887\"],[0.1111111111111111,\"#46039f\"],[0.2222222222222222,\"#7201a8\"],[0.3333333333333333,\"#9c179e\"],[0.4444444444444444,\"#bd3786\"],[0.5555555555555556,\"#d8576b\"],[0.6666666666666666,\"#ed7953\"],[0.7777777777777778,\"#fb9f3a\"],[0.8888888888888888,\"#fdca26\"],[1.0,\"#f0f921\"]]},\"colorway\":[\"#636efa\",\"#EF553B\",\"#00cc96\",\"#ab63fa\",\"#FFA15A\",\"#19d3f3\",\"#FF6692\",\"#B6E880\",\"#FF97FF\",\"#FECB52\"],\"font\":{\"color\":\"#f2f5fa\"},\"geo\":{\"bgcolor\":\"rgb(17,17,17)\",\"lakecolor\":\"rgb(17,17,17)\",\"landcolor\":\"rgb(17,17,17)\",\"showlakes\":true,\"showland\":true,\"subunitcolor\":\"#506784\"},\"hoverlabel\":{\"align\":\"left\"},\"hovermode\":\"closest\",\"mapbox\":{\"style\":\"dark\"},\"paper_bgcolor\":\"rgb(17,17,17)\",\"plot_bgcolor\":\"rgb(17,17,17)\",\"polar\":{\"angularaxis\":{\"gridcolor\":\"#506784\",\"linecolor\":\"#506784\",\"ticks\":\"\"},\"bgcolor\":\"rgb(17,17,17)\",\"radialaxis\":{\"gridcolor\":\"#506784\",\"linecolor\":\"#506784\",\"ticks\":\"\"}},\"scene\":{\"xaxis\":{\"backgroundcolor\":\"rgb(17,17,17)\",\"gridcolor\":\"#506784\",\"gridwidth\":2,\"linecolor\":\"#506784\",\"showbackground\":true,\"ticks\":\"\",\"zerolinecolor\":\"#C8D4E3\"},\"yaxis\":{\"backgroundcolor\":\"rgb(17,17,17)\",\"gridcolor\":\"#506784\",\"gridwidth\":2,\"linecolor\":\"#506784\",\"showbackground\":true,\"ticks\":\"\",\"zerolinecolor\":\"#C8D4E3\"},\"zaxis\":{\"backgroundcolor\":\"rgb(17,17,17)\",\"gridcolor\":\"#506784\",\"gridwidth\":2,\"linecolor\":\"#506784\",\"showbackground\":true,\"ticks\":\"\",\"zerolinecolor\":\"#C8D4E3\"}},\"shapedefaults\":{\"line\":{\"color\":\"#f2f5fa\"}},\"sliderdefaults\":{\"bgcolor\":\"#C8D4E3\",\"bordercolor\":\"rgb(17,17,17)\",\"borderwidth\":1,\"tickwidth\":0},\"ternary\":{\"aaxis\":{\"gridcolor\":\"#506784\",\"linecolor\":\"#506784\",\"ticks\":\"\"},\"baxis\":{\"gridcolor\":\"#506784\",\"linecolor\":\"#506784\",\"ticks\":\"\"},\"bgcolor\":\"rgb(17,17,17)\",\"caxis\":{\"gridcolor\":\"#506784\",\"linecolor\":\"#506784\",\"ticks\":\"\"}},\"title\":{\"x\":0.05},\"updatemenudefaults\":{\"bgcolor\":\"#506784\",\"borderwidth\":0},\"xaxis\":{\"automargin\":true,\"gridcolor\":\"#283442\",\"linecolor\":\"#506784\",\"ticks\":\"\",\"title\":{\"standoff\":15},\"zerolinecolor\":\"#283442\",\"zerolinewidth\":2},\"yaxis\":{\"automargin\":true,\"gridcolor\":\"#283442\",\"linecolor\":\"#506784\",\"ticks\":\"\",\"title\":{\"standoff\":15},\"zerolinecolor\":\"#283442\",\"zerolinewidth\":2}}},\"xaxis\":{\"anchor\":\"y\",\"domain\":[0.0,1.0],\"title\":{\"text\":\"Constituency\"},\"categoryorder\":\"total descending\"},\"yaxis\":{\"anchor\":\"x\",\"domain\":[0.0,1.0],\"title\":{\"text\":\"Winning Percentage\"}},\"legend\":{\"title\":{\"text\":\"Party\"},\"tracegroupgap\":0},\"title\":{\"text\":\"Telangana Constituencies: Party vs Winning Percentage\"},\"barmode\":\"relative\"},                        {\"responsive\": true}                    ).then(function(){\n",
       "                            \n",
       "var gd = document.getElementById('17264a09-9b42-40b6-94cf-c8b8b18d74fa');\n",
       "var x = new MutationObserver(function (mutations, observer) {{\n",
       "        var display = window.getComputedStyle(gd).display;\n",
       "        if (!display || display === 'none') {{\n",
       "            console.log([gd, 'removed!']);\n",
       "            Plotly.purge(gd);\n",
       "            observer.disconnect();\n",
       "        }}\n",
       "}});\n",
       "\n",
       "// Listen for the removal of the full notebook cells\n",
       "var notebookContainer = gd.closest('#notebook-container');\n",
       "if (notebookContainer) {{\n",
       "    x.observe(notebookContainer, {childList: true});\n",
       "}}\n",
       "\n",
       "// Listen for the clearing of the current output cell\n",
       "var outputEl = gd.closest('.output');\n",
       "if (outputEl) {{\n",
       "    x.observe(outputEl, {childList: true});\n",
       "}}\n",
       "\n",
       "                        })                };                });            </script>        </div>"
      ]
     },
     "metadata": {},
     "output_type": "display_data"
    }
   ],
   "source": [
    "import pandas as pd\n",
    "import plotly.express as px\n",
    "\n",
    "# Load the CSV file\n",
    "file_path = \"C:/Users/viina/Downloads/archive (4)/2019_Results_Winning_Candidate.csv\"\n",
    "vote = pd.read_csv(file_path)\n",
    "\n",
    "# Filter the data for Andhra Pradesh\n",
    "ap_vote = vote[vote['State'] == 'Telangana']\n",
    "\n",
    "# Display the first few rows to understand the data structure\n",
    "print(ap_vote.head())\n",
    "\n",
    "# Define custom colors\n",
    "color_map = {'Telangana Rashtra Samithi': 'pink'}\n",
    "\n",
    "# Create a bar plot for Constituency vs Party vs Percentage for Andhra Pradesh\n",
    "fig = px.bar(ap_vote, x='Constituency', y='Percentage', color='Party',\n",
    "             color_discrete_map=color_map,  # Apply custom colors\n",
    "             labels={'Percentage': 'Winning Percentage'},\n",
    "             title='Telangana Constituencies: Party vs Winning Percentage')\n",
    "\n",
    "# Update the layout for better readability\n",
    "fig.update_layout(\n",
    "    xaxis_title='Constituency',\n",
    "    yaxis_title='Winning Percentage',\n",
    "    legend_title='Party',\n",
    "    template='plotly_dark',\n",
    "    xaxis={'categoryorder':'total descending'}\n",
    ")\n",
    "\n",
    "# Show the plot\n",
    "fig.show()\n"
   ]
  },
  {
   "cell_type": "code",
   "execution_count": 12,
   "id": "b6d11c95",
   "metadata": {},
   "outputs": [
    {
     "name": "stdout",
     "output_type": "stream",
     "text": [
      "             State    Constituency   Votes  Percentage  \\\n",
      "415  Uttar Pradesh            Agra  646875       56.48   \n",
      "416  Uttar Pradesh        Akbarpur  581282       56.69   \n",
      "417  Uttar Pradesh         Aligarh  656215       56.42   \n",
      "418  Uttar Pradesh       Allahabad  494454       55.62   \n",
      "419  Uttar Pradesh  Ambedkar Nagar  564118       51.75   \n",
      "\n",
      "                      Party               Candidate  \n",
      "415  Bharatiya Janata Party   Satyapal Singh Baghel  \n",
      "416  Bharatiya Janata Party  Devendra Singh 'Bhole'  \n",
      "417  Bharatiya Janata Party     SATISH KUMAR GAUTAM  \n",
      "418  Bharatiya Janata Party     Rita Bahuguna Joshi  \n",
      "419     Bahujan Samaj Party           Ritesh Pandey  \n"
     ]
    },
    {
     "data": {
      "application/vnd.plotly.v1+json": {
       "config": {
        "plotlyServerURL": "https://plot.ly"
       },
       "data": [
        {
         "alignmentgroup": "True",
         "hovertemplate": "Party=Bharatiya Janata Party<br>Constituency=%{x}<br>Winning Percentage=%{y}<extra></extra>",
         "legendgroup": "Bharatiya Janata Party",
         "marker": {
          "color": "#EF553B",
          "pattern": {
           "shape": ""
          }
         },
         "name": "Bharatiya Janata Party",
         "offsetgroup": "Bharatiya Janata Party",
         "orientation": "v",
         "showlegend": true,
         "textposition": "auto",
         "type": "bar",
         "x": [
          "Agra",
          "Akbarpur",
          "Aligarh",
          "Allahabad",
          "Amethi",
          "Aonla",
          "Badaun",
          "Baghpat",
          "Bahraich",
          "Ballia",
          "Banda",
          "Bansgaon",
          "Barabanki",
          "Bareilly",
          "Basti",
          "Bhadohi",
          "Bulandshahr",
          "Chandauli",
          "Deoria",
          "Dhaurahra",
          "Domariyaganj",
          "Etah",
          "Etawah",
          "Faizabad",
          "Farrukhabad",
          "Fatehpur",
          "Fatehpur Sikri",
          "Firozabad",
          "Gautam Buddha Nagar",
          "Ghaziabad",
          "Gonda",
          "Gorakhpur",
          "Hamirpur",
          "Hardoi",
          "Hathras",
          "Jalaun",
          "Jhansi",
          "Kairana",
          "Kaiserganj",
          "Kannauj",
          "Kanpur",
          "Kaushambi",
          "Kheri",
          "Kushi Nagar",
          "Lucknow",
          "Machhlishahr",
          "Maharajganj",
          "Mathura",
          "Meerut",
          "Misrikh",
          "Mohanlalganj",
          "Muzaffarnagar",
          "Phulpur",
          "Pilibhit",
          "Pratapgarh",
          "Salempur",
          "Sant Kabir Nagar",
          "Shahjahanpur",
          "Sitapur",
          "Sultanpur",
          "Unnao",
          "Varanasi"
         ],
         "xaxis": "x",
         "y": [
          56.48,
          56.69,
          56.42,
          55.62,
          49.71,
          51.07,
          47.3,
          50.32,
          53.14,
          47.4,
          46.2,
          56.41,
          46.39,
          52.91,
          44.68,
          49.07,
          60.64,
          47.07,
          57.19,
          48.21,
          49.96,
          54.56,
          50.8,
          48.66,
          56.82,
          54.24,
          64.32,
          46.09,
          59.64,
          61.96,
          55.01,
          60.54,
          52.77,
          53.72,
          59.49,
          51.49,
          58.61,
          50.44,
          59.24,
          49.37,
          55.63,
          39.31,
          53.63,
          56.69,
          56.7,
          47.19,
          59.2,
          60.88,
          48.19,
          52.05,
          49.62,
          49.46,
          55.68,
          59.38,
          47.7,
          50.73,
          43.97,
          58.09,
          48.33,
          45.91,
          56.87,
          63.62
         ],
         "yaxis": "y"
        },
        {
         "alignmentgroup": "True",
         "hovertemplate": "Party=Bahujan Samaj Party<br>Constituency=%{x}<br>Winning Percentage=%{y}<extra></extra>",
         "legendgroup": "Bahujan Samaj Party",
         "marker": {
          "color": "#00cc96",
          "pattern": {
           "shape": ""
          }
         },
         "name": "Bahujan Samaj Party",
         "offsetgroup": "Bahujan Samaj Party",
         "orientation": "v",
         "showlegend": true,
         "textposition": "auto",
         "type": "bar",
         "x": [
          "Ambedkar Nagar",
          "Amroha",
          "Bijnor",
          "Ghazipur",
          "Ghosi",
          "Jaunpur",
          "Lalganj",
          "Nagina",
          "Saharanpur",
          "Shrawasti"
         ],
         "xaxis": "x",
         "y": [
          51.75,
          51.41,
          50.97,
          51.2,
          50.3,
          50.08,
          54.01,
          56.31,
          41.74,
          44.31
         ],
         "yaxis": "y"
        },
        {
         "alignmentgroup": "True",
         "hovertemplate": "Party=Samajwadi Party<br>Constituency=%{x}<br>Winning Percentage=%{y}<extra></extra>",
         "legendgroup": "Samajwadi Party",
         "marker": {
          "color": "#ab63fa",
          "pattern": {
           "shape": ""
          }
         },
         "name": "Samajwadi Party",
         "offsetgroup": "Samajwadi Party",
         "orientation": "v",
         "showlegend": true,
         "textposition": "auto",
         "type": "bar",
         "x": [
          "Azamgarh",
          "Mainpuri",
          "Moradabad",
          "Rampur",
          "Sambhal"
         ],
         "xaxis": "x",
         "y": [
          60.4,
          53.75,
          50.65,
          52.71,
          55.6
         ],
         "yaxis": "y"
        },
        {
         "alignmentgroup": "True",
         "hovertemplate": "Party=Apna Dal (Soneylal)<br>Constituency=%{x}<br>Winning Percentage=%{y}<extra></extra>",
         "legendgroup": "Apna Dal (Soneylal)",
         "marker": {
          "color": "#FFA15A",
          "pattern": {
           "shape": ""
          }
         },
         "name": "Apna Dal (Soneylal)",
         "offsetgroup": "Apna Dal (Soneylal)",
         "orientation": "v",
         "showlegend": true,
         "textposition": "auto",
         "type": "bar",
         "x": [
          "Mirzapur",
          "Robertsganj"
         ],
         "xaxis": "x",
         "y": [
          53.34,
          45.32
         ],
         "yaxis": "y"
        },
        {
         "alignmentgroup": "True",
         "hovertemplate": "Party=Indian National Congress<br>Constituency=%{x}<br>Winning Percentage=%{y}<extra></extra>",
         "legendgroup": "Indian National Congress",
         "marker": {
          "color": "#19d3f3",
          "pattern": {
           "shape": ""
          }
         },
         "name": "Indian National Congress",
         "offsetgroup": "Indian National Congress",
         "orientation": "v",
         "showlegend": true,
         "textposition": "auto",
         "type": "bar",
         "x": [
          "Rae Bareli"
         ],
         "xaxis": "x",
         "y": [
          55.8
         ],
         "yaxis": "y"
        }
       ],
       "layout": {
        "barmode": "relative",
        "legend": {
         "title": {
          "text": "Party"
         },
         "tracegroupgap": 0
        },
        "template": {
         "data": {
          "bar": [
           {
            "error_x": {
             "color": "#f2f5fa"
            },
            "error_y": {
             "color": "#f2f5fa"
            },
            "marker": {
             "line": {
              "color": "rgb(17,17,17)",
              "width": 0.5
             },
             "pattern": {
              "fillmode": "overlay",
              "size": 10,
              "solidity": 0.2
             }
            },
            "type": "bar"
           }
          ],
          "barpolar": [
           {
            "marker": {
             "line": {
              "color": "rgb(17,17,17)",
              "width": 0.5
             },
             "pattern": {
              "fillmode": "overlay",
              "size": 10,
              "solidity": 0.2
             }
            },
            "type": "barpolar"
           }
          ],
          "carpet": [
           {
            "aaxis": {
             "endlinecolor": "#A2B1C6",
             "gridcolor": "#506784",
             "linecolor": "#506784",
             "minorgridcolor": "#506784",
             "startlinecolor": "#A2B1C6"
            },
            "baxis": {
             "endlinecolor": "#A2B1C6",
             "gridcolor": "#506784",
             "linecolor": "#506784",
             "minorgridcolor": "#506784",
             "startlinecolor": "#A2B1C6"
            },
            "type": "carpet"
           }
          ],
          "choropleth": [
           {
            "colorbar": {
             "outlinewidth": 0,
             "ticks": ""
            },
            "type": "choropleth"
           }
          ],
          "contour": [
           {
            "colorbar": {
             "outlinewidth": 0,
             "ticks": ""
            },
            "colorscale": [
             [
              0,
              "#0d0887"
             ],
             [
              0.1111111111111111,
              "#46039f"
             ],
             [
              0.2222222222222222,
              "#7201a8"
             ],
             [
              0.3333333333333333,
              "#9c179e"
             ],
             [
              0.4444444444444444,
              "#bd3786"
             ],
             [
              0.5555555555555556,
              "#d8576b"
             ],
             [
              0.6666666666666666,
              "#ed7953"
             ],
             [
              0.7777777777777778,
              "#fb9f3a"
             ],
             [
              0.8888888888888888,
              "#fdca26"
             ],
             [
              1,
              "#f0f921"
             ]
            ],
            "type": "contour"
           }
          ],
          "contourcarpet": [
           {
            "colorbar": {
             "outlinewidth": 0,
             "ticks": ""
            },
            "type": "contourcarpet"
           }
          ],
          "heatmap": [
           {
            "colorbar": {
             "outlinewidth": 0,
             "ticks": ""
            },
            "colorscale": [
             [
              0,
              "#0d0887"
             ],
             [
              0.1111111111111111,
              "#46039f"
             ],
             [
              0.2222222222222222,
              "#7201a8"
             ],
             [
              0.3333333333333333,
              "#9c179e"
             ],
             [
              0.4444444444444444,
              "#bd3786"
             ],
             [
              0.5555555555555556,
              "#d8576b"
             ],
             [
              0.6666666666666666,
              "#ed7953"
             ],
             [
              0.7777777777777778,
              "#fb9f3a"
             ],
             [
              0.8888888888888888,
              "#fdca26"
             ],
             [
              1,
              "#f0f921"
             ]
            ],
            "type": "heatmap"
           }
          ],
          "heatmapgl": [
           {
            "colorbar": {
             "outlinewidth": 0,
             "ticks": ""
            },
            "colorscale": [
             [
              0,
              "#0d0887"
             ],
             [
              0.1111111111111111,
              "#46039f"
             ],
             [
              0.2222222222222222,
              "#7201a8"
             ],
             [
              0.3333333333333333,
              "#9c179e"
             ],
             [
              0.4444444444444444,
              "#bd3786"
             ],
             [
              0.5555555555555556,
              "#d8576b"
             ],
             [
              0.6666666666666666,
              "#ed7953"
             ],
             [
              0.7777777777777778,
              "#fb9f3a"
             ],
             [
              0.8888888888888888,
              "#fdca26"
             ],
             [
              1,
              "#f0f921"
             ]
            ],
            "type": "heatmapgl"
           }
          ],
          "histogram": [
           {
            "marker": {
             "pattern": {
              "fillmode": "overlay",
              "size": 10,
              "solidity": 0.2
             }
            },
            "type": "histogram"
           }
          ],
          "histogram2d": [
           {
            "colorbar": {
             "outlinewidth": 0,
             "ticks": ""
            },
            "colorscale": [
             [
              0,
              "#0d0887"
             ],
             [
              0.1111111111111111,
              "#46039f"
             ],
             [
              0.2222222222222222,
              "#7201a8"
             ],
             [
              0.3333333333333333,
              "#9c179e"
             ],
             [
              0.4444444444444444,
              "#bd3786"
             ],
             [
              0.5555555555555556,
              "#d8576b"
             ],
             [
              0.6666666666666666,
              "#ed7953"
             ],
             [
              0.7777777777777778,
              "#fb9f3a"
             ],
             [
              0.8888888888888888,
              "#fdca26"
             ],
             [
              1,
              "#f0f921"
             ]
            ],
            "type": "histogram2d"
           }
          ],
          "histogram2dcontour": [
           {
            "colorbar": {
             "outlinewidth": 0,
             "ticks": ""
            },
            "colorscale": [
             [
              0,
              "#0d0887"
             ],
             [
              0.1111111111111111,
              "#46039f"
             ],
             [
              0.2222222222222222,
              "#7201a8"
             ],
             [
              0.3333333333333333,
              "#9c179e"
             ],
             [
              0.4444444444444444,
              "#bd3786"
             ],
             [
              0.5555555555555556,
              "#d8576b"
             ],
             [
              0.6666666666666666,
              "#ed7953"
             ],
             [
              0.7777777777777778,
              "#fb9f3a"
             ],
             [
              0.8888888888888888,
              "#fdca26"
             ],
             [
              1,
              "#f0f921"
             ]
            ],
            "type": "histogram2dcontour"
           }
          ],
          "mesh3d": [
           {
            "colorbar": {
             "outlinewidth": 0,
             "ticks": ""
            },
            "type": "mesh3d"
           }
          ],
          "parcoords": [
           {
            "line": {
             "colorbar": {
              "outlinewidth": 0,
              "ticks": ""
             }
            },
            "type": "parcoords"
           }
          ],
          "pie": [
           {
            "automargin": true,
            "type": "pie"
           }
          ],
          "scatter": [
           {
            "marker": {
             "line": {
              "color": "#283442"
             }
            },
            "type": "scatter"
           }
          ],
          "scatter3d": [
           {
            "line": {
             "colorbar": {
              "outlinewidth": 0,
              "ticks": ""
             }
            },
            "marker": {
             "colorbar": {
              "outlinewidth": 0,
              "ticks": ""
             }
            },
            "type": "scatter3d"
           }
          ],
          "scattercarpet": [
           {
            "marker": {
             "colorbar": {
              "outlinewidth": 0,
              "ticks": ""
             }
            },
            "type": "scattercarpet"
           }
          ],
          "scattergeo": [
           {
            "marker": {
             "colorbar": {
              "outlinewidth": 0,
              "ticks": ""
             }
            },
            "type": "scattergeo"
           }
          ],
          "scattergl": [
           {
            "marker": {
             "line": {
              "color": "#283442"
             }
            },
            "type": "scattergl"
           }
          ],
          "scattermapbox": [
           {
            "marker": {
             "colorbar": {
              "outlinewidth": 0,
              "ticks": ""
             }
            },
            "type": "scattermapbox"
           }
          ],
          "scatterpolar": [
           {
            "marker": {
             "colorbar": {
              "outlinewidth": 0,
              "ticks": ""
             }
            },
            "type": "scatterpolar"
           }
          ],
          "scatterpolargl": [
           {
            "marker": {
             "colorbar": {
              "outlinewidth": 0,
              "ticks": ""
             }
            },
            "type": "scatterpolargl"
           }
          ],
          "scatterternary": [
           {
            "marker": {
             "colorbar": {
              "outlinewidth": 0,
              "ticks": ""
             }
            },
            "type": "scatterternary"
           }
          ],
          "surface": [
           {
            "colorbar": {
             "outlinewidth": 0,
             "ticks": ""
            },
            "colorscale": [
             [
              0,
              "#0d0887"
             ],
             [
              0.1111111111111111,
              "#46039f"
             ],
             [
              0.2222222222222222,
              "#7201a8"
             ],
             [
              0.3333333333333333,
              "#9c179e"
             ],
             [
              0.4444444444444444,
              "#bd3786"
             ],
             [
              0.5555555555555556,
              "#d8576b"
             ],
             [
              0.6666666666666666,
              "#ed7953"
             ],
             [
              0.7777777777777778,
              "#fb9f3a"
             ],
             [
              0.8888888888888888,
              "#fdca26"
             ],
             [
              1,
              "#f0f921"
             ]
            ],
            "type": "surface"
           }
          ],
          "table": [
           {
            "cells": {
             "fill": {
              "color": "#506784"
             },
             "line": {
              "color": "rgb(17,17,17)"
             }
            },
            "header": {
             "fill": {
              "color": "#2a3f5f"
             },
             "line": {
              "color": "rgb(17,17,17)"
             }
            },
            "type": "table"
           }
          ]
         },
         "layout": {
          "annotationdefaults": {
           "arrowcolor": "#f2f5fa",
           "arrowhead": 0,
           "arrowwidth": 1
          },
          "autotypenumbers": "strict",
          "coloraxis": {
           "colorbar": {
            "outlinewidth": 0,
            "ticks": ""
           }
          },
          "colorscale": {
           "diverging": [
            [
             0,
             "#8e0152"
            ],
            [
             0.1,
             "#c51b7d"
            ],
            [
             0.2,
             "#de77ae"
            ],
            [
             0.3,
             "#f1b6da"
            ],
            [
             0.4,
             "#fde0ef"
            ],
            [
             0.5,
             "#f7f7f7"
            ],
            [
             0.6,
             "#e6f5d0"
            ],
            [
             0.7,
             "#b8e186"
            ],
            [
             0.8,
             "#7fbc41"
            ],
            [
             0.9,
             "#4d9221"
            ],
            [
             1,
             "#276419"
            ]
           ],
           "sequential": [
            [
             0,
             "#0d0887"
            ],
            [
             0.1111111111111111,
             "#46039f"
            ],
            [
             0.2222222222222222,
             "#7201a8"
            ],
            [
             0.3333333333333333,
             "#9c179e"
            ],
            [
             0.4444444444444444,
             "#bd3786"
            ],
            [
             0.5555555555555556,
             "#d8576b"
            ],
            [
             0.6666666666666666,
             "#ed7953"
            ],
            [
             0.7777777777777778,
             "#fb9f3a"
            ],
            [
             0.8888888888888888,
             "#fdca26"
            ],
            [
             1,
             "#f0f921"
            ]
           ],
           "sequentialminus": [
            [
             0,
             "#0d0887"
            ],
            [
             0.1111111111111111,
             "#46039f"
            ],
            [
             0.2222222222222222,
             "#7201a8"
            ],
            [
             0.3333333333333333,
             "#9c179e"
            ],
            [
             0.4444444444444444,
             "#bd3786"
            ],
            [
             0.5555555555555556,
             "#d8576b"
            ],
            [
             0.6666666666666666,
             "#ed7953"
            ],
            [
             0.7777777777777778,
             "#fb9f3a"
            ],
            [
             0.8888888888888888,
             "#fdca26"
            ],
            [
             1,
             "#f0f921"
            ]
           ]
          },
          "colorway": [
           "#636efa",
           "#EF553B",
           "#00cc96",
           "#ab63fa",
           "#FFA15A",
           "#19d3f3",
           "#FF6692",
           "#B6E880",
           "#FF97FF",
           "#FECB52"
          ],
          "font": {
           "color": "#f2f5fa"
          },
          "geo": {
           "bgcolor": "rgb(17,17,17)",
           "lakecolor": "rgb(17,17,17)",
           "landcolor": "rgb(17,17,17)",
           "showlakes": true,
           "showland": true,
           "subunitcolor": "#506784"
          },
          "hoverlabel": {
           "align": "left"
          },
          "hovermode": "closest",
          "mapbox": {
           "style": "dark"
          },
          "paper_bgcolor": "rgb(17,17,17)",
          "plot_bgcolor": "rgb(17,17,17)",
          "polar": {
           "angularaxis": {
            "gridcolor": "#506784",
            "linecolor": "#506784",
            "ticks": ""
           },
           "bgcolor": "rgb(17,17,17)",
           "radialaxis": {
            "gridcolor": "#506784",
            "linecolor": "#506784",
            "ticks": ""
           }
          },
          "scene": {
           "xaxis": {
            "backgroundcolor": "rgb(17,17,17)",
            "gridcolor": "#506784",
            "gridwidth": 2,
            "linecolor": "#506784",
            "showbackground": true,
            "ticks": "",
            "zerolinecolor": "#C8D4E3"
           },
           "yaxis": {
            "backgroundcolor": "rgb(17,17,17)",
            "gridcolor": "#506784",
            "gridwidth": 2,
            "linecolor": "#506784",
            "showbackground": true,
            "ticks": "",
            "zerolinecolor": "#C8D4E3"
           },
           "zaxis": {
            "backgroundcolor": "rgb(17,17,17)",
            "gridcolor": "#506784",
            "gridwidth": 2,
            "linecolor": "#506784",
            "showbackground": true,
            "ticks": "",
            "zerolinecolor": "#C8D4E3"
           }
          },
          "shapedefaults": {
           "line": {
            "color": "#f2f5fa"
           }
          },
          "sliderdefaults": {
           "bgcolor": "#C8D4E3",
           "bordercolor": "rgb(17,17,17)",
           "borderwidth": 1,
           "tickwidth": 0
          },
          "ternary": {
           "aaxis": {
            "gridcolor": "#506784",
            "linecolor": "#506784",
            "ticks": ""
           },
           "baxis": {
            "gridcolor": "#506784",
            "linecolor": "#506784",
            "ticks": ""
           },
           "bgcolor": "rgb(17,17,17)",
           "caxis": {
            "gridcolor": "#506784",
            "linecolor": "#506784",
            "ticks": ""
           }
          },
          "title": {
           "x": 0.05
          },
          "updatemenudefaults": {
           "bgcolor": "#506784",
           "borderwidth": 0
          },
          "xaxis": {
           "automargin": true,
           "gridcolor": "#283442",
           "linecolor": "#506784",
           "ticks": "",
           "title": {
            "standoff": 15
           },
           "zerolinecolor": "#283442",
           "zerolinewidth": 2
          },
          "yaxis": {
           "automargin": true,
           "gridcolor": "#283442",
           "linecolor": "#506784",
           "ticks": "",
           "title": {
            "standoff": 15
           },
           "zerolinecolor": "#283442",
           "zerolinewidth": 2
          }
         }
        },
        "title": {
         "text": "Uttar Pardesh: Party vs Winning Percentage"
        },
        "xaxis": {
         "anchor": "y",
         "categoryorder": "total descending",
         "domain": [
          0,
          1
         ],
         "title": {
          "text": "Constituency"
         }
        },
        "yaxis": {
         "anchor": "x",
         "domain": [
          0,
          1
         ],
         "title": {
          "text": "Winning Percentage"
         }
        }
       }
      },
      "text/html": [
       "<div>                            <div id=\"e07d2bbc-df19-4931-85c1-a27790fe2f5d\" class=\"plotly-graph-div\" style=\"height:525px; width:100%;\"></div>            <script type=\"text/javascript\">                require([\"plotly\"], function(Plotly) {                    window.PLOTLYENV=window.PLOTLYENV || {};                                    if (document.getElementById(\"e07d2bbc-df19-4931-85c1-a27790fe2f5d\")) {                    Plotly.newPlot(                        \"e07d2bbc-df19-4931-85c1-a27790fe2f5d\",                        [{\"alignmentgroup\":\"True\",\"hovertemplate\":\"Party=Bharatiya Janata Party<br>Constituency=%{x}<br>Winning Percentage=%{y}<extra></extra>\",\"legendgroup\":\"Bharatiya Janata Party\",\"marker\":{\"color\":\"#EF553B\",\"pattern\":{\"shape\":\"\"}},\"name\":\"Bharatiya Janata Party\",\"offsetgroup\":\"Bharatiya Janata Party\",\"orientation\":\"v\",\"showlegend\":true,\"textposition\":\"auto\",\"x\":[\"Agra\",\"Akbarpur\",\"Aligarh\",\"Allahabad\",\"Amethi\",\"Aonla\",\"Badaun\",\"Baghpat\",\"Bahraich\",\"Ballia\",\"Banda\",\"Bansgaon\",\"Barabanki\",\"Bareilly\",\"Basti\",\"Bhadohi\",\"Bulandshahr\",\"Chandauli\",\"Deoria\",\"Dhaurahra\",\"Domariyaganj\",\"Etah\",\"Etawah\",\"Faizabad\",\"Farrukhabad\",\"Fatehpur\",\"Fatehpur Sikri\",\"Firozabad\",\"Gautam Buddha Nagar\",\"Ghaziabad\",\"Gonda\",\"Gorakhpur\",\"Hamirpur\",\"Hardoi\",\"Hathras\",\"Jalaun\",\"Jhansi\",\"Kairana\",\"Kaiserganj\",\"Kannauj\",\"Kanpur\",\"Kaushambi\",\"Kheri\",\"Kushi Nagar\",\"Lucknow\",\"Machhlishahr\",\"Maharajganj\",\"Mathura\",\"Meerut\",\"Misrikh\",\"Mohanlalganj\",\"Muzaffarnagar\",\"Phulpur\",\"Pilibhit\",\"Pratapgarh\",\"Salempur\",\"Sant Kabir Nagar\",\"Shahjahanpur\",\"Sitapur\",\"Sultanpur\",\"Unnao\",\"Varanasi\"],\"xaxis\":\"x\",\"y\":[56.48,56.69,56.42,55.62,49.71,51.07,47.3,50.32,53.14,47.4,46.2,56.41,46.39,52.91,44.68,49.07,60.64,47.07,57.19,48.21,49.96,54.56,50.8,48.66,56.82,54.24,64.32,46.09,59.64,61.96,55.01,60.54,52.77,53.72,59.49,51.49,58.61,50.44,59.24,49.37,55.63,39.31,53.63,56.69,56.7,47.19,59.2,60.88,48.19,52.05,49.62,49.46,55.68,59.38,47.7,50.73,43.97,58.09,48.33,45.91,56.87,63.62],\"yaxis\":\"y\",\"type\":\"bar\"},{\"alignmentgroup\":\"True\",\"hovertemplate\":\"Party=Bahujan Samaj Party<br>Constituency=%{x}<br>Winning Percentage=%{y}<extra></extra>\",\"legendgroup\":\"Bahujan Samaj Party\",\"marker\":{\"color\":\"#00cc96\",\"pattern\":{\"shape\":\"\"}},\"name\":\"Bahujan Samaj Party\",\"offsetgroup\":\"Bahujan Samaj Party\",\"orientation\":\"v\",\"showlegend\":true,\"textposition\":\"auto\",\"x\":[\"Ambedkar Nagar\",\"Amroha\",\"Bijnor\",\"Ghazipur\",\"Ghosi\",\"Jaunpur\",\"Lalganj\",\"Nagina\",\"Saharanpur\",\"Shrawasti\"],\"xaxis\":\"x\",\"y\":[51.75,51.41,50.97,51.2,50.3,50.08,54.01,56.31,41.74,44.31],\"yaxis\":\"y\",\"type\":\"bar\"},{\"alignmentgroup\":\"True\",\"hovertemplate\":\"Party=Samajwadi Party<br>Constituency=%{x}<br>Winning Percentage=%{y}<extra></extra>\",\"legendgroup\":\"Samajwadi Party\",\"marker\":{\"color\":\"#ab63fa\",\"pattern\":{\"shape\":\"\"}},\"name\":\"Samajwadi Party\",\"offsetgroup\":\"Samajwadi Party\",\"orientation\":\"v\",\"showlegend\":true,\"textposition\":\"auto\",\"x\":[\"Azamgarh\",\"Mainpuri\",\"Moradabad\",\"Rampur\",\"Sambhal\"],\"xaxis\":\"x\",\"y\":[60.4,53.75,50.65,52.71,55.6],\"yaxis\":\"y\",\"type\":\"bar\"},{\"alignmentgroup\":\"True\",\"hovertemplate\":\"Party=Apna Dal (Soneylal)<br>Constituency=%{x}<br>Winning Percentage=%{y}<extra></extra>\",\"legendgroup\":\"Apna Dal (Soneylal)\",\"marker\":{\"color\":\"#FFA15A\",\"pattern\":{\"shape\":\"\"}},\"name\":\"Apna Dal (Soneylal)\",\"offsetgroup\":\"Apna Dal (Soneylal)\",\"orientation\":\"v\",\"showlegend\":true,\"textposition\":\"auto\",\"x\":[\"Mirzapur\",\"Robertsganj\"],\"xaxis\":\"x\",\"y\":[53.34,45.32],\"yaxis\":\"y\",\"type\":\"bar\"},{\"alignmentgroup\":\"True\",\"hovertemplate\":\"Party=Indian National Congress<br>Constituency=%{x}<br>Winning Percentage=%{y}<extra></extra>\",\"legendgroup\":\"Indian National Congress\",\"marker\":{\"color\":\"#19d3f3\",\"pattern\":{\"shape\":\"\"}},\"name\":\"Indian National Congress\",\"offsetgroup\":\"Indian National Congress\",\"orientation\":\"v\",\"showlegend\":true,\"textposition\":\"auto\",\"x\":[\"Rae Bareli\"],\"xaxis\":\"x\",\"y\":[55.8],\"yaxis\":\"y\",\"type\":\"bar\"}],                        {\"template\":{\"data\":{\"barpolar\":[{\"marker\":{\"line\":{\"color\":\"rgb(17,17,17)\",\"width\":0.5},\"pattern\":{\"fillmode\":\"overlay\",\"size\":10,\"solidity\":0.2}},\"type\":\"barpolar\"}],\"bar\":[{\"error_x\":{\"color\":\"#f2f5fa\"},\"error_y\":{\"color\":\"#f2f5fa\"},\"marker\":{\"line\":{\"color\":\"rgb(17,17,17)\",\"width\":0.5},\"pattern\":{\"fillmode\":\"overlay\",\"size\":10,\"solidity\":0.2}},\"type\":\"bar\"}],\"carpet\":[{\"aaxis\":{\"endlinecolor\":\"#A2B1C6\",\"gridcolor\":\"#506784\",\"linecolor\":\"#506784\",\"minorgridcolor\":\"#506784\",\"startlinecolor\":\"#A2B1C6\"},\"baxis\":{\"endlinecolor\":\"#A2B1C6\",\"gridcolor\":\"#506784\",\"linecolor\":\"#506784\",\"minorgridcolor\":\"#506784\",\"startlinecolor\":\"#A2B1C6\"},\"type\":\"carpet\"}],\"choropleth\":[{\"colorbar\":{\"outlinewidth\":0,\"ticks\":\"\"},\"type\":\"choropleth\"}],\"contourcarpet\":[{\"colorbar\":{\"outlinewidth\":0,\"ticks\":\"\"},\"type\":\"contourcarpet\"}],\"contour\":[{\"colorbar\":{\"outlinewidth\":0,\"ticks\":\"\"},\"colorscale\":[[0.0,\"#0d0887\"],[0.1111111111111111,\"#46039f\"],[0.2222222222222222,\"#7201a8\"],[0.3333333333333333,\"#9c179e\"],[0.4444444444444444,\"#bd3786\"],[0.5555555555555556,\"#d8576b\"],[0.6666666666666666,\"#ed7953\"],[0.7777777777777778,\"#fb9f3a\"],[0.8888888888888888,\"#fdca26\"],[1.0,\"#f0f921\"]],\"type\":\"contour\"}],\"heatmapgl\":[{\"colorbar\":{\"outlinewidth\":0,\"ticks\":\"\"},\"colorscale\":[[0.0,\"#0d0887\"],[0.1111111111111111,\"#46039f\"],[0.2222222222222222,\"#7201a8\"],[0.3333333333333333,\"#9c179e\"],[0.4444444444444444,\"#bd3786\"],[0.5555555555555556,\"#d8576b\"],[0.6666666666666666,\"#ed7953\"],[0.7777777777777778,\"#fb9f3a\"],[0.8888888888888888,\"#fdca26\"],[1.0,\"#f0f921\"]],\"type\":\"heatmapgl\"}],\"heatmap\":[{\"colorbar\":{\"outlinewidth\":0,\"ticks\":\"\"},\"colorscale\":[[0.0,\"#0d0887\"],[0.1111111111111111,\"#46039f\"],[0.2222222222222222,\"#7201a8\"],[0.3333333333333333,\"#9c179e\"],[0.4444444444444444,\"#bd3786\"],[0.5555555555555556,\"#d8576b\"],[0.6666666666666666,\"#ed7953\"],[0.7777777777777778,\"#fb9f3a\"],[0.8888888888888888,\"#fdca26\"],[1.0,\"#f0f921\"]],\"type\":\"heatmap\"}],\"histogram2dcontour\":[{\"colorbar\":{\"outlinewidth\":0,\"ticks\":\"\"},\"colorscale\":[[0.0,\"#0d0887\"],[0.1111111111111111,\"#46039f\"],[0.2222222222222222,\"#7201a8\"],[0.3333333333333333,\"#9c179e\"],[0.4444444444444444,\"#bd3786\"],[0.5555555555555556,\"#d8576b\"],[0.6666666666666666,\"#ed7953\"],[0.7777777777777778,\"#fb9f3a\"],[0.8888888888888888,\"#fdca26\"],[1.0,\"#f0f921\"]],\"type\":\"histogram2dcontour\"}],\"histogram2d\":[{\"colorbar\":{\"outlinewidth\":0,\"ticks\":\"\"},\"colorscale\":[[0.0,\"#0d0887\"],[0.1111111111111111,\"#46039f\"],[0.2222222222222222,\"#7201a8\"],[0.3333333333333333,\"#9c179e\"],[0.4444444444444444,\"#bd3786\"],[0.5555555555555556,\"#d8576b\"],[0.6666666666666666,\"#ed7953\"],[0.7777777777777778,\"#fb9f3a\"],[0.8888888888888888,\"#fdca26\"],[1.0,\"#f0f921\"]],\"type\":\"histogram2d\"}],\"histogram\":[{\"marker\":{\"pattern\":{\"fillmode\":\"overlay\",\"size\":10,\"solidity\":0.2}},\"type\":\"histogram\"}],\"mesh3d\":[{\"colorbar\":{\"outlinewidth\":0,\"ticks\":\"\"},\"type\":\"mesh3d\"}],\"parcoords\":[{\"line\":{\"colorbar\":{\"outlinewidth\":0,\"ticks\":\"\"}},\"type\":\"parcoords\"}],\"pie\":[{\"automargin\":true,\"type\":\"pie\"}],\"scatter3d\":[{\"line\":{\"colorbar\":{\"outlinewidth\":0,\"ticks\":\"\"}},\"marker\":{\"colorbar\":{\"outlinewidth\":0,\"ticks\":\"\"}},\"type\":\"scatter3d\"}],\"scattercarpet\":[{\"marker\":{\"colorbar\":{\"outlinewidth\":0,\"ticks\":\"\"}},\"type\":\"scattercarpet\"}],\"scattergeo\":[{\"marker\":{\"colorbar\":{\"outlinewidth\":0,\"ticks\":\"\"}},\"type\":\"scattergeo\"}],\"scattergl\":[{\"marker\":{\"line\":{\"color\":\"#283442\"}},\"type\":\"scattergl\"}],\"scattermapbox\":[{\"marker\":{\"colorbar\":{\"outlinewidth\":0,\"ticks\":\"\"}},\"type\":\"scattermapbox\"}],\"scatterpolargl\":[{\"marker\":{\"colorbar\":{\"outlinewidth\":0,\"ticks\":\"\"}},\"type\":\"scatterpolargl\"}],\"scatterpolar\":[{\"marker\":{\"colorbar\":{\"outlinewidth\":0,\"ticks\":\"\"}},\"type\":\"scatterpolar\"}],\"scatter\":[{\"marker\":{\"line\":{\"color\":\"#283442\"}},\"type\":\"scatter\"}],\"scatterternary\":[{\"marker\":{\"colorbar\":{\"outlinewidth\":0,\"ticks\":\"\"}},\"type\":\"scatterternary\"}],\"surface\":[{\"colorbar\":{\"outlinewidth\":0,\"ticks\":\"\"},\"colorscale\":[[0.0,\"#0d0887\"],[0.1111111111111111,\"#46039f\"],[0.2222222222222222,\"#7201a8\"],[0.3333333333333333,\"#9c179e\"],[0.4444444444444444,\"#bd3786\"],[0.5555555555555556,\"#d8576b\"],[0.6666666666666666,\"#ed7953\"],[0.7777777777777778,\"#fb9f3a\"],[0.8888888888888888,\"#fdca26\"],[1.0,\"#f0f921\"]],\"type\":\"surface\"}],\"table\":[{\"cells\":{\"fill\":{\"color\":\"#506784\"},\"line\":{\"color\":\"rgb(17,17,17)\"}},\"header\":{\"fill\":{\"color\":\"#2a3f5f\"},\"line\":{\"color\":\"rgb(17,17,17)\"}},\"type\":\"table\"}]},\"layout\":{\"annotationdefaults\":{\"arrowcolor\":\"#f2f5fa\",\"arrowhead\":0,\"arrowwidth\":1},\"autotypenumbers\":\"strict\",\"coloraxis\":{\"colorbar\":{\"outlinewidth\":0,\"ticks\":\"\"}},\"colorscale\":{\"diverging\":[[0,\"#8e0152\"],[0.1,\"#c51b7d\"],[0.2,\"#de77ae\"],[0.3,\"#f1b6da\"],[0.4,\"#fde0ef\"],[0.5,\"#f7f7f7\"],[0.6,\"#e6f5d0\"],[0.7,\"#b8e186\"],[0.8,\"#7fbc41\"],[0.9,\"#4d9221\"],[1,\"#276419\"]],\"sequential\":[[0.0,\"#0d0887\"],[0.1111111111111111,\"#46039f\"],[0.2222222222222222,\"#7201a8\"],[0.3333333333333333,\"#9c179e\"],[0.4444444444444444,\"#bd3786\"],[0.5555555555555556,\"#d8576b\"],[0.6666666666666666,\"#ed7953\"],[0.7777777777777778,\"#fb9f3a\"],[0.8888888888888888,\"#fdca26\"],[1.0,\"#f0f921\"]],\"sequentialminus\":[[0.0,\"#0d0887\"],[0.1111111111111111,\"#46039f\"],[0.2222222222222222,\"#7201a8\"],[0.3333333333333333,\"#9c179e\"],[0.4444444444444444,\"#bd3786\"],[0.5555555555555556,\"#d8576b\"],[0.6666666666666666,\"#ed7953\"],[0.7777777777777778,\"#fb9f3a\"],[0.8888888888888888,\"#fdca26\"],[1.0,\"#f0f921\"]]},\"colorway\":[\"#636efa\",\"#EF553B\",\"#00cc96\",\"#ab63fa\",\"#FFA15A\",\"#19d3f3\",\"#FF6692\",\"#B6E880\",\"#FF97FF\",\"#FECB52\"],\"font\":{\"color\":\"#f2f5fa\"},\"geo\":{\"bgcolor\":\"rgb(17,17,17)\",\"lakecolor\":\"rgb(17,17,17)\",\"landcolor\":\"rgb(17,17,17)\",\"showlakes\":true,\"showland\":true,\"subunitcolor\":\"#506784\"},\"hoverlabel\":{\"align\":\"left\"},\"hovermode\":\"closest\",\"mapbox\":{\"style\":\"dark\"},\"paper_bgcolor\":\"rgb(17,17,17)\",\"plot_bgcolor\":\"rgb(17,17,17)\",\"polar\":{\"angularaxis\":{\"gridcolor\":\"#506784\",\"linecolor\":\"#506784\",\"ticks\":\"\"},\"bgcolor\":\"rgb(17,17,17)\",\"radialaxis\":{\"gridcolor\":\"#506784\",\"linecolor\":\"#506784\",\"ticks\":\"\"}},\"scene\":{\"xaxis\":{\"backgroundcolor\":\"rgb(17,17,17)\",\"gridcolor\":\"#506784\",\"gridwidth\":2,\"linecolor\":\"#506784\",\"showbackground\":true,\"ticks\":\"\",\"zerolinecolor\":\"#C8D4E3\"},\"yaxis\":{\"backgroundcolor\":\"rgb(17,17,17)\",\"gridcolor\":\"#506784\",\"gridwidth\":2,\"linecolor\":\"#506784\",\"showbackground\":true,\"ticks\":\"\",\"zerolinecolor\":\"#C8D4E3\"},\"zaxis\":{\"backgroundcolor\":\"rgb(17,17,17)\",\"gridcolor\":\"#506784\",\"gridwidth\":2,\"linecolor\":\"#506784\",\"showbackground\":true,\"ticks\":\"\",\"zerolinecolor\":\"#C8D4E3\"}},\"shapedefaults\":{\"line\":{\"color\":\"#f2f5fa\"}},\"sliderdefaults\":{\"bgcolor\":\"#C8D4E3\",\"bordercolor\":\"rgb(17,17,17)\",\"borderwidth\":1,\"tickwidth\":0},\"ternary\":{\"aaxis\":{\"gridcolor\":\"#506784\",\"linecolor\":\"#506784\",\"ticks\":\"\"},\"baxis\":{\"gridcolor\":\"#506784\",\"linecolor\":\"#506784\",\"ticks\":\"\"},\"bgcolor\":\"rgb(17,17,17)\",\"caxis\":{\"gridcolor\":\"#506784\",\"linecolor\":\"#506784\",\"ticks\":\"\"}},\"title\":{\"x\":0.05},\"updatemenudefaults\":{\"bgcolor\":\"#506784\",\"borderwidth\":0},\"xaxis\":{\"automargin\":true,\"gridcolor\":\"#283442\",\"linecolor\":\"#506784\",\"ticks\":\"\",\"title\":{\"standoff\":15},\"zerolinecolor\":\"#283442\",\"zerolinewidth\":2},\"yaxis\":{\"automargin\":true,\"gridcolor\":\"#283442\",\"linecolor\":\"#506784\",\"ticks\":\"\",\"title\":{\"standoff\":15},\"zerolinecolor\":\"#283442\",\"zerolinewidth\":2}}},\"xaxis\":{\"anchor\":\"y\",\"domain\":[0.0,1.0],\"title\":{\"text\":\"Constituency\"},\"categoryorder\":\"total descending\"},\"yaxis\":{\"anchor\":\"x\",\"domain\":[0.0,1.0],\"title\":{\"text\":\"Winning Percentage\"}},\"legend\":{\"title\":{\"text\":\"Party\"},\"tracegroupgap\":0},\"title\":{\"text\":\"Uttar Pardesh: Party vs Winning Percentage\"},\"barmode\":\"relative\"},                        {\"responsive\": true}                    ).then(function(){\n",
       "                            \n",
       "var gd = document.getElementById('e07d2bbc-df19-4931-85c1-a27790fe2f5d');\n",
       "var x = new MutationObserver(function (mutations, observer) {{\n",
       "        var display = window.getComputedStyle(gd).display;\n",
       "        if (!display || display === 'none') {{\n",
       "            console.log([gd, 'removed!']);\n",
       "            Plotly.purge(gd);\n",
       "            observer.disconnect();\n",
       "        }}\n",
       "}});\n",
       "\n",
       "// Listen for the removal of the full notebook cells\n",
       "var notebookContainer = gd.closest('#notebook-container');\n",
       "if (notebookContainer) {{\n",
       "    x.observe(notebookContainer, {childList: true});\n",
       "}}\n",
       "\n",
       "// Listen for the clearing of the current output cell\n",
       "var outputEl = gd.closest('.output');\n",
       "if (outputEl) {{\n",
       "    x.observe(outputEl, {childList: true});\n",
       "}}\n",
       "\n",
       "                        })                };                });            </script>        </div>"
      ]
     },
     "metadata": {},
     "output_type": "display_data"
    }
   ],
   "source": [
    "import pandas as pd\n",
    "import plotly.express as px\n",
    "\n",
    "# Load the CSV file\n",
    "file_path = \"C:/Users/viina/Downloads/archive (4)/2019_Results_Winning_Candidate.csv\"\n",
    "vote = pd.read_csv(file_path)\n",
    "\n",
    "# Filter the data for Andhra Pradesh\n",
    "ap_vote = vote[vote['State'] == 'Uttar Pradesh']\n",
    "\n",
    "# Display the first few rows to understand the data structure\n",
    "print(ap_vote.head())\n",
    "\n",
    "# Define custom colors\n",
    "color_map = {'Bharatita Janata Party': 'orange'}\n",
    "\n",
    "# Create a bar plot for Constituency vs Party vs Percentage for Andhra Pradesh\n",
    "fig = px.bar(ap_vote, x='Constituency', y='Percentage', color='Party',\n",
    "             color_discrete_map=color_map,  # Apply custom colors\n",
    "             labels={'Percentage': 'Winning Percentage'},\n",
    "             title='Uttar Pardesh: Party vs Winning Percentage')\n",
    "\n",
    "# Update the layout for better readability\n",
    "fig.update_layout(\n",
    "    xaxis_title='Constituency',\n",
    "    yaxis_title='Winning Percentage',\n",
    "    legend_title='Party',\n",
    "    template='plotly_dark',\n",
    "    xaxis={'categoryorder':'total descending'}\n",
    ")\n",
    "\n",
    "# Show the plot\n",
    "fig.show()\n"
   ]
  },
  {
   "cell_type": "code",
   "execution_count": 11,
   "id": "ddd40506",
   "metadata": {},
   "outputs": [
    {
     "data": {
      "image/png": "[encoded data removed]",
      "text/plain": [
       "<Figure size 1000x600 with 1 Axes>"
      ]
     },
     "metadata": {},
     "output_type": "display_data"
    },
    {
     "data": {
      "image/png": "[encoded data removed]",
      "text/plain": [
       "<Figure size 1400x800 with 1 Axes>"
      ]
     },
     "metadata": {},
     "output_type": "display_data"
    }
   ],
   "source": [
    "import pandas as pd\n",
    "from sklearn.model_selection import train_test_split\n",
    "from sklearn.linear_model import Lasso\n",
    "import numpy as np\n",
    "import matplotlib.pyplot as plt\n",
    "\n",
    "# Load the data\n",
    "file_path = \"C:/Users/viina/Downloads/archive (4)/2019_Results_Winning_Candidate.csv\"\n",
    "data = pd.read_csv(file_path)\n",
    "\n",
    "# Filter data for BJP winning constituencies\n",
    "bjp_data = data[data['Party'] == 'Bharatiya Janata Party']\n",
    "\n",
    "# Define the features and target variable\n",
    "X = np.arange(len(bjp_data)).reshape(-1, 1)  # Using index as feature for simplicity\n",
    "y = bjp_data['Percentage'].values\n",
    "\n",
    "# Split the data into training and test sets\n",
    "X_train, X_test, y_train, y_test = train_test_split(X, y, test_size=0.2, random_state=42)\n",
    "\n",
    "# Train the Lasso regression model\n",
    "lasso = Lasso(alpha=0.1)\n",
    "lasso.fit(X_train, y_train)\n",
    "\n",
    "# Predict the percentages on the test set\n",
    "y_pred = lasso.predict(X_test)\n",
    "\n",
    "# Plot the actual vs predicted percentages\n",
    "plt.figure(figsize=(10, 6))\n",
    "plt.scatter(X_test, y_test, color='blue', label='Actual')\n",
    "plt.scatter(X_test, y_pred, color='red', label='Predicted')\n",
    "plt.xlabel('Constituency Index')\n",
    "plt.ylabel('Winning Percentage')\n",
    "plt.title('BJP Winning Constituencies: Actual vs Predicted Winning Percentages')\n",
    "plt.legend()\n",
    "plt.show()\n",
    "\n",
    "# Plot the winning percentages for each BJP winning constituency with their names\n",
    "plt.figure(figsize=(14, 8))\n",
    "plt.barh(bjp_data['Constituency'], bjp_data['Percentage'], color='orange')\n",
    "plt.xlabel('Winning Percentage')\n",
    "plt.ylabel('Constituency')\n",
    "plt.title('Winning Percentages of BJP Winning Constituencies')\n",
    "plt.grid(axis='x')\n",
    "plt.show()\n"
   ]
  },
  {
   "cell_type": "code",
   "execution_count": 13,
   "id": "47f26c92",
   "metadata": {},
   "outputs": [
    {
     "data": {
      "application/vnd.plotly.v1+json": {
       "config": {
        "plotlyServerURL": "https://plot.ly"
       },
       "data": [
        {
         "customdata": [
          [
           53.97593185720067
          ],
          [
           52.75248140010695
          ],
          [
           55.67378147112665
          ],
          [
           52.30305061995008
          ],
          [
           56.947168681571135
          ],
          [
           58.22055589201562
          ],
          [
           55.47403445772359
          ],
          [
           52.87732328348386
          ],
          [
           51.75374633309167
          ],
          [
           57.621314851806446
          ],
          [
           58.320429398717145
          ],
          [
           55.92346523788047
          ],
          [
           57.32169433170186
          ],
          [
           54.0758053639022
          ],
          [
           55.49900283439897
          ],
          [
           57.29672595502648
          ],
          [
           55.3242241976713
          ],
          [
           53.651342960420706
          ],
          [
           51.32928392961018
          ],
          [
           51.47909418966247
          ],
          [
           54.65007802743599
          ],
          [
           51.72877795641629
          ],
          [
           51.65387282639014
          ],
          [
           57.8210618652095
          ],
          [
           54.79988828748828
          ],
          [
           51.37922068296094
          ],
          [
           52.103303606547016
          ],
          [
           56.622579784791164
          ],
          [
           52.677576270080806
          ],
          [
           55.723718224477416
          ],
          [
           54.97466692421595
          ],
          [
           51.35425230628556
          ],
          [
           53.501532700368415
          ],
          [
           57.39659946172801
          ],
          [
           58.02080887861256
          ],
          [
           54.25058400062987
          ],
          [
           56.54767465476502
          ],
          [
           56.19811738130967
          ],
          [
           57.84603024188488
          ],
          [
           57.02207381159728
          ],
          [
           56.14818062795891
          ],
          [
           56.522706278089636
          ],
          [
           55.024603677566716
          ],
          [
           55.548939587749736
          ],
          [
           58.27049264536638
          ],
          [
           52.17820873657317
          ],
          [
           51.429157436311705
          ],
          [
           56.497737901414254
          ],
          [
           51.154505292882504
          ],
          [
           52.652607893405424
          ],
          [
           52.97719679018539
          ],
          [
           52.078335229871634
          ],
          [
           56.87226355154499
          ],
          [
           56.39786439471273
          ],
          [
           52.5527343867039
          ],
          [
           53.351722440316124
          ],
          [
           52.22814548992393
          ],
          [
           55.848560107854325
          ],
          [
           50.95475827947944
          ],
          [
           53.626374583745324
          ],
          [
           53.85108997382376
          ]
         ],
         "hovertemplate": "Type=Actual<br>Constituency=%{x}<br>Actual Percentage=%{y}<extra></extra>",
         "legendgroup": "Actual",
         "marker": {
          "color": "#636efa",
          "symbol": "circle"
         },
         "mode": "markers",
         "name": "Actual",
         "orientation": "v",
         "showlegend": true,
         "type": "scatter",
         "x": [
          "Bargarh",
          "Banda",
          "Kolar",
          "Gautam Buddha Nagar",
          "Rajkot",
          "Silchar",
          "BALAGHAT",
          "Aonla",
          "Mohanlalganj",
          "MAHASAMUND",
          "Jorhat",
          "Bijapur",
          "Bardoli",
          "NORTH WEST DELHI",
          "Uttara Kannada",
          "Bharuch",
          "DHAR",
          "BHARATPUR",
          "Alipurduars",
          "Varanasi",
          "Dhule",
          "Muzaffarnagar",
          "Pratapgarh",
          "Sasaram (SC)",
          "VIDISHA",
          "Nainital-udhamsingh Nagar",
          "Jhansi",
          "Rohtak",
          "Bareilly",
          "Gulbarga",
          "REWA",
          "Tehri Garhwal",
          "Ganganagar",
          "Amreli",
          "Madhubani",
          "Solapur",
          "Hamirpur",
          "Kodarma",
          "Saran",
          "Panchmahal",
          "Palamau",
          "Kangra",
          "RAJGARH",
          "Tumkur",
          "Lakhimpur",
          "Hardoi",
          "Garhwal",
          "Mandi",
          "Bishnupur",
          "Basti",
          "Akbarpur",
          "Kairana",
          "Surendranagar",
          "Udhampur",
          "Deoria",
          "Jodhpur",
          "Gorakhpur",
          "Chikkodi",
          "Purulia",
          "Bhilwara",
          "Sambalpur"
         ],
         "xaxis": "x",
         "y": [
          46.58,
          46.2,
          56.35,
          59.64,
          63.47,
          52.59,
          50.74,
          51.07,
          49.62,
          50.44,
          51.35,
          57.22,
          55.06,
          60.49,
          68.15,
          55.47,
          53.73,
          61.74,
          54.4,
          63.62,
          56.54,
          49.46,
          47.7,
          50.76,
          68.23,
          61.35,
          58.61,
          47.01,
          52.91,
          52.14,
          57.61,
          64.53,
          61.8,
          58.19,
          61.83,
          48.41,
          69.04,
          62.26,
          53.03,
          67.56,
          62.46,
          72.02,
          65.37,
          47.89,
          60.49,
          53.72,
          68.25,
          68.75,
          46.25,
          44.68,
          56.69,
          50.44,
          58.63,
          61.38,
          57.19,
          58.6,
          60.54,
          52.98,
          49.3,
          71.59,
          42.13
         ],
         "yaxis": "y"
        },
        {
         "hoverinfo": "text",
         "mode": "markers",
         "name": "Predicted",
         "text": [
          "Bargarh",
          "Banda",
          "Kolar",
          "Gautam Buddha Nagar",
          "Rajkot",
          "Silchar",
          "BALAGHAT",
          "Aonla",
          "Mohanlalganj",
          "MAHASAMUND",
          "Jorhat",
          "Bijapur",
          "Bardoli",
          "NORTH WEST DELHI",
          "Uttara Kannada",
          "Bharuch",
          "DHAR",
          "BHARATPUR",
          "Alipurduars",
          "Varanasi",
          "Dhule",
          "Muzaffarnagar",
          "Pratapgarh",
          "Sasaram (SC)",
          "VIDISHA",
          "Nainital-udhamsingh Nagar",
          "Jhansi",
          "Rohtak",
          "Bareilly",
          "Gulbarga",
          "REWA",
          "Tehri Garhwal",
          "Ganganagar",
          "Amreli",
          "Madhubani",
          "Solapur",
          "Hamirpur",
          "Kodarma",
          "Saran",
          "Panchmahal",
          "Palamau",
          "Kangra",
          "RAJGARH",
          "Tumkur",
          "Lakhimpur",
          "Hardoi",
          "Garhwal",
          "Mandi",
          "Bishnupur",
          "Basti",
          "Akbarpur",
          "Kairana",
          "Surendranagar",
          "Udhampur",
          "Deoria",
          "Jodhpur",
          "Gorakhpur",
          "Chikkodi",
          "Purulia",
          "Bhilwara",
          "Sambalpur"
         ],
         "type": "scatter",
         "x": [
          "Bargarh",
          "Banda",
          "Kolar",
          "Gautam Buddha Nagar",
          "Rajkot",
          "Silchar",
          "BALAGHAT",
          "Aonla",
          "Mohanlalganj",
          "MAHASAMUND",
          "Jorhat",
          "Bijapur",
          "Bardoli",
          "NORTH WEST DELHI",
          "Uttara Kannada",
          "Bharuch",
          "DHAR",
          "BHARATPUR",
          "Alipurduars",
          "Varanasi",
          "Dhule",
          "Muzaffarnagar",
          "Pratapgarh",
          "Sasaram (SC)",
          "VIDISHA",
          "Nainital-udhamsingh Nagar",
          "Jhansi",
          "Rohtak",
          "Bareilly",
          "Gulbarga",
          "REWA",
          "Tehri Garhwal",
          "Ganganagar",
          "Amreli",
          "Madhubani",
          "Solapur",
          "Hamirpur",
          "Kodarma",
          "Saran",
          "Panchmahal",
          "Palamau",
          "Kangra",
          "RAJGARH",
          "Tumkur",
          "Lakhimpur",
          "Hardoi",
          "Garhwal",
          "Mandi",
          "Bishnupur",
          "Basti",
          "Akbarpur",
          "Kairana",
          "Surendranagar",
          "Udhampur",
          "Deoria",
          "Jodhpur",
          "Gorakhpur",
          "Chikkodi",
          "Purulia",
          "Bhilwara",
          "Sambalpur"
         ],
         "y": [
          53.97593185720067,
          52.75248140010695,
          55.67378147112665,
          52.30305061995008,
          56.947168681571135,
          58.22055589201562,
          55.47403445772359,
          52.87732328348386,
          51.75374633309167,
          57.621314851806446,
          58.320429398717145,
          55.92346523788047,
          57.32169433170186,
          54.0758053639022,
          55.49900283439897,
          57.29672595502648,
          55.3242241976713,
          53.651342960420706,
          51.32928392961018,
          51.47909418966247,
          54.65007802743599,
          51.72877795641629,
          51.65387282639014,
          57.8210618652095,
          54.79988828748828,
          51.37922068296094,
          52.103303606547016,
          56.622579784791164,
          52.677576270080806,
          55.723718224477416,
          54.97466692421595,
          51.35425230628556,
          53.501532700368415,
          57.39659946172801,
          58.02080887861256,
          54.25058400062987,
          56.54767465476502,
          56.19811738130967,
          57.84603024188488,
          57.02207381159728,
          56.14818062795891,
          56.522706278089636,
          55.024603677566716,
          55.548939587749736,
          58.27049264536638,
          52.17820873657317,
          51.429157436311705,
          56.497737901414254,
          51.154505292882504,
          52.652607893405424,
          52.97719679018539,
          52.078335229871634,
          56.87226355154499,
          56.39786439471273,
          52.5527343867039,
          53.351722440316124,
          52.22814548992393,
          55.848560107854325,
          50.95475827947944,
          53.626374583745324,
          53.85108997382376
         ]
        }
       ],
       "layout": {
        "legend": {
         "title": {
          "text": "Type"
         },
         "tracegroupgap": 0
        },
        "margin": {
         "t": 60
        },
        "template": {
         "data": {
          "bar": [
           {
            "error_x": {
             "color": "#2a3f5f"
            },
            "error_y": {
             "color": "#2a3f5f"
            },
            "marker": {
             "line": {
              "color": "#E5ECF6",
              "width": 0.5
             },
             "pattern": {
              "fillmode": "overlay",
              "size": 10,
              "solidity": 0.2
             }
            },
            "type": "bar"
           }
          ],
          "barpolar": [
           {
            "marker": {
             "line": {
              "color": "#E5ECF6",
              "width": 0.5
             },
             "pattern": {
              "fillmode": "overlay",
              "size": 10,
              "solidity": 0.2
             }
            },
            "type": "barpolar"
           }
          ],
          "carpet": [
           {
            "aaxis": {
             "endlinecolor": "#2a3f5f",
             "gridcolor": "white",
             "linecolor": "white",
             "minorgridcolor": "white",
             "startlinecolor": "#2a3f5f"
            },
            "baxis": {
             "endlinecolor": "#2a3f5f",
             "gridcolor": "white",
             "linecolor": "white",
             "minorgridcolor": "white",
             "startlinecolor": "#2a3f5f"
            },
            "type": "carpet"
           }
          ],
          "choropleth": [
           {
            "colorbar": {
             "outlinewidth": 0,
             "ticks": ""
            },
            "type": "choropleth"
           }
          ],
          "contour": [
           {
            "colorbar": {
             "outlinewidth": 0,
             "ticks": ""
            },
            "colorscale": [
             [
              0,
              "#0d0887"
             ],
             [
              0.1111111111111111,
              "#46039f"
             ],
             [
              0.2222222222222222,
              "#7201a8"
             ],
             [
              0.3333333333333333,
              "#9c179e"
             ],
             [
              0.4444444444444444,
              "#bd3786"
             ],
             [
              0.5555555555555556,
              "#d8576b"
             ],
             [
              0.6666666666666666,
              "#ed7953"
             ],
             [
              0.7777777777777778,
              "#fb9f3a"
             ],
             [
              0.8888888888888888,
              "#fdca26"
             ],
             [
              1,
              "#f0f921"
             ]
            ],
            "type": "contour"
           }
          ],
          "contourcarpet": [
           {
            "colorbar": {
             "outlinewidth": 0,
             "ticks": ""
            },
            "type": "contourcarpet"
           }
          ],
          "heatmap": [
           {
            "colorbar": {
             "outlinewidth": 0,
             "ticks": ""
            },
            "colorscale": [
             [
              0,
              "#0d0887"
             ],
             [
              0.1111111111111111,
              "#46039f"
             ],
             [
              0.2222222222222222,
              "#7201a8"
             ],
             [
              0.3333333333333333,
              "#9c179e"
             ],
             [
              0.4444444444444444,
              "#bd3786"
             ],
             [
              0.5555555555555556,
              "#d8576b"
             ],
             [
              0.6666666666666666,
              "#ed7953"
             ],
             [
              0.7777777777777778,
              "#fb9f3a"
             ],
             [
              0.8888888888888888,
              "#fdca26"
             ],
             [
              1,
              "#f0f921"
             ]
            ],
            "type": "heatmap"
           }
          ],
          "heatmapgl": [
           {
            "colorbar": {
             "outlinewidth": 0,
             "ticks": ""
            },
            "colorscale": [
             [
              0,
              "#0d0887"
             ],
             [
              0.1111111111111111,
              "#46039f"
             ],
             [
              0.2222222222222222,
              "#7201a8"
             ],
             [
              0.3333333333333333,
              "#9c179e"
             ],
             [
              0.4444444444444444,
              "#bd3786"
             ],
             [
              0.5555555555555556,
              "#d8576b"
             ],
             [
              0.6666666666666666,
              "#ed7953"
             ],
             [
              0.7777777777777778,
              "#fb9f3a"
             ],
             [
              0.8888888888888888,
              "#fdca26"
             ],
             [
              1,
              "#f0f921"
             ]
            ],
            "type": "heatmapgl"
           }
          ],
          "histogram": [
           {
            "marker": {
             "pattern": {
              "fillmode": "overlay",
              "size": 10,
              "solidity": 0.2
             }
            },
            "type": "histogram"
           }
          ],
          "histogram2d": [
           {
            "colorbar": {
             "outlinewidth": 0,
             "ticks": ""
            },
            "colorscale": [
             [
              0,
              "#0d0887"
             ],
             [
              0.1111111111111111,
              "#46039f"
             ],
             [
              0.2222222222222222,
              "#7201a8"
             ],
             [
              0.3333333333333333,
              "#9c179e"
             ],
             [
              0.4444444444444444,
              "#bd3786"
             ],
             [
              0.5555555555555556,
              "#d8576b"
             ],
             [
              0.6666666666666666,
              "#ed7953"
             ],
             [
              0.7777777777777778,
              "#fb9f3a"
             ],
             [
              0.8888888888888888,
              "#fdca26"
             ],
             [
              1,
              "#f0f921"
             ]
            ],
            "type": "histogram2d"
           }
          ],
          "histogram2dcontour": [
           {
            "colorbar": {
             "outlinewidth": 0,
             "ticks": ""
            },
            "colorscale": [
             [
              0,
              "#0d0887"
             ],
             [
              0.1111111111111111,
              "#46039f"
             ],
             [
              0.2222222222222222,
              "#7201a8"
             ],
             [
              0.3333333333333333,
              "#9c179e"
             ],
             [
              0.4444444444444444,
              "#bd3786"
             ],
             [
              0.5555555555555556,
              "#d8576b"
             ],
             [
              0.6666666666666666,
              "#ed7953"
             ],
             [
              0.7777777777777778,
              "#fb9f3a"
             ],
             [
              0.8888888888888888,
              "#fdca26"
             ],
             [
              1,
              "#f0f921"
             ]
            ],
            "type": "histogram2dcontour"
           }
          ],
          "mesh3d": [
           {
            "colorbar": {
             "outlinewidth": 0,
             "ticks": ""
            },
            "type": "mesh3d"
           }
          ],
          "parcoords": [
           {
            "line": {
             "colorbar": {
              "outlinewidth": 0,
              "ticks": ""
             }
            },
            "type": "parcoords"
           }
          ],
          "pie": [
           {
            "automargin": true,
            "type": "pie"
           }
          ],
          "scatter": [
           {
            "fillpattern": {
             "fillmode": "overlay",
             "size": 10,
             "solidity": 0.2
            },
            "type": "scatter"
           }
          ],
          "scatter3d": [
           {
            "line": {
             "colorbar": {
              "outlinewidth": 0,
              "ticks": ""
             }
            },
            "marker": {
             "colorbar": {
              "outlinewidth": 0,
              "ticks": ""
             }
            },
            "type": "scatter3d"
           }
          ],
          "scattercarpet": [
           {
            "marker": {
             "colorbar": {
              "outlinewidth": 0,
              "ticks": ""
             }
            },
            "type": "scattercarpet"
           }
          ],
          "scattergeo": [
           {
            "marker": {
             "colorbar": {
              "outlinewidth": 0,
              "ticks": ""
             }
            },
            "type": "scattergeo"
           }
          ],
          "scattergl": [
           {
            "marker": {
             "colorbar": {
              "outlinewidth": 0,
              "ticks": ""
             }
            },
            "type": "scattergl"
           }
          ],
          "scattermapbox": [
           {
            "marker": {
             "colorbar": {
              "outlinewidth": 0,
              "ticks": ""
             }
            },
            "type": "scattermapbox"
           }
          ],
          "scatterpolar": [
           {
            "marker": {
             "colorbar": {
              "outlinewidth": 0,
              "ticks": ""
             }
            },
            "type": "scatterpolar"
           }
          ],
          "scatterpolargl": [
           {
            "marker": {
             "colorbar": {
              "outlinewidth": 0,
              "ticks": ""
             }
            },
            "type": "scatterpolargl"
           }
          ],
          "scatterternary": [
           {
            "marker": {
             "colorbar": {
              "outlinewidth": 0,
              "ticks": ""
             }
            },
            "type": "scatterternary"
           }
          ],
          "surface": [
           {
            "colorbar": {
             "outlinewidth": 0,
             "ticks": ""
            },
            "colorscale": [
             [
              0,
              "#0d0887"
             ],
             [
              0.1111111111111111,
              "#46039f"
             ],
             [
              0.2222222222222222,
              "#7201a8"
             ],
             [
              0.3333333333333333,
              "#9c179e"
             ],
             [
              0.4444444444444444,
              "#bd3786"
             ],
             [
              0.5555555555555556,
              "#d8576b"
             ],
             [
              0.6666666666666666,
              "#ed7953"
             ],
             [
              0.7777777777777778,
              "#fb9f3a"
             ],
             [
              0.8888888888888888,
              "#fdca26"
             ],
             [
              1,
              "#f0f921"
             ]
            ],
            "type": "surface"
           }
          ],
          "table": [
           {
            "cells": {
             "fill": {
              "color": "#EBF0F8"
             },
             "line": {
              "color": "white"
             }
            },
            "header": {
             "fill": {
              "color": "#C8D4E3"
             },
             "line": {
              "color": "white"
             }
            },
            "type": "table"
           }
          ]
         },
         "layout": {
          "annotationdefaults": {
           "arrowcolor": "#2a3f5f",
           "arrowhead": 0,
           "arrowwidth": 1
          },
          "autotypenumbers": "strict",
          "coloraxis": {
           "colorbar": {
            "outlinewidth": 0,
            "ticks": ""
           }
          },
          "colorscale": {
           "diverging": [
            [
             0,
             "#8e0152"
            ],
            [
             0.1,
             "#c51b7d"
            ],
            [
             0.2,
             "#de77ae"
            ],
            [
             0.3,
             "#f1b6da"
            ],
            [
             0.4,
             "#fde0ef"
            ],
            [
             0.5,
             "#f7f7f7"
            ],
            [
             0.6,
             "#e6f5d0"
            ],
            [
             0.7,
             "#b8e186"
            ],
            [
             0.8,
             "#7fbc41"
            ],
            [
             0.9,
             "#4d9221"
            ],
            [
             1,
             "#276419"
            ]
           ],
           "sequential": [
            [
             0,
             "#0d0887"
            ],
            [
             0.1111111111111111,
             "#46039f"
            ],
            [
             0.2222222222222222,
             "#7201a8"
            ],
            [
             0.3333333333333333,
             "#9c179e"
            ],
            [
             0.4444444444444444,
             "#bd3786"
            ],
            [
             0.5555555555555556,
             "#d8576b"
            ],
            [
             0.6666666666666666,
             "#ed7953"
            ],
            [
             0.7777777777777778,
             "#fb9f3a"
            ],
            [
             0.8888888888888888,
             "#fdca26"
            ],
            [
             1,
             "#f0f921"
            ]
           ],
           "sequentialminus": [
            [
             0,
             "#0d0887"
            ],
            [
             0.1111111111111111,
             "#46039f"
            ],
            [
             0.2222222222222222,
             "#7201a8"
            ],
            [
             0.3333333333333333,
             "#9c179e"
            ],
            [
             0.4444444444444444,
             "#bd3786"
            ],
            [
             0.5555555555555556,
             "#d8576b"
            ],
            [
             0.6666666666666666,
             "#ed7953"
            ],
            [
             0.7777777777777778,
             "#fb9f3a"
            ],
            [
             0.8888888888888888,
             "#fdca26"
            ],
            [
             1,
             "#f0f921"
            ]
           ]
          },
          "colorway": [
           "#636efa",
           "#EF553B",
           "#00cc96",
           "#ab63fa",
           "#FFA15A",
           "#19d3f3",
           "#FF6692",
           "#B6E880",
           "#FF97FF",
           "#FECB52"
          ],
          "font": {
           "color": "#2a3f5f"
          },
          "geo": {
           "bgcolor": "white",
           "lakecolor": "white",
           "landcolor": "#E5ECF6",
           "showlakes": true,
           "showland": true,
           "subunitcolor": "white"
          },
          "hoverlabel": {
           "align": "left"
          },
          "hovermode": "closest",
          "mapbox": {
           "style": "light"
          },
          "paper_bgcolor": "white",
          "plot_bgcolor": "#E5ECF6",
          "polar": {
           "angularaxis": {
            "gridcolor": "white",
            "linecolor": "white",
            "ticks": ""
           },
           "bgcolor": "#E5ECF6",
           "radialaxis": {
            "gridcolor": "white",
            "linecolor": "white",
            "ticks": ""
           }
          },
          "scene": {
           "xaxis": {
            "backgroundcolor": "#E5ECF6",
            "gridcolor": "white",
            "gridwidth": 2,
            "linecolor": "white",
            "showbackground": true,
            "ticks": "",
            "zerolinecolor": "white"
           },
           "yaxis": {
            "backgroundcolor": "#E5ECF6",
            "gridcolor": "white",
            "gridwidth": 2,
            "linecolor": "white",
            "showbackground": true,
            "ticks": "",
            "zerolinecolor": "white"
           },
           "zaxis": {
            "backgroundcolor": "#E5ECF6",
            "gridcolor": "white",
            "gridwidth": 2,
            "linecolor": "white",
            "showbackground": true,
            "ticks": "",
            "zerolinecolor": "white"
           }
          },
          "shapedefaults": {
           "line": {
            "color": "#2a3f5f"
           }
          },
          "ternary": {
           "aaxis": {
            "gridcolor": "white",
            "linecolor": "white",
            "ticks": ""
           },
           "baxis": {
            "gridcolor": "white",
            "linecolor": "white",
            "ticks": ""
           },
           "bgcolor": "#E5ECF6",
           "caxis": {
            "gridcolor": "white",
            "linecolor": "white",
            "ticks": ""
           }
          },
          "title": {
           "x": 0.05
          },
          "xaxis": {
           "automargin": true,
           "gridcolor": "white",
           "linecolor": "white",
           "ticks": "",
           "title": {
            "standoff": 15
           },
           "zerolinecolor": "white",
           "zerolinewidth": 2
          },
          "yaxis": {
           "automargin": true,
           "gridcolor": "white",
           "linecolor": "white",
           "ticks": "",
           "title": {
            "standoff": 15
           },
           "zerolinecolor": "white",
           "zerolinewidth": 2
          }
         }
        },
        "title": {
         "text": "BJP Winning Constituencies: Actual vs Predicted Winning Percentages"
        },
        "xaxis": {
         "anchor": "y",
         "domain": [
          0,
          1
         ],
         "title": {
          "text": "Constituency"
         }
        },
        "yaxis": {
         "anchor": "x",
         "domain": [
          0,
          1
         ],
         "title": {
          "text": "Winning Percentage"
         }
        }
       }
      },
      "text/html": [
       "<div>                            <div id=\"9ec24d9c-34b9-4a52-a353-1e1029c145fc\" class=\"plotly-graph-div\" style=\"height:525px; width:100%;\"></div>            <script type=\"text/javascript\">                require([\"plotly\"], function(Plotly) {                    window.PLOTLYENV=window.PLOTLYENV || {};                                    if (document.getElementById(\"9ec24d9c-34b9-4a52-a353-1e1029c145fc\")) {                    Plotly.newPlot(                        \"9ec24d9c-34b9-4a52-a353-1e1029c145fc\",                        [{\"customdata\":[[53.97593185720067],[52.75248140010695],[55.67378147112665],[52.30305061995008],[56.947168681571135],[58.22055589201562],[55.47403445772359],[52.87732328348386],[51.75374633309167],[57.621314851806446],[58.320429398717145],[55.92346523788047],[57.32169433170186],[54.0758053639022],[55.49900283439897],[57.29672595502648],[55.3242241976713],[53.651342960420706],[51.32928392961018],[51.47909418966247],[54.65007802743599],[51.72877795641629],[51.65387282639014],[57.8210618652095],[54.79988828748828],[51.37922068296094],[52.103303606547016],[56.622579784791164],[52.677576270080806],[55.723718224477416],[54.97466692421595],[51.35425230628556],[53.501532700368415],[57.39659946172801],[58.02080887861256],[54.25058400062987],[56.54767465476502],[56.19811738130967],[57.84603024188488],[57.02207381159728],[56.14818062795891],[56.522706278089636],[55.024603677566716],[55.548939587749736],[58.27049264536638],[52.17820873657317],[51.429157436311705],[56.497737901414254],[51.154505292882504],[52.652607893405424],[52.97719679018539],[52.078335229871634],[56.87226355154499],[56.39786439471273],[52.5527343867039],[53.351722440316124],[52.22814548992393],[55.848560107854325],[50.95475827947944],[53.626374583745324],[53.85108997382376]],\"hovertemplate\":\"Type=Actual<br>Constituency=%{x}<br>Actual Percentage=%{y}<extra></extra>\",\"legendgroup\":\"Actual\",\"marker\":{\"color\":\"#636efa\",\"symbol\":\"circle\"},\"mode\":\"markers\",\"name\":\"Actual\",\"orientation\":\"v\",\"showlegend\":true,\"x\":[\"Bargarh\",\"Banda\",\"Kolar\",\"Gautam Buddha Nagar\",\"Rajkot\",\"Silchar\",\"BALAGHAT\",\"Aonla\",\"Mohanlalganj\",\"MAHASAMUND\",\"Jorhat\",\"Bijapur\",\"Bardoli\",\"NORTH WEST DELHI\",\"Uttara Kannada\",\"Bharuch\",\"DHAR\",\"BHARATPUR\",\"Alipurduars\",\"Varanasi\",\"Dhule\",\"Muzaffarnagar\",\"Pratapgarh\",\"Sasaram (SC)\",\"VIDISHA\",\"Nainital-udhamsingh Nagar\",\"Jhansi\",\"Rohtak\",\"Bareilly\",\"Gulbarga\",\"REWA\",\"Tehri Garhwal\",\"Ganganagar\",\"Amreli\",\"Madhubani\",\"Solapur\",\"Hamirpur\",\"Kodarma\",\"Saran\",\"Panchmahal\",\"Palamau\",\"Kangra\",\"RAJGARH\",\"Tumkur\",\"Lakhimpur\",\"Hardoi\",\"Garhwal\",\"Mandi\",\"Bishnupur\",\"Basti\",\"Akbarpur\",\"Kairana\",\"Surendranagar\",\"Udhampur\",\"Deoria\",\"Jodhpur\",\"Gorakhpur\",\"Chikkodi\",\"Purulia\",\"Bhilwara\",\"Sambalpur\"],\"xaxis\":\"x\",\"y\":[46.58,46.2,56.35,59.64,63.47,52.59,50.74,51.07,49.62,50.44,51.35,57.22,55.06,60.49,68.15,55.47,53.73,61.74,54.4,63.62,56.54,49.46,47.7,50.76,68.23,61.35,58.61,47.01,52.91,52.14,57.61,64.53,61.8,58.19,61.83,48.41,69.04,62.26,53.03,67.56,62.46,72.02,65.37,47.89,60.49,53.72,68.25,68.75,46.25,44.68,56.69,50.44,58.63,61.38,57.19,58.6,60.54,52.98,49.3,71.59,42.13],\"yaxis\":\"y\",\"type\":\"scatter\"},{\"hoverinfo\":\"text\",\"mode\":\"markers\",\"name\":\"Predicted\",\"text\":[\"Bargarh\",\"Banda\",\"Kolar\",\"Gautam Buddha Nagar\",\"Rajkot\",\"Silchar\",\"BALAGHAT\",\"Aonla\",\"Mohanlalganj\",\"MAHASAMUND\",\"Jorhat\",\"Bijapur\",\"Bardoli\",\"NORTH WEST DELHI\",\"Uttara Kannada\",\"Bharuch\",\"DHAR\",\"BHARATPUR\",\"Alipurduars\",\"Varanasi\",\"Dhule\",\"Muzaffarnagar\",\"Pratapgarh\",\"Sasaram (SC)\",\"VIDISHA\",\"Nainital-udhamsingh Nagar\",\"Jhansi\",\"Rohtak\",\"Bareilly\",\"Gulbarga\",\"REWA\",\"Tehri Garhwal\",\"Ganganagar\",\"Amreli\",\"Madhubani\",\"Solapur\",\"Hamirpur\",\"Kodarma\",\"Saran\",\"Panchmahal\",\"Palamau\",\"Kangra\",\"RAJGARH\",\"Tumkur\",\"Lakhimpur\",\"Hardoi\",\"Garhwal\",\"Mandi\",\"Bishnupur\",\"Basti\",\"Akbarpur\",\"Kairana\",\"Surendranagar\",\"Udhampur\",\"Deoria\",\"Jodhpur\",\"Gorakhpur\",\"Chikkodi\",\"Purulia\",\"Bhilwara\",\"Sambalpur\"],\"x\":[\"Bargarh\",\"Banda\",\"Kolar\",\"Gautam Buddha Nagar\",\"Rajkot\",\"Silchar\",\"BALAGHAT\",\"Aonla\",\"Mohanlalganj\",\"MAHASAMUND\",\"Jorhat\",\"Bijapur\",\"Bardoli\",\"NORTH WEST DELHI\",\"Uttara Kannada\",\"Bharuch\",\"DHAR\",\"BHARATPUR\",\"Alipurduars\",\"Varanasi\",\"Dhule\",\"Muzaffarnagar\",\"Pratapgarh\",\"Sasaram (SC)\",\"VIDISHA\",\"Nainital-udhamsingh Nagar\",\"Jhansi\",\"Rohtak\",\"Bareilly\",\"Gulbarga\",\"REWA\",\"Tehri Garhwal\",\"Ganganagar\",\"Amreli\",\"Madhubani\",\"Solapur\",\"Hamirpur\",\"Kodarma\",\"Saran\",\"Panchmahal\",\"Palamau\",\"Kangra\",\"RAJGARH\",\"Tumkur\",\"Lakhimpur\",\"Hardoi\",\"Garhwal\",\"Mandi\",\"Bishnupur\",\"Basti\",\"Akbarpur\",\"Kairana\",\"Surendranagar\",\"Udhampur\",\"Deoria\",\"Jodhpur\",\"Gorakhpur\",\"Chikkodi\",\"Purulia\",\"Bhilwara\",\"Sambalpur\"],\"y\":[53.97593185720067,52.75248140010695,55.67378147112665,52.30305061995008,56.947168681571135,58.22055589201562,55.47403445772359,52.87732328348386,51.75374633309167,57.621314851806446,58.320429398717145,55.92346523788047,57.32169433170186,54.0758053639022,55.49900283439897,57.29672595502648,55.3242241976713,53.651342960420706,51.32928392961018,51.47909418966247,54.65007802743599,51.72877795641629,51.65387282639014,57.8210618652095,54.79988828748828,51.37922068296094,52.103303606547016,56.622579784791164,52.677576270080806,55.723718224477416,54.97466692421595,51.35425230628556,53.501532700368415,57.39659946172801,58.02080887861256,54.25058400062987,56.54767465476502,56.19811738130967,57.84603024188488,57.02207381159728,56.14818062795891,56.522706278089636,55.024603677566716,55.548939587749736,58.27049264536638,52.17820873657317,51.429157436311705,56.497737901414254,51.154505292882504,52.652607893405424,52.97719679018539,52.078335229871634,56.87226355154499,56.39786439471273,52.5527343867039,53.351722440316124,52.22814548992393,55.848560107854325,50.95475827947944,53.626374583745324,53.85108997382376],\"type\":\"scatter\"}],                        {\"template\":{\"data\":{\"histogram2dcontour\":[{\"type\":\"histogram2dcontour\",\"colorbar\":{\"outlinewidth\":0,\"ticks\":\"\"},\"colorscale\":[[0.0,\"#0d0887\"],[0.1111111111111111,\"#46039f\"],[0.2222222222222222,\"#7201a8\"],[0.3333333333333333,\"#9c179e\"],[0.4444444444444444,\"#bd3786\"],[0.5555555555555556,\"#d8576b\"],[0.6666666666666666,\"#ed7953\"],[0.7777777777777778,\"#fb9f3a\"],[0.8888888888888888,\"#fdca26\"],[1.0,\"#f0f921\"]]}],\"choropleth\":[{\"type\":\"choropleth\",\"colorbar\":{\"outlinewidth\":0,\"ticks\":\"\"}}],\"histogram2d\":[{\"type\":\"histogram2d\",\"colorbar\":{\"outlinewidth\":0,\"ticks\":\"\"},\"colorscale\":[[0.0,\"#0d0887\"],[0.1111111111111111,\"#46039f\"],[0.2222222222222222,\"#7201a8\"],[0.3333333333333333,\"#9c179e\"],[0.4444444444444444,\"#bd3786\"],[0.5555555555555556,\"#d8576b\"],[0.6666666666666666,\"#ed7953\"],[0.7777777777777778,\"#fb9f3a\"],[0.8888888888888888,\"#fdca26\"],[1.0,\"#f0f921\"]]}],\"heatmap\":[{\"type\":\"heatmap\",\"colorbar\":{\"outlinewidth\":0,\"ticks\":\"\"},\"colorscale\":[[0.0,\"#0d0887\"],[0.1111111111111111,\"#46039f\"],[0.2222222222222222,\"#7201a8\"],[0.3333333333333333,\"#9c179e\"],[0.4444444444444444,\"#bd3786\"],[0.5555555555555556,\"#d8576b\"],[0.6666666666666666,\"#ed7953\"],[0.7777777777777778,\"#fb9f3a\"],[0.8888888888888888,\"#fdca26\"],[1.0,\"#f0f921\"]]}],\"heatmapgl\":[{\"type\":\"heatmapgl\",\"colorbar\":{\"outlinewidth\":0,\"ticks\":\"\"},\"colorscale\":[[0.0,\"#0d0887\"],[0.1111111111111111,\"#46039f\"],[0.2222222222222222,\"#7201a8\"],[0.3333333333333333,\"#9c179e\"],[0.4444444444444444,\"#bd3786\"],[0.5555555555555556,\"#d8576b\"],[0.6666666666666666,\"#ed7953\"],[0.7777777777777778,\"#fb9f3a\"],[0.8888888888888888,\"#fdca26\"],[1.0,\"#f0f921\"]]}],\"contourcarpet\":[{\"type\":\"contourcarpet\",\"colorbar\":{\"outlinewidth\":0,\"ticks\":\"\"}}],\"contour\":[{\"type\":\"contour\",\"colorbar\":{\"outlinewidth\":0,\"ticks\":\"\"},\"colorscale\":[[0.0,\"#0d0887\"],[0.1111111111111111,\"#46039f\"],[0.2222222222222222,\"#7201a8\"],[0.3333333333333333,\"#9c179e\"],[0.4444444444444444,\"#bd3786\"],[0.5555555555555556,\"#d8576b\"],[0.6666666666666666,\"#ed7953\"],[0.7777777777777778,\"#fb9f3a\"],[0.8888888888888888,\"#fdca26\"],[1.0,\"#f0f921\"]]}],\"surface\":[{\"type\":\"surface\",\"colorbar\":{\"outlinewidth\":0,\"ticks\":\"\"},\"colorscale\":[[0.0,\"#0d0887\"],[0.1111111111111111,\"#46039f\"],[0.2222222222222222,\"#7201a8\"],[0.3333333333333333,\"#9c179e\"],[0.4444444444444444,\"#bd3786\"],[0.5555555555555556,\"#d8576b\"],[0.6666666666666666,\"#ed7953\"],[0.7777777777777778,\"#fb9f3a\"],[0.8888888888888888,\"#fdca26\"],[1.0,\"#f0f921\"]]}],\"mesh3d\":[{\"type\":\"mesh3d\",\"colorbar\":{\"outlinewidth\":0,\"ticks\":\"\"}}],\"scatter\":[{\"fillpattern\":{\"fillmode\":\"overlay\",\"size\":10,\"solidity\":0.2},\"type\":\"scatter\"}],\"parcoords\":[{\"type\":\"parcoords\",\"line\":{\"colorbar\":{\"outlinewidth\":0,\"ticks\":\"\"}}}],\"scatterpolargl\":[{\"type\":\"scatterpolargl\",\"marker\":{\"colorbar\":{\"outlinewidth\":0,\"ticks\":\"\"}}}],\"bar\":[{\"error_x\":{\"color\":\"#2a3f5f\"},\"error_y\":{\"color\":\"#2a3f5f\"},\"marker\":{\"line\":{\"color\":\"#E5ECF6\",\"width\":0.5},\"pattern\":{\"fillmode\":\"overlay\",\"size\":10,\"solidity\":0.2}},\"type\":\"bar\"}],\"scattergeo\":[{\"type\":\"scattergeo\",\"marker\":{\"colorbar\":{\"outlinewidth\":0,\"ticks\":\"\"}}}],\"scatterpolar\":[{\"type\":\"scatterpolar\",\"marker\":{\"colorbar\":{\"outlinewidth\":0,\"ticks\":\"\"}}}],\"histogram\":[{\"marker\":{\"pattern\":{\"fillmode\":\"overlay\",\"size\":10,\"solidity\":0.2}},\"type\":\"histogram\"}],\"scattergl\":[{\"type\":\"scattergl\",\"marker\":{\"colorbar\":{\"outlinewidth\":0,\"ticks\":\"\"}}}],\"scatter3d\":[{\"type\":\"scatter3d\",\"line\":{\"colorbar\":{\"outlinewidth\":0,\"ticks\":\"\"}},\"marker\":{\"colorbar\":{\"outlinewidth\":0,\"ticks\":\"\"}}}],\"scattermapbox\":[{\"type\":\"scattermapbox\",\"marker\":{\"colorbar\":{\"outlinewidth\":0,\"ticks\":\"\"}}}],\"scatterternary\":[{\"type\":\"scatterternary\",\"marker\":{\"colorbar\":{\"outlinewidth\":0,\"ticks\":\"\"}}}],\"scattercarpet\":[{\"type\":\"scattercarpet\",\"marker\":{\"colorbar\":{\"outlinewidth\":0,\"ticks\":\"\"}}}],\"carpet\":[{\"aaxis\":{\"endlinecolor\":\"#2a3f5f\",\"gridcolor\":\"white\",\"linecolor\":\"white\",\"minorgridcolor\":\"white\",\"startlinecolor\":\"#2a3f5f\"},\"baxis\":{\"endlinecolor\":\"#2a3f5f\",\"gridcolor\":\"white\",\"linecolor\":\"white\",\"minorgridcolor\":\"white\",\"startlinecolor\":\"#2a3f5f\"},\"type\":\"carpet\"}],\"table\":[{\"cells\":{\"fill\":{\"color\":\"#EBF0F8\"},\"line\":{\"color\":\"white\"}},\"header\":{\"fill\":{\"color\":\"#C8D4E3\"},\"line\":{\"color\":\"white\"}},\"type\":\"table\"}],\"barpolar\":[{\"marker\":{\"line\":{\"color\":\"#E5ECF6\",\"width\":0.5},\"pattern\":{\"fillmode\":\"overlay\",\"size\":10,\"solidity\":0.2}},\"type\":\"barpolar\"}],\"pie\":[{\"automargin\":true,\"type\":\"pie\"}]},\"layout\":{\"autotypenumbers\":\"strict\",\"colorway\":[\"#636efa\",\"#EF553B\",\"#00cc96\",\"#ab63fa\",\"#FFA15A\",\"#19d3f3\",\"#FF6692\",\"#B6E880\",\"#FF97FF\",\"#FECB52\"],\"font\":{\"color\":\"#2a3f5f\"},\"hovermode\":\"closest\",\"hoverlabel\":{\"align\":\"left\"},\"paper_bgcolor\":\"white\",\"plot_bgcolor\":\"#E5ECF6\",\"polar\":{\"bgcolor\":\"#E5ECF6\",\"angularaxis\":{\"gridcolor\":\"white\",\"linecolor\":\"white\",\"ticks\":\"\"},\"radialaxis\":{\"gridcolor\":\"white\",\"linecolor\":\"white\",\"ticks\":\"\"}},\"ternary\":{\"bgcolor\":\"#E5ECF6\",\"aaxis\":{\"gridcolor\":\"white\",\"linecolor\":\"white\",\"ticks\":\"\"},\"baxis\":{\"gridcolor\":\"white\",\"linecolor\":\"white\",\"ticks\":\"\"},\"caxis\":{\"gridcolor\":\"white\",\"linecolor\":\"white\",\"ticks\":\"\"}},\"coloraxis\":{\"colorbar\":{\"outlinewidth\":0,\"ticks\":\"\"}},\"colorscale\":{\"sequential\":[[0.0,\"#0d0887\"],[0.1111111111111111,\"#46039f\"],[0.2222222222222222,\"#7201a8\"],[0.3333333333333333,\"#9c179e\"],[0.4444444444444444,\"#bd3786\"],[0.5555555555555556,\"#d8576b\"],[0.6666666666666666,\"#ed7953\"],[0.7777777777777778,\"#fb9f3a\"],[0.8888888888888888,\"#fdca26\"],[1.0,\"#f0f921\"]],\"sequentialminus\":[[0.0,\"#0d0887\"],[0.1111111111111111,\"#46039f\"],[0.2222222222222222,\"#7201a8\"],[0.3333333333333333,\"#9c179e\"],[0.4444444444444444,\"#bd3786\"],[0.5555555555555556,\"#d8576b\"],[0.6666666666666666,\"#ed7953\"],[0.7777777777777778,\"#fb9f3a\"],[0.8888888888888888,\"#fdca26\"],[1.0,\"#f0f921\"]],\"diverging\":[[0,\"#8e0152\"],[0.1,\"#c51b7d\"],[0.2,\"#de77ae\"],[0.3,\"#f1b6da\"],[0.4,\"#fde0ef\"],[0.5,\"#f7f7f7\"],[0.6,\"#e6f5d0\"],[0.7,\"#b8e186\"],[0.8,\"#7fbc41\"],[0.9,\"#4d9221\"],[1,\"#276419\"]]},\"xaxis\":{\"gridcolor\":\"white\",\"linecolor\":\"white\",\"ticks\":\"\",\"title\":{\"standoff\":15},\"zerolinecolor\":\"white\",\"automargin\":true,\"zerolinewidth\":2},\"yaxis\":{\"gridcolor\":\"white\",\"linecolor\":\"white\",\"ticks\":\"\",\"title\":{\"standoff\":15},\"zerolinecolor\":\"white\",\"automargin\":true,\"zerolinewidth\":2},\"scene\":{\"xaxis\":{\"backgroundcolor\":\"#E5ECF6\",\"gridcolor\":\"white\",\"linecolor\":\"white\",\"showbackground\":true,\"ticks\":\"\",\"zerolinecolor\":\"white\",\"gridwidth\":2},\"yaxis\":{\"backgroundcolor\":\"#E5ECF6\",\"gridcolor\":\"white\",\"linecolor\":\"white\",\"showbackground\":true,\"ticks\":\"\",\"zerolinecolor\":\"white\",\"gridwidth\":2},\"zaxis\":{\"backgroundcolor\":\"#E5ECF6\",\"gridcolor\":\"white\",\"linecolor\":\"white\",\"showbackground\":true,\"ticks\":\"\",\"zerolinecolor\":\"white\",\"gridwidth\":2}},\"shapedefaults\":{\"line\":{\"color\":\"#2a3f5f\"}},\"annotationdefaults\":{\"arrowcolor\":\"#2a3f5f\",\"arrowhead\":0,\"arrowwidth\":1},\"geo\":{\"bgcolor\":\"white\",\"landcolor\":\"#E5ECF6\",\"subunitcolor\":\"white\",\"showland\":true,\"showlakes\":true,\"lakecolor\":\"white\"},\"title\":{\"x\":0.05},\"mapbox\":{\"style\":\"light\"}}},\"xaxis\":{\"anchor\":\"y\",\"domain\":[0.0,1.0],\"title\":{\"text\":\"Constituency\"}},\"yaxis\":{\"anchor\":\"x\",\"domain\":[0.0,1.0],\"title\":{\"text\":\"Winning Percentage\"}},\"legend\":{\"title\":{\"text\":\"Type\"},\"tracegroupgap\":0},\"margin\":{\"t\":60},\"title\":{\"text\":\"BJP Winning Constituencies: Actual vs Predicted Winning Percentages\"}},                        {\"responsive\": true}                    ).then(function(){\n",
       "                            \n",
       "var gd = document.getElementById('9ec24d9c-34b9-4a52-a353-1e1029c145fc');\n",
       "var x = new MutationObserver(function (mutations, observer) {{\n",
       "        var display = window.getComputedStyle(gd).display;\n",
       "        if (!display || display === 'none') {{\n",
       "            console.log([gd, 'removed!']);\n",
       "            Plotly.purge(gd);\n",
       "            observer.disconnect();\n",
       "        }}\n",
       "}});\n",
       "\n",
       "// Listen for the removal of the full notebook cells\n",
       "var notebookContainer = gd.closest('#notebook-container');\n",
       "if (notebookContainer) {{\n",
       "    x.observe(notebookContainer, {childList: true});\n",
       "}}\n",
       "\n",
       "// Listen for the clearing of the current output cell\n",
       "var outputEl = gd.closest('.output');\n",
       "if (outputEl) {{\n",
       "    x.observe(outputEl, {childList: true});\n",
       "}}\n",
       "\n",
       "                        })                };                });            </script>        </div>"
      ]
     },
     "metadata": {},
     "output_type": "display_data"
    }
   ],
   "source": [
    "import pandas as pd\n",
    "from sklearn.model_selection import train_test_split\n",
    "from sklearn.linear_model import Lasso\n",
    "import numpy as np\n",
    "import plotly.express as px\n",
    "\n",
    "# Load the data\n",
    "file_path = \"C:/Users/viina/Downloads/archive (4)/2019_Results_Winning_Candidate.csv\"\n",
    "data = pd.read_csv(file_path)\n",
    "\n",
    "# Filter data for BJP winning constituencies\n",
    "bjp_data = data[data['Party'] == 'Bharatiya Janata Party']\n",
    "\n",
    "# Define the features and target variable\n",
    "X = np.arange(len(bjp_data)).reshape(-1, 1)  # Using index as feature for simplicity\n",
    "y = bjp_data['Percentage'].values\n",
    "\n",
    "# Split the data into training and test sets\n",
    "X_train, X_test, y_train, y_test = train_test_split(X, y, test_size=0.2, random_state=42)\n",
    "\n",
    "# Train the Lasso regression model\n",
    "lasso = Lasso(alpha=0.1)\n",
    "lasso.fit(X_train, y_train)\n",
    "\n",
    "# Predict the percentages on the test set\n",
    "y_pred = lasso.predict(X_test)\n",
    "\n",
    "# Create a DataFrame for the test set results\n",
    "test_results = pd.DataFrame({\n",
    "    'Constituency': bjp_data.iloc[X_test.flatten()]['Constituency'].values,\n",
    "    'Actual Percentage': y_test,\n",
    "    'Predicted Percentage': y_pred\n",
    "})\n",
    "\n",
    "# Plot the actual vs predicted percentages using Plotly\n",
    "fig = px.scatter(test_results, x='Constituency', y='Actual Percentage', \n",
    "                 color=px.Constant('Actual'), \n",
    "                 labels={'color': 'Type'}, \n",
    "                 hover_data={'Constituency': True, 'Actual Percentage': True, 'Predicted Percentage': False})\n",
    "fig.add_scatter(x=test_results['Constituency'], y=test_results['Predicted Percentage'], \n",
    "                mode='markers', name='Predicted', \n",
    "                hoverinfo='text', \n",
    "                text=test_results['Constituency'])\n",
    "\n",
    "fig.update_layout(\n",
    "    title='BJP Winning Constituencies: Actual vs Predicted Winning Percentages',\n",
    "    xaxis_title='Constituency',\n",
    "    yaxis_title='Winning Percentage'\n",
    ")\n",
    "\n",
    "fig.show()\n"
   ]
  },
  {
   "cell_type": "code",
   "execution_count": null,
   "id": "b2298ce7",
   "metadata": {},
   "outputs": [],
   "source": []
  }
 ],
 "metadata": {
  "kernelspec": {
   "display_name": "Python 3 (ipykernel)",
   "language": "python",
   "name": "python3"
  },
  "language_info": {
   "codemirror_mode": {
    "name": "ipython",
    "version": 3
   },
   "file_extension": ".py",
   "mimetype": "text/x-python",
   "name": "python",
   "nbconvert_exporter": "python",
   "pygments_lexer": "ipython3",
   "version": "3.10.9"
  }
 },
 "nbformat": 4,
 "nbformat_minor": 5
}
